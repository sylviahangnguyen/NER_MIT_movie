{
  "nbformat": 4,
  "nbformat_minor": 0,
  "metadata": {
    "colab": {
      "name": "NER_eng_BiLSTM.ipynb",
      "provenance": [],
      "collapsed_sections": [
        "YsSB3CDt2NxF",
        "WP5M3GnHxY-9",
        "MRofcZfAUd9g",
        "4p6nLSAePE9U",
        "Hm9UnKBqUeZA",
        "vfswr-bAXwl5"
      ],
      "toc_visible": true
    },
    "kernelspec": {
      "name": "python3",
      "display_name": "Python 3"
    },
    "accelerator": "GPU"
  },
  "cells": [
    {
      "cell_type": "markdown",
      "metadata": {
        "id": "YsSB3CDt2NxF"
      },
      "source": [
        "## Outline\n",
        "- [Introduction](#0)\n",
        "    - [Import libraries](#0.1)\n",
        "- [Part 1:  Explore the data](#1)\n",
        "    - [1.1  Import the datasets](#1.1)\n",
        "    - [1.2  Exploratory Analysis](#1.2)\n",
        "    - [Conclusion after analysis](#1.3)\n",
        "    \n",
        "- [Part 2:  Pre-process the data](#2)\n",
        "    - [2.1  Stemming](#2.1)\n",
        "    - [2.2  Lemmatization](#2.2)\n",
        "    - [2.3  Replacement](#2.3)\n",
        "    - [2.4  Pre-processing pipeline](#2.4)\n",
        "    - [2.5  Split to train/val datasets](#2.5)\n",
        "    - [2.6  Tokenization and Padding](#2.6)\n",
        "    - [2.7  Check the Imbalance in train dataset](#2.7)\n",
        "    - [2.8  One-hot encoding](#2.8)\n",
        "\n",
        "- [Part 3:  Build the model](#3)\n",
        "    - [3.1  Glove Embedding](#3.1)\n",
        "    - [3.2  Define the model](#3.2)\n",
        "    - [3.3  Callbacks](#3.3)\n",
        "    \n",
        "\n",
        "- [Part 4:  Train the model](#4)\n",
        "- [Part 5:  Test the model](#5)\n",
        "- [Part 6:  Test with your own sentence](#6)\n",
        "\n",
        "- [Part 7:  Analyse the incorrect predictions](#7)\n",
        "    - [Potential improvement](#7.1)\n",
        "\n",
        "- [Export result to .tsv file](#8)\n",
        "\n"
      ]
    },
    {
      "cell_type": "markdown",
      "metadata": {
        "id": "Uj9t5Iav2nzR"
      },
      "source": [
        "<a name=\"0\"></a>\n",
        "# Introduction\n"
      ]
    },
    {
      "cell_type": "markdown",
      "metadata": {
        "id": "pZDTBRDfi6u7"
      },
      "source": [
        "<a name=\"0.1\"></a>\n",
        "## Import libraries"
      ]
    },
    {
      "cell_type": "code",
      "metadata": {
        "id": "Ntqkdg4N3HW4",
        "colab": {
          "base_uri": "https://localhost:8080/"
        },
        "outputId": "026c8545-ec38-4d57-9ca9-e7d508510898"
      },
      "source": [
        "!python --version\n",
        "import os\n",
        "\n",
        "%tensorflow_version 2.x\n",
        "import tensorflow as tf\n",
        "print(tf.__version__)\n",
        "\n",
        "# build the tokenized sentences and tags\n",
        "from tensorflow.keras.preprocessing.text import Tokenizer\n",
        "from tensorflow.keras.preprocessing.sequence import pad_sequences\n",
        "\n",
        "from tensorflow.keras.utils import to_categorical\n",
        "from tensorflow.keras.initializers import Constant\n",
        "from tensorflow.keras import Model\n",
        "from tensorflow.keras.layers import Input, Embedding, Bidirectional, LSTM, \\\n",
        "TimeDistributed, Dense, Dropout\n",
        "from tensorflow.keras.callbacks import ModelCheckpoint, EarlyStopping\n",
        "\n",
        "import numpy as np # linear algebra\n",
        "import pandas as pd # data processing, CSV file I/O (e.g. pd.read_csv)\n",
        "import matplotlib.pyplot as plt\n",
        "%matplotlib inline\n",
        "import seaborn as sns\n",
        "from collections import Counter\n",
        "import random as rnd\n",
        "from nltk.corpus import stopwords\n",
        "import nltk\n",
        "nltk.download('stopwords')\n",
        "from nltk.stem import WordNetLemmatizer \n",
        "from nltk.stem import PorterStemmer\n",
        "\n",
        "!pip install sklearn_crfsuite\n",
        "from sklearn_crfsuite.metrics import flat_classification_report\n",
        "!pip install seqeval\n",
        "from seqeval.metrics import precision_score, recall_score, f1_score, classification_report\n",
        "import csv\n"
      ],
      "execution_count": null,
      "outputs": [
        {
          "output_type": "stream",
          "text": [
            "Python 3.7.10\n",
            "2.5.0\n",
            "[nltk_data] Downloading package stopwords to /root/nltk_data...\n",
            "[nltk_data]   Unzipping corpora/stopwords.zip.\n",
            "Collecting sklearn_crfsuite\n",
            "  Downloading https://files.pythonhosted.org/packages/25/74/5b7befa513482e6dee1f3dd68171a6c9dfc14c0eaa00f885ffeba54fe9b0/sklearn_crfsuite-0.3.6-py2.py3-none-any.whl\n",
            "Requirement already satisfied: six in /usr/local/lib/python3.7/dist-packages (from sklearn_crfsuite) (1.15.0)\n",
            "Requirement already satisfied: tabulate in /usr/local/lib/python3.7/dist-packages (from sklearn_crfsuite) (0.8.9)\n",
            "Collecting python-crfsuite>=0.8.3\n",
            "\u001b[?25l  Downloading https://files.pythonhosted.org/packages/79/47/58f16c46506139f17de4630dbcfb877ce41a6355a1bbf3c443edb9708429/python_crfsuite-0.9.7-cp37-cp37m-manylinux1_x86_64.whl (743kB)\n",
            "\u001b[K     |████████████████████████████████| 747kB 12.5MB/s \n",
            "\u001b[?25hRequirement already satisfied: tqdm>=2.0 in /usr/local/lib/python3.7/dist-packages (from sklearn_crfsuite) (4.41.1)\n",
            "Installing collected packages: python-crfsuite, sklearn-crfsuite\n",
            "Successfully installed python-crfsuite-0.9.7 sklearn-crfsuite-0.3.6\n",
            "Collecting seqeval\n",
            "\u001b[?25l  Downloading https://files.pythonhosted.org/packages/9d/2d/233c79d5b4e5ab1dbf111242299153f3caddddbb691219f363ad55ce783d/seqeval-1.2.2.tar.gz (43kB)\n",
            "\u001b[K     |████████████████████████████████| 51kB 5.0MB/s \n",
            "\u001b[?25hRequirement already satisfied: numpy>=1.14.0 in /usr/local/lib/python3.7/dist-packages (from seqeval) (1.19.5)\n",
            "Requirement already satisfied: scikit-learn>=0.21.3 in /usr/local/lib/python3.7/dist-packages (from seqeval) (0.22.2.post1)\n",
            "Requirement already satisfied: scipy>=0.17.0 in /usr/local/lib/python3.7/dist-packages (from scikit-learn>=0.21.3->seqeval) (1.4.1)\n",
            "Requirement already satisfied: joblib>=0.11 in /usr/local/lib/python3.7/dist-packages (from scikit-learn>=0.21.3->seqeval) (1.0.1)\n",
            "Building wheels for collected packages: seqeval\n",
            "  Building wheel for seqeval (setup.py) ... \u001b[?25l\u001b[?25hdone\n",
            "  Created wheel for seqeval: filename=seqeval-1.2.2-cp37-none-any.whl size=16184 sha256=ae07dcf27893686fb86ad23dc99961e6c43db9b655a080d92441256538067ba7\n",
            "  Stored in directory: /root/.cache/pip/wheels/52/df/1b/45d75646c37428f7e626214704a0e35bd3cfc32eda37e59e5f\n",
            "Successfully built seqeval\n",
            "Installing collected packages: seqeval\n",
            "Successfully installed seqeval-1.2.2\n"
          ],
          "name": "stdout"
        }
      ]
    },
    {
      "cell_type": "markdown",
      "metadata": {
        "id": "T58oiLSU25Za"
      },
      "source": [
        "<a name=\"1\"></a>\n",
        "# Part 1:  Explore the data"
      ]
    },
    {
      "cell_type": "markdown",
      "metadata": {
        "id": "WP5M3GnHxY-9"
      },
      "source": [
        "<a name=\"1.1\"></a>\n",
        "## 1.1 Import the datasets"
      ]
    },
    {
      "cell_type": "code",
      "metadata": {
        "colab": {
          "base_uri": "https://localhost:8080/"
        },
        "id": "iHhxVylamxCG",
        "outputId": "50607de3-273f-432a-e13b-af3344732e19"
      },
      "source": [
        "# Create new directories\n",
        "!mkdir -p /data/eng\n",
        "!mkdir -p /data/trivia10k13\n",
        "!mkdir -p /model\n",
        "\n",
        "# Download data\n",
        "!wget --no-check-certificate \\\n",
        "https://groups.csail.mit.edu/sls/downloads/movie/engtrain.bio \\\n",
        "-O /data/eng/train.tsv\n",
        "\n",
        "!wget --no-check-certificate \\\n",
        "https://groups.csail.mit.edu/sls/downloads/movie/engtest.bio \\\n",
        "-O /data/eng/test.tsv\n",
        "\n",
        "!wget --no-check-certificate \\\n",
        "https://groups.csail.mit.edu/sls/downloads/movie/trivia10k13train.bio \\\n",
        "-O /data/trivia10k13/train.tsv\n",
        "\n",
        "!wget --no-check-certificate \\\n",
        "https://groups.csail.mit.edu/sls/downloads/movie/trivia10k13test.bio \\\n",
        "-O /data/trivia10k13/test.tsv"
      ],
      "execution_count": null,
      "outputs": [
        {
          "output_type": "stream",
          "text": [
            "--2021-06-03 08:19:10--  https://groups.csail.mit.edu/sls/downloads/movie/engtrain.bio\n",
            "Resolving groups.csail.mit.edu (groups.csail.mit.edu)... 128.30.2.44\n",
            "Connecting to groups.csail.mit.edu (groups.csail.mit.edu)|128.30.2.44|:443... connected.\n",
            "HTTP request sent, awaiting response... 200 OK\n",
            "Length: 1013492 (990K)\n",
            "Saving to: ‘/data/eng/train.tsv’\n",
            "\n",
            "/data/eng/train.tsv 100%[===================>] 989.74K  1.85MB/s    in 0.5s    \n",
            "\n",
            "2021-06-03 08:19:11 (1.85 MB/s) - ‘/data/eng/train.tsv’ saved [1013492/1013492]\n",
            "\n",
            "--2021-06-03 08:19:11--  https://groups.csail.mit.edu/sls/downloads/movie/engtest.bio\n",
            "Resolving groups.csail.mit.edu (groups.csail.mit.edu)... 128.30.2.44\n",
            "Connecting to groups.csail.mit.edu (groups.csail.mit.edu)|128.30.2.44|:443... connected.\n",
            "HTTP request sent, awaiting response... 200 OK\n",
            "Length: 252636 (247K)\n",
            "Saving to: ‘/data/eng/test.tsv’\n",
            "\n",
            "/data/eng/test.tsv  100%[===================>] 246.71K   714KB/s    in 0.3s    \n",
            "\n",
            "2021-06-03 08:19:12 (714 KB/s) - ‘/data/eng/test.tsv’ saved [252636/252636]\n",
            "\n",
            "--2021-06-03 08:19:12--  https://groups.csail.mit.edu/sls/downloads/movie/trivia10k13train.bio\n",
            "Resolving groups.csail.mit.edu (groups.csail.mit.edu)... 128.30.2.44\n",
            "Connecting to groups.csail.mit.edu (groups.csail.mit.edu)|128.30.2.44|:443... connected.\n",
            "HTTP request sent, awaiting response... 200 OK\n",
            "Length: 1785558 (1.7M)\n",
            "Saving to: ‘/data/trivia10k13/train.tsv’\n",
            "\n",
            "/data/trivia10k13/t 100%[===================>]   1.70M  2.61MB/s    in 0.7s    \n",
            "\n",
            "2021-06-03 08:19:13 (2.61 MB/s) - ‘/data/trivia10k13/train.tsv’ saved [1785558/1785558]\n",
            "\n",
            "--2021-06-03 08:19:13--  https://groups.csail.mit.edu/sls/downloads/movie/trivia10k13test.bio\n",
            "Resolving groups.csail.mit.edu (groups.csail.mit.edu)... 128.30.2.44\n",
            "Connecting to groups.csail.mit.edu (groups.csail.mit.edu)|128.30.2.44|:443... connected.\n",
            "HTTP request sent, awaiting response... 200 OK\n",
            "Length: 438729 (428K)\n",
            "Saving to: ‘/data/trivia10k13/test.tsv’\n",
            "\n",
            "/data/trivia10k13/t 100%[===================>] 428.45K   995KB/s    in 0.4s    \n",
            "\n",
            "2021-06-03 08:19:14 (995 KB/s) - ‘/data/trivia10k13/test.tsv’ saved [438729/438729]\n",
            "\n"
          ],
          "name": "stdout"
        }
      ]
    },
    {
      "cell_type": "code",
      "metadata": {
        "colab": {
          "base_uri": "https://localhost:8080/"
        },
        "id": "-D8_xEVDN-dj",
        "outputId": "fe057421-cf99-47e0-cdae-d56f342434b9"
      },
      "source": [
        "def get_sentence(file_path):\n",
        "    '''\n",
        "        Input:\n",
        "            file_path - path to the tsv file\n",
        "        Output:\n",
        "            sentences - list of sentences in string format\n",
        "            tags - list associated tags in string format\n",
        "    '''\n",
        "    sentences = []\n",
        "    tags = []\n",
        "    with open(file_path) as f:\n",
        "        contents = f.read()\n",
        "        sens_tags = contents.split(\"\\n\\n\")\n",
        "        for sen_tag in sens_tags:\n",
        "            words_tags = sen_tag.split(\"\\n\")\n",
        "            while (\"\" in words_tags):\n",
        "                words_tags.remove(\"\")\n",
        "            sen = ' '.join([word_tag.split(\"\\t\")[1] for word_tag in words_tags])\n",
        "            tag = ' '.join([word_tag.split(\"\\t\")[0] for word_tag in words_tags])\n",
        "            sentences.append(sen)\n",
        "            tags.append(tag)\n",
        "\n",
        "    return sentences, tags\n",
        "\n",
        "\n",
        "train_path = \"/data/eng/train.tsv\"\n",
        "test_path = \"/data/eng/test.tsv\"\n",
        "\n",
        "sentences, tags = get_sentence(train_path)\n",
        "test_sentences, test_tags = get_sentence(test_path)\n",
        "\n",
        "print(\"The train dataset has {} sentences.\".format(len(sentences)))\n",
        "print(\"The test dataset has {} sentences.\".format(len(test_sentences)))"
      ],
      "execution_count": null,
      "outputs": [
        {
          "output_type": "stream",
          "text": [
            "The train dataset has 9776 sentences.\n",
            "The test dataset has 2444 sentences.\n"
          ],
          "name": "stdout"
        }
      ]
    },
    {
      "cell_type": "markdown",
      "metadata": {
        "id": "SJyYqFkQNCoW"
      },
      "source": [
        "<a name=\"1.2\"></a>\n",
        "## 1.2 Exploratory Analysis"
      ]
    },
    {
      "cell_type": "code",
      "metadata": {
        "colab": {
          "base_uri": "https://localhost:8080/",
          "height": 198
        },
        "id": "Q6KzO6mq8326",
        "outputId": "282abcf1-586b-4c59-87ce-dddcd4c0b66d"
      },
      "source": [
        "# Take a look at the data\n",
        "df = pd.read_csv(train_path, delimiter=\"\\t\", names=[\"Tag\", \"Word\"])\n",
        "df.head()"
      ],
      "execution_count": null,
      "outputs": [
        {
          "output_type": "execute_result",
          "data": {
            "text/html": [
              "<div>\n",
              "<style scoped>\n",
              "    .dataframe tbody tr th:only-of-type {\n",
              "        vertical-align: middle;\n",
              "    }\n",
              "\n",
              "    .dataframe tbody tr th {\n",
              "        vertical-align: top;\n",
              "    }\n",
              "\n",
              "    .dataframe thead th {\n",
              "        text-align: right;\n",
              "    }\n",
              "</style>\n",
              "<table border=\"1\" class=\"dataframe\">\n",
              "  <thead>\n",
              "    <tr style=\"text-align: right;\">\n",
              "      <th></th>\n",
              "      <th>Tag</th>\n",
              "      <th>Word</th>\n",
              "    </tr>\n",
              "  </thead>\n",
              "  <tbody>\n",
              "    <tr>\n",
              "      <th>0</th>\n",
              "      <td>O</td>\n",
              "      <td>what</td>\n",
              "    </tr>\n",
              "    <tr>\n",
              "      <th>1</th>\n",
              "      <td>O</td>\n",
              "      <td>movies</td>\n",
              "    </tr>\n",
              "    <tr>\n",
              "      <th>2</th>\n",
              "      <td>O</td>\n",
              "      <td>star</td>\n",
              "    </tr>\n",
              "    <tr>\n",
              "      <th>3</th>\n",
              "      <td>B-ACTOR</td>\n",
              "      <td>bruce</td>\n",
              "    </tr>\n",
              "    <tr>\n",
              "      <th>4</th>\n",
              "      <td>I-ACTOR</td>\n",
              "      <td>willis</td>\n",
              "    </tr>\n",
              "  </tbody>\n",
              "</table>\n",
              "</div>"
            ],
            "text/plain": [
              "       Tag    Word\n",
              "0        O    what\n",
              "1        O  movies\n",
              "2        O    star\n",
              "3  B-ACTOR   bruce\n",
              "4  I-ACTOR  willis"
            ]
          },
          "metadata": {
            "tags": []
          },
          "execution_count": 4
        }
      ]
    },
    {
      "cell_type": "markdown",
      "metadata": {
        "id": "tBVUmUQtFRJ1"
      },
      "source": [
        "<a name=\"1.2.1\"></a>\n",
        "### 1.2.1 Sentence Length \n"
      ]
    },
    {
      "cell_type": "code",
      "metadata": {
        "colab": {
          "base_uri": "https://localhost:8080/",
          "height": 584
        },
        "id": "h2J38zVa-wkD",
        "outputId": "a8c282e7-c675-42e9-a23a-461f0b386d0b"
      },
      "source": [
        "plt.style.use(\"dark_background\")\n",
        "\n",
        "# How long are the sentences?\n",
        "def plot_sentence_length_histogram(list_sentences):\n",
        "    '''\n",
        "      Input:\n",
        "        list_sentences - a list of sentences\n",
        "      Output:\n",
        "        [print] - Min, Max, Median and Average value of sentence length\n",
        "        [plot] - Histogram plot of sentence length\n",
        "    '''\n",
        "    lengths = [len(sen.split(' ')) for sen in list_sentences]\n",
        "    a4_dims = (11.7, 8.27)\n",
        "    fig, ax = plt.subplots(figsize=a4_dims)\n",
        "    sns.histplot(lengths)\n",
        "    plt.xlabel(\"Number of tokens in a sentence\")\n",
        "    plt.ylabel(\"Number of occurrences\")\n",
        "    print(\"Min: \",np.min(lengths))\n",
        "    print(\"Max: \",np.max(lengths))\n",
        "    \n",
        "    print(\"Median: \",np.median(lengths))\n",
        "    print(\"Average: \",round(np.mean(lengths),2))\n",
        "\n",
        "plot_sentence_length_histogram(sentences)"
      ],
      "execution_count": null,
      "outputs": [
        {
          "output_type": "stream",
          "text": [
            "Min:  1\n",
            "Max:  47\n",
            "Median:  9.0\n",
            "Average:  10.18\n"
          ],
          "name": "stdout"
        },
        {
          "output_type": "display_data",
          "data": {
            "image/png": "[encoded data removed]",
            "text/plain": [
              "<Figure size 842.4x595.44 with 1 Axes>"
            ]
          },
          "metadata": {
            "tags": []
          }
        }
      ]
    },
    {
      "cell_type": "markdown",
      "metadata": {
        "id": "qY8VCLDQhCbJ"
      },
      "source": [
        "### 1.2.2 Entity Length"
      ]
    },
    {
      "cell_type": "code",
      "metadata": {
        "colab": {
          "base_uri": "https://localhost:8080/",
          "height": 584
        },
        "id": "XQrFzlrkhCm3",
        "outputId": "310ea49d-586a-4ce8-b009-2aaf519a4c9d"
      },
      "source": [
        "# How long are the entities?\n",
        "def plot_entity_length_histogram(series):\n",
        "    '''\n",
        "      Input:\n",
        "        series - a pandas series of the tags\n",
        "      Output:\n",
        "        [print] - Min, Max, Median and Average value of entity length\n",
        "        [plot] - Histogram plot of entity length\n",
        "    '''\n",
        "    tags_list=[tag for tag in series]\n",
        "    tag_length = []\n",
        "    current_length = 0\n",
        "    for tag in tags_list:\n",
        "        if tag.startswith(\"B\"):\n",
        "            tag_length.append(current_length)\n",
        "            current_length = 1\n",
        "        elif tag.startswith(\"I\"):\n",
        "            current_length += 1\n",
        "    tag_length = tag_length[1:]\n",
        "    \n",
        "    a4_dims = (11.7, 8.27)\n",
        "    fig, ax = plt.subplots(figsize=a4_dims)\n",
        "    sns.histplot(tag_length)\n",
        "    plt.xlabel(\"Number of tokens in a tag\")\n",
        "    plt.ylabel(\"Number of occurrences\")\n",
        "    print(\"Min: \",np.min(tag_length))\n",
        "    print(\"Max: \",np.max(tag_length))\n",
        "    print(\"Median: \",np.median(tag_length))\n",
        "    print(\"Average: \",round(np.mean(tag_length),2))\n",
        "\n",
        "plot_entity_length_histogram(df[\"Tag\"])"
      ],
      "execution_count": null,
      "outputs": [
        {
          "output_type": "stream",
          "text": [
            "Min:  1\n",
            "Max:  16\n",
            "Median:  2.0\n",
            "Average:  1.81\n"
          ],
          "name": "stdout"
        },
        {
          "output_type": "display_data",
          "data": {
            "image/png": "[encoded data removed]",
            "text/plain": [
              "<Figure size 842.4x595.44 with 1 Axes>"
            ]
          },
          "metadata": {
            "tags": []
          }
        }
      ]
    },
    {
      "cell_type": "markdown",
      "metadata": {
        "id": "OcoUQIfwfOAe"
      },
      "source": [
        "### 1.2.3 Token frequency"
      ]
    },
    {
      "cell_type": "code",
      "metadata": {
        "colab": {
          "base_uri": "https://localhost:8080/",
          "height": 567
        },
        "id": "b2kvMJJ3KvXu",
        "outputId": "757556df-681a-4624-c19b-94bf69835f53"
      },
      "source": [
        "def plot_top_non_stopwords_barchart(series, top=20, word=True):\n",
        "    '''\n",
        "      Input:\n",
        "        series - a pd.Series of words or tags\n",
        "        top - number of most common words to plot\n",
        "      Output:\n",
        "        [print] - No of distinct words in train dataset\n",
        "        [plot] - Barchart of most common words' occurrence\n",
        "    '''\n",
        "    stop=set(stopwords.words('english'))\n",
        "    value = 'words' if word == True else 'tags'\n",
        "    corpus=[word for word in series]\n",
        "    counter=Counter(corpus)\n",
        "    print(\"There are {} distinct {} in dataset\".format(len(dict(counter)), value))\n",
        "    print(dict(counter))\n",
        "\n",
        "    most=counter.most_common()\n",
        "    x, y=[], []\n",
        "    for word,count in most:\n",
        "        if (word not in stop):\n",
        "            x.append(count)\n",
        "            y.append(word)\n",
        "        if len(x) == top:\n",
        "          break\n",
        "    a4_dims = (11.7, 8.27)\n",
        "    fig, ax = plt.subplots(figsize=a4_dims)\n",
        "    sns.barplot(x=x,y=y)\n",
        "    plt.xlabel(\"Number of {} occurrences in a sentence\".format(value))\n",
        "    plt.ylabel(\"Most common {}s\".format(value))\n",
        "    return dict(counter)\n",
        "\n",
        "word_counter = plot_top_non_stopwords_barchart(df[\"Word\"], top=40)"
      ],
      "execution_count": null,
      "outputs": [
        {
          "output_type": "stream",
          "text": [
            "There are 6710 distinct words in dataset\n",
            "{'what': 2938, 'movies': 1702, 'star': 303, 'bruce': 37, 'willis': 24, 'show': 588, 'me': 958, 'films': 510, 'with': 1302, 'drew': 12, 'barrymore': 8, 'from': 895, 'the': 5331, '1980s': 74, 'starred': 245, 'both': 8, 'al': 23, 'pacino': 17, 'and': 777, 'robert': 86, 'deniro': 11, 'find': 810, 'all': 278, 'of': 1414, 'that': 1640, 'harold': 3, 'ramis': 2, 'bill': 33, 'murray': 14, 'a': 4224, 'movie': 3533, 'quote': 53, 'about': 1182, 'baseball': 11, 'in': 2789, 'it': 197, 'have': 335, 'mississippi': 3, 'title': 133, 'science': 163, 'fiction': 162, 'directed': 1122, 'by': 940, 'steven': 50, 'spielberg': 34, 'do': 231, 'you': 413, 'any': 738, 'thrillers': 21, 'sofia': 10, 'coppola': 26, 'leonard': 8, 'cohen': 4, 'songs': 18, 'been': 178, 'used': 16, 'elvis': 10, 'set': 39, 'hawaii': 2, 'is': 2214, 'references': 1, 'zydrate': 1, 'are': 765, 'there': 1062, 'musical': 107, 'patrick': 23, 'dempsey': 1, 'list': 795, 'westerns': 21, 'starring': 759, 'john': 155, 'wayne': 22, 'military': 56, 'related': 4, 'demi': 5, 'moore': 19, 'did': 770, 'stephen': 12, 'made': 300, 'sex': 6, 'or': 42, 'horror': 242, 'must': 90, 'be': 76, 'to': 413, 'watch': 53, 'ang': 2, 'lee': 56, 'direct': 268, 'costume': 2, 'drama': 199, '1800s': 1, 'who': 599, 'first': 100, 'james': 129, 'bond': 37, 'r': 653, 'rated': 1546, 'best': 147, 'picture': 24, 'oscar': 28, 'winners': 3, 'where': 213, 'can': 187, 'i': 433, 'buy': 10, 'sucker': 1, 'punch': 2, 'soundtrack': 64, 'british': 8, 'came': 189, 'out': 384, '1990s': 85, 'royal': 1, 'family': 97, 'camerons': 3, 'titanic': 21, 'was': 1559, 'last': 562, 'judy': 13, 'garland': 11, 'spoof': 1, 'charlie': 20, 'sheen': 10, 'id': 69, 'like': 174, 'documentary': 150, 'doctors': 1, 'chicago': 3, 'hospital': 3, 'action': 270, 'woo': 2, 'romantic': 129, 'film': 1201, 'protagonist': 1, 'doesnt': 4, 'fall': 2, 'love': 68, 'does': 66, 'original': 14, 'little': 23, 'mermaid': 4, 'hans': 5, 'christian': 23, 'anderson': 21, 'come': 127, 'on': 264, 'dvd': 8, 'disney': 48, 'beyonce': 1, 'sang': 7, 'shawn': 5, 'levy': 7, '2010s': 2, 'new': 46, 'david': 85, 'dhawan': 1, 'hannibal': 2, 'lector': 2, 'childrens': 15, 'billy': 39, 'crystal': 8, 'reviewed': 11, 'rock': 15, 'ballads': 1, 'were': 235, 'free': 1, 'willy': 9, 'filmed': 26, 'jennifer': 23, 'aniston': 9, 'main': 36, 'character': 99, 'wars': 32, 'im': 139, 'looking': 254, 'for': 612, 'song': 168, 'day': 46, 'has': 561, 'shortest': 1, 'trailer': 90, 'will': 70, 'always': 8, 'want': 121, 'see': 188, 'clint': 49, 'eastwood': 47, 'comedy': 322, 'whitney': 6, 'houstons': 1, 'u': 2, 'had': 149, 'fast': 9, 'furious': 8, 'jack': 53, 'nicholson': 11, 'an': 657, 'insane': 5, 'asylum': 1, 'dramatic': 10, 'donald': 6, 'sutherland': 9, 'rocky': 14, 'aaron': 4, 'sorkin': 1, 'trent': 1, 'reznor': 1, 'michael': 105, 'jackson': 32, '1970s': 38, 'political': 16, 'alec': 7, 'baldwin': 4, 'keaton': 13, 'play': 81, 'batman': 12, 'ewan': 7, 'macgregor': 3, 'singing': 3, 'superman': 11, 'romance': 110, 'popular': 117, '2002': 6, 'kevin': 45, 'smith': 42, 'jason': 51, 'mews': 1, 'suicide': 5, 'painless': 2, 'their': 7, 'world': 40, 'warcraft': 2, 'wes': 15, 'schwartzman': 1, 'savannah': 1, 'smiles': 1, 'owen': 4, 'wilson': 6, 'considered': 41, 'which': 345, 'features': 45, 'blaze': 1, 'glory': 4, 'maker': 1, 'planning': 2, 'produce': 2, 'farely': 1, 'brothers': 19, 'move': 21, 'frank': 36, 'sinatra': 3, 'something': 6, 'one': 44, 'armed': 2, 'man': 41, 'rick': 9, 'springfield': 2, 'steve': 41, 'martin': 52, 'cameron': 43, 'just': 24, 'two': 128, 'stars': 465, 'less': 4, 'angelina': 18, 'jolie': 16, 'released': 347, 'most': 62, '4': 6, 'winning': 22, '1998': 6, 'roadtrip': 1, 'ben': 15, 'stiller': 8, 'how': 190, 'many': 209, 'based': 79, 'texas': 7, 'chainsaw': 3, 'massacre': 4, 'jimmy': 13, 'stewart': 25, 'ever': 204, 'actor': 166, 'called': 82, 'matchstick': 2, 'men': 14, 'good': 542, 'nc': 151, '17': 152, 'not': 23, 'princess': 14, 'them': 57, 'comedies': 64, 'brad': 44, 'pitt': 33, '2000s': 35, 'godfather': 15, 'featured': 47, 'dude': 2, 'g': 240, 'war': 177, 'ii': 12, 'please': 95, 'locate': 7, 'george': 63, 'lucas': 27, '1996': 4, 'actors': 25, 'cameo': 4, 'spongebob': 1, 'year': 380, 'social': 4, 'network': 2, 'plot': 161, '1': 4, '1990': 169, '1991': 3, 'garry': 3, 'marshall': 15, '2011': 35, 'natalie': 9, 'portman': 2, 'dramas': 37, 'latest': 20, 'williams': 33, 'time': 39, 'car': 19, 'chases': 3, 'worst': 9, 'scary': 49, '2010': 184, 'thriller': 154, 'art': 2, 'heist': 3, 'late': 5, 'earl': 2, 'jones': 41, 'at': 61, 'end': 3, 'bronx': 3, 'tale': 17, 'top': 45, 'scorsesy': 1, 'moive': 2, 'pg': 791, '13': 558, 'ghosts': 13, 'dogs': 9, 'musicals': 26, 'antonio': 8, 'banderas': 7, 'hitchcock': 26, 'color': 3, 'animals': 6, 'five': 157, 'youre': 5, 'stories': 5, 'amanda': 7, 'seyfried': 3, 'ill': 11, 'back': 31, 'foreign': 8, 'blue': 8, 'rob': 23, 'reiner': 4, '1992': 2, 'drill': 1, 'team': 8, 'give': 55, 'ice': 15, 'baby': 11, 'vanilla': 1, 'atmospheric': 1, 'bambi': 1, 'teen': 29, 'got': 80, 'operas': 1, 'selma': 3, 'blair': 4, 'cars': 10, 'dragons': 5, 'clooney': 20, 'leonardo': 27, 'dicaprio': 24, 'danny': 25, 'devito': 10, 'krasinski': 1, 'look': 5, 'up': 71, 'could': 58, 'mobster': 4, 'friday': 8, '13th': 4, 'loved': 6, 'tomb': 1, 'raider': 1, 'carrel': 1, 'remake': 6, 'dirty': 8, 'dancing': 7, 'similar': 8, 'gnomeo': 2, 'juliet': 3, 'talking': 16, 'scorsese': 13, 'documentaries': 13, 'pollution': 2, 'china': 1, 'famous': 24, 'name': 486, 'cary': 17, 'grant': 22, 'eva': 3, 'marie': 1, 'saint': 4, 'billing': 1, 'backdraft': 1, 'theme': 32, '8': 3, 'mile': 4, 'america': 4, 'fererra': 1, 'susan': 11, 'sarandon': 7, 'jenna': 1, 'elfman': 4, 'julie': 15, 'andrews': 7, 'grease': 1, 'russel': 4, 'crowe': 9, 'mathematician': 1, '2001': 16, 'played': 99, 'ron': 25, 'weasley': 1, 'harry': 37, 'potter': 31, 'groups': 2, 'robbers': 1, 'robbing': 1, 'same': 6, 'bank': 9, 'whats': 111, 'coolio': 1, 'funniest': 8, 'mobsters': 2, 'recent': 31, 'sequel': 8, 'speed': 4, 'anthony': 28, 'minghella': 1, 'matt': 18, 'damon': 14, 'milos': 2, 'forman': 2, 'life': 26, 'together': 9, 'when': 97, 'hobbit': 4, 'woody': 24, 'allen': 33, 'other': 17, 'people': 62, 'think': 27, 'iii': 6, 'terrible': 2, 'highest': 31, 'kids': 26, 'release': 22, 'involving': 34, 'cartoons': 3, 'get': 52, 'biography': 104, 'real': 9, 'us': 5, 'president': 8, 'portrayed': 4, 'funny': 33, 'wedding': 5, 'toasts': 1, 'britney': 1, 'spears': 1, 'she': 8, 'satisfaction': 1, 'indiana': 19, 'judd': 7, 'apatow': 6, 'since': 5, 'dog': 9, 'chase': 25, 'statum': 1, 'nora': 1, 'ephron': 1, 'write': 5, 'spielbergs': 5, 'award': 15, 'well': 121, 'known': 16, 'julia': 26, 'roberts': 28, '1993': 1, '2012': 19, 'awful': 1, 'teenagers': 3, 'lost': 13, 'woods': 8, 'contained': 2, 'line': 19, 'phone': 3, 'home': 13, 'police': 28, 'pg13': 4, 'darren': 1, 'aranofsky': 1, 'reviews': 49, 'before': 19, '2000': 159, 'giraffe': 1, 'health': 7, 'care': 3, 'lists': 1, 'braddock': 1, 'includes': 5, 'your': 18, 'touch': 2, 'black': 26, 'keys': 1, 'critics': 23, 'non': 6, 'rating': 479, 'next': 12, 'coming': 40, 'courtney': 2, 'foxx': 4, 'looks': 2, 'great': 17, 'this': 106, 'shining': 61, 'boats': 3, 'beautiful': 3, 'mind': 9, 'score': 10, 'shierly': 1, 'temples': 2, 'greatest': 4, 'diaz': 8, 'named': 34, 'hugo': 1, 'high': 23, 'school': 17, 'sean': 35, 'penn': 7, 'horses': 4, 'sci': 114, 'fi': 114, 'laurence': 12, 'olivier': 10, '1940s': 6, 'bourne': 13, 'featuring': 66, 'alien': 26, 'invasion': 4, 'some': 288, 'lewis': 18, '3d': 4, 'animated': 87, 'monsters': 7, 'vs': 2, 'aliens': 11, 'appropriate': 5, 'toddlers': 1, 'somewhere': 6, 'tom': 74, 'hanks': 31, 'keanu': 10, 'reeves': 15, 'need': 20, 'quotes': 9, 'trailers': 4, 'lesbian': 2, 'concert': 2, '1973': 1, 'receive': 19, 'genre': 77, 'walk': 4, 'remember': 7, 'part': 13, 'beatles': 8, 'simon': 4, 'pegg': 1, 'uses': 11, 'abba': 1, 'ridley': 20, 'scott': 39, 'music': 18, 'luke': 7, 'my': 60, 'heart': 14, 'go': 26, 'won': 23, '1999': 9, 'twilight': 9, 'expected': 2, 'appear': 20, 'theatres': 1, 'four': 168, 'higher': 10, '1950s': 9, 'boxing': 8, 'hopkins': 13, 'everythings': 1, 'roses': 1, 'howard': 28, 'meryl': 8, 'streep': 9, 'mad': 13, '1969': 2, 'scarlett': 5, 'johansson': 2, 'spaceships': 2, 'candy': 5, 'helen': 8, 'hunt': 8, '1960s': 30, 'names': 10, 'books': 10, 'fifth': 2, 'freddy': 6, 'krueger': 4, 'gary': 19, 'ross': 2, 'tobey': 1, 'maguire': 1, 'peter': 44, 'than': 12, 'lord': 13, 'rings': 13, 'historical': 39, 'jeff': 10, 'daniels': 3, 'midsummer': 1, 'nights': 6, 'dream': 4, 'romatic': 2, 'johnny': 45, 'depp': 40, 'christopher': 42, 'plummer': 2, 'win': 9, 'selling': 4, 'novel': 4, 'vampires': 14, 'bay': 19, 'psychiatric': 1, 'hospitals': 1, 'pretty': 23, 'pink': 7, '1930s': 6, 'scifi': 3, 'villain': 5, 'wins': 2, 'adventure': 150, 'rolling': 2, 'stones': 2, 'lone': 2, 'ranger': 3, 'moulin': 3, 'rouge': 3, 'awards': 10, 'silent': 9, 'harpo': 1, 'marx': 1, 'scream': 6, 'skating': 2, 'roger': 12, 'mpaa': 32, 'henry': 10, 'thomas': 11, 'quentin': 14, 'tarentino': 2, 'directors': 5, 'only': 11, 'psychological': 28, 'stanly': 1, 'kubrick': 21, '1971': 2, 'ed': 4, 'norton': 12, 'recently': 14, 'babies': 2, 'around': 47, 'presley': 3, 'ma': 4, 'collection': 1, 'van': 13, 'dame': 1, 'lead': 39, 'animal': 7, 'jmes': 1, 'alfred': 25, 'suspense': 19, 'series': 18, 'spiderman': 5, 'moviews': 1, '12': 4, 'gave': 9, 'cruise': 25, 'biggs': 5, 'favorite': 14, 'things': 13, 'hilary': 2, 'duff': 1, 'tell': 88, '2004': 8, 'ad': 1, 'placement': 1, 'arnold': 14, 'schwarzenegger': 11, 'say': 9, 'mw': 1, 'nice': 1, 'enrique': 1, 'toy': 11, 'story': 31, 'robbery': 10, 'now': 14, 'director': 154, 'kung': 8, 'fu': 8, 'ashley': 4, 'olsen': 3, 'hanksmeg': 1, 'ryan': 35, 'cillian': 2, 'murphy': 16, 'role': 58, 'jonah': 7, 'hill': 10, 'suspensful': 1, 'mansell': 1, 'done': 36, 'voice': 36, 'shrek': 20, 'cant': 11, 'wait': 2, 'king': 26, 'characters': 18, '2001s': 1, 'oceans': 5, '11': 2, 'spike': 17, 'vin': 5, 'diesel': 3, 'involve': 7, 'packed': 1, 'should': 5, 'humor': 7, 'too': 5, 'mathematicians': 1, 'three': 101, 'sylvester': 7, 'stallone': 7, 'dancers': 6, 'house': 28, 'sand': 8, 'fog': 4, 'actress': 19, 'kristen': 7, 'would': 97, 'marvel': 4, 'comics': 1, 'through': 1, 'eyes': 4, 'tomorrow': 1, 'never': 4, 'dies': 1, '2003': 1, 'wesley': 5, 'snipes': 3, 'swayze': 5, 'cinderella': 2, 'judi': 5, 'dench': 5, 'adventures': 5, 'tintin': 4, 'mermaids': 1, 'whos': 6, 'as': 127, 'chick': 8, 'flick': 49, 'lawrence': 13, 'turner': 7, 'pirates': 21, 'caribbean': 11, 'explosions': 3, 'robots': 5, 'elise': 1, 'clifton': 2, 'ward': 4, 'mockumentary': 127, 'guest': 2, 'mojave': 1, 'mon': 1, 'his': 25, 'fish': 9, 'says': 12, 'keep': 1, 'swimming': 1, '2': 32, 'years': 378, '1997': 7, 'jacksons': 2, 'mash': 9, 'clown': 4, 'posse': 2, 'mariah': 4, 'carey': 7, 'act': 29, 'jamie': 11, 'curtis': 7, 'decode': 1, 'rosie': 4, 'odonnell': 4, 'duchovnys': 1, 'edward': 18, 'jon': 11, 'bon': 2, 'jovi': 2, 'appeared': 13, 'parker': 9, 'superhero': 4, 'ghost': 7, 'rider': 5, 'la': 6, 'dolce': 2, 'vita': 2, 'wrote': 10, 'avatar': 10, 'interview': 4, 'vampire': 18, 'elizabeth': 15, 'taylor': 18, 'national': 1, 'velvet': 3, 'trying': 16, 'take': 17, 'over': 23, 'breeding': 1, 'humans': 3, 'created': 7, 'soundtrak': 1, 'nominated': 7, 'but': 19, 'havent': 1, 'going': 12, 'sin': 6, 'city': 23, 'joely': 1, 'richardson': 3, 'sharks': 6, 'lowest': 4, 'bad': 8, 'guy': 10, 'tron': 2, 'children': 42, 'ratatouille': 1, 'hunger': 17, 'games': 19, 'preview': 23, 'argonauts': 1, 'stuff': 2, 'dreams': 3, 'tim': 39, 'burtons': 1, 'newest': 15, 'ther': 1, 'gene': 24, 'wilder': 20, 'army': 16, 'darkness': 8, 'kind': 10, 'valentines': 4, 'sports': 22, '99': 1, 'basketball': 5, 'teams': 1, 'marisa': 4, 'tomei': 4, 'hattie': 1, 'mcdaniel': 1, 'avengers': 2, 'kirk': 6, 'douglas': 11, 'adam': 24, 'sandler': 21, 'horrors': 2, 'joe': 21, 'pesci': 12, 'craven': 3, 'breakfast': 1, 'club': 4, 'halle': 9, 'berry': 8, 'obi': 1, 'wan': 1, 'kenobi': 1, 'roman': 15, 'holiday': 2, 'every': 6, 'serenity': 2, 'ages': 1, 'jaws': 11, 'bruc': 1, 'ni': 1, 'battle': 11, 'algiers': 1, 'cabin': 2, 'disaster': 33, 'sandra': 20, 'bullock': 14, 'pullman': 3, 'brendan': 3, 'fehr': 1, 'its': 28, 'highly': 148, 'recommended': 55, 'summer': 7, 'allison': 1, 'hannigan': 5, 'band': 6, 'camp': 11, 'connelly': 2, 'means': 2, 'pirate': 8, 'muir': 1, 'happy': 5, 'feet': 4, 'trek': 15, '10': 12, 'friendly': 4, 'scariest': 4, 'halloween': 6, '1982': 2, 'robin': 27, 'scores': 2, 'grace': 2, 'pixar': 7, '2005': 6, 'lindsay': 3, 'lohan': 5, 'boyscout': 1, 'big': 12, 'kid': 16, 'casey': 1, 'affleck': 4, 'predator': 1, 'malcolm': 4, 'reynolds': 9, 'smurfs': 1, 'ten': 103, 'sellers': 3, 'burger': 1, 'robot': 16, 'adult': 3, '1975': 5, 'female': 13, 'leads': 3, 'wrestler': 2, 'carrie': 4, 'alone': 6, 'wall': 61, 'street': 8, 'financial': 2, 'collapse': 1, 'joss': 2, 'whedon': 2, 'make': 51, 'another': 8, '90s': 34, 'concentration': 3, 'survivor': 1, 'buddha': 1, 'contains': 3, 'bigger': 4, 'boat': 5, 'clooneys': 2, 'oldest': 1, 'ossie': 1, 'davis': 18, 'nicholas': 9, 'sparks': 2, 'jolies': 2, 'changeling': 1, 'mighty': 3, 'true': 16, 'jackie': 10, 'chan': 12, 'chris': 21, 'tucker': 7, 'religion': 4, 'stalker': 1, 'eric': 10, 'idle': 2, 'tyler': 11, 'perry': 8, 'goldfinger': 3, 'zombie': 14, 'hills': 4, 'beverly': 2, 'cop': 9, 'word': 11, 'laser': 2, 'doubt': 1, 'hulk': 5, '70s': 4, '5': 10, 'cousin': 3, 'vinney': 1, 'evil': 23, 'twins': 4, '24': 3, 'dinosaur': 1, 'daze': 1, 'safe': 3, 'noir': 103, 'crime': 115, 'anatomy': 1, 'murder': 26, 'nighy': 1, 'moonrise': 1, 'kingdom': 2, 'plays': 31, '500': 1, 'days': 13, 'spies': 2, 'noire': 1, '1986': 1, 'mystery': 121, 'third': 10, 'chim': 1, 'chimeney': 1, 'bette': 13, 'midler': 6, 'charlies': 1, 'angeles': 5, 'nicole': 14, 'kidman': 10, 'ashton': 4, 'kutcher': 4, 'napoleon': 2, 'dynamite': 1, 'anything': 5, 'leprechaun': 2, 'positive': 1, 'header': 1, 'directing': 9, 'alex': 7, 'haleys': 1, 'x': 11, 'academy': 12, 'polot': 1, 'tokyo': 1, 'france': 2, '60s': 4, 'classic': 18, 'stayin': 1, 'alive': 13, 'lethal': 2, 'weapon': 3, 'voiced': 4, 'donkey': 4, 'snowmen': 1, 'lastest': 2, 'gosling': 5, 'wash': 2, 'theaters': 10, 'currently': 5, 'travel': 3, 'isnt': 2, 'superheroes': 4, 'incredibles': 1, 'shakespearean': 1, 'branagh': 3, 'emma': 7, 'thompson': 13, 'andromeda': 1, 'strain': 1, 'josh': 8, 'duhamel': 2, 'fans': 2, 'christina': 3, 'applegate': 2, 'evening': 2, 'news': 2, 'dead': 39, '1980': 168, 'gone': 10, 'wind': 10, 'else': 4, 'blackhawk': 1, 'down': 8, 'happens': 4, 'he': 22, 'nightmare': 8, 'christmas': 17, 'hellow': 1, 'goodfellas': 10, 'celine': 1, 'dions': 1, 'really': 125, 'classical': 4, 'musicians': 6, 'boxers': 1, 'run': 38, 'super': 5, 'hero': 8, 'review': 26, 'alvin': 3, 'chipmunks': 3, 'die': 8, 'hitler': 4, 'post': 7, 'apocalyptic': 4, 'genesis': 1, 'rodriguez': 2, 'ferrell': 12, 'kirsten': 4, 'dunst': 3, 'hard': 10, 'also': 21, 'shoot': 2, 'em': 2, '21': 4, 'jump': 5, 'critically': 57, 'acclaimed': 56, 'divorce': 3, 'margaret': 1, 'thatcher': 3, 'babe': 3, 'ruth': 1, 'nutrition': 1, 'healthy': 1, 'eating': 4, 'red': 6, 'tails': 2, 'scenes': 5, 'viewers': 34, 'terry': 9, 'gilliam': 4, 'detachment': 1, 'flash': 1, '1967': 2, 'more': 26, '3': 22, 'haunted': 14, 'shark': 4, 'norman': 4, 'reedus': 1, 'mr': 17, 'mrs': 2, 'harrison': 22, 'ford': 52, 'shelby': 1, 'steel': 6, 'magnolias': 3, 'panther': 6, 'glenn': 5, 'close': 5, 'inspirational': 1, 'football': 5, 'principle': 2, 'shooting': 1, 'locations': 1, 'fistful': 1, 'dollars': 1, 'feature': 19, 'mafia': 4, 'goes': 4, 'audiences': 9, 'jane': 15, 'eyre': 2, 'carpenter': 3, 'urban': 4, 'cowboy': 14, 'pauly': 2, 'shore': 2, 'panda': 2, '1995': 10, 'puss': 2, 'n': 3, 'boots': 2, 'seven': 198, 'samurai': 5, 'amish': 1, 'beals': 1, 'dancer': 1, 'american': 23, 'reunion': 1, 'matrix': 15, 'hartnett': 1, '200s': 1, 'joseph': 12, 'gordon': 6, 'levitt': 3, 'hammer': 2, 'nemo': 5, 'finding': 5, 'spider': 9, 'max': 1, 'candace': 1, 'bergen': 3, 'minnie': 1, 'driver': 8, 'trilogy': 4, 'mirrens': 1, 'biographies': 2, 'crazy': 4, 'horse': 9, 'liz': 3, 'wayans': 3, 'castle': 3, 'sky': 4, 'vow': 4, 'macgoohan': 2, 'weird': 4, 'motion': 3, 'guns': 3, 'witches': 6, 'destroy': 1, 'cowboys': 2, 'polticial': 1, 'oliver': 17, 'stone': 19, 'voices': 4, 'gingerbread': 1, 'legal': 2, '80s': 15, 'barry': 8, 'lyndon': 2, 'metro': 1, 'goldwyn': 1, 'mayer': 2, 'become': 2, 'studio': 3, 'pie': 4, 'sparrow': 5, '1930': 3, 'average': 219, 'stare': 2, 'goats': 1, 'zombies': 9, 'lorax': 2, 'doom': 5, 'booth': 2, 'am': 75, 'maya': 2, 'rudolph': 2, 'beowulf': 1, 'drive': 11, 'killer': 21, 'birds': 5, 'casino': 3, 'royale': 1, 'aaliyah': 1, 'soundtracks': 8, 'switchfoot': 1, 'kate': 30, 'beckinsale': 4, 'rush': 5, 'hour': 4, 'eilera': 1, 'ray': 4, 'liota': 2, 'wiz': 1, 'gillian': 3, 'teenage': 5, 'wasteland': 1, 'ash': 1, 'angry': 2, 'seeking': 9, 'justice': 4, 'kirstie': 2, 'alley': 2, 'travolta': 20, 'spanish': 3, 'pattinson': 3, 'spirited': 1, 'away': 4, 'video': 1, 'denzel': 13, 'washington': 13, 'truman': 1, 'blackstreets': 1, 'times': 3, 'hamm': 1, 'groundhog': 1, 'valor': 1, 'playing': 8, 'neo': 3, 'midlers': 1, 'sta': 1, 'dash': 2, 'theremin': 1, 'docudrama': 7, 'iraq': 1, 'telepathic': 1, 'relationship': 8, 'human': 3, 'meshell': 1, 'dialog': 8, 'espiranto': 1, 'under': 2, 'sea': 5, 'kenan': 1, 'fantasy': 207, 'europe': 1, 'diesal': 1, 'road': 9, 'trips': 1, 'licensed': 1, 'bridesmaids': 2, 'ball': 3, 'apart': 1, 'surfer': 7, 'lestat': 1, 'planet': 10, 'space': 30, 'jerry': 12, 'seinfeld': 2, 'boys': 8, 'mcg': 1, 'lithgow': 4, 'detective': 5, 'casa': 1, 'de': 27, 'mi': 1, 'padre': 1, 'runaway': 7, 'jury': 2, 'hood': 6, 'nurses': 2, 'baker': 1, 'special': 2, 'effects': 2, 'lees': 1, 'lois': 1, 'maxwells': 1, 'vantage': 2, 'point': 6, 'japan': 3, 'walken': 8, 'white': 17, 'graduate': 1, 'scanners': 1, 'dee': 6, 'werewolves': 3, 'fight': 7, 'loving': 2, 'screenplay': 3, 'dark': 31, 'shadows': 2, 'walking': 1, 'tall': 1, 'heres': 1, 'penguin': 2, 'returns': 2, 'gia': 1, 'hunting': 2, 'elephants': 2, 'horrific': 1, 'thieves': 4, 'teachers': 1, 'facing': 1, 'adversity': 2, 'warwick': 2, 'heath': 8, 'ledger': 7, 'themed': 5, 'beast': 3, 'bob': 21, 'hoskins': 1, 'cooley': 1, 'riddler': 1, 'riding': 3, 'determinate': 1, 'book': 18, 'benjamin': 2, 'bratt': 1, 'campbell': 10, 'credited': 1, 'writer': 4, 'male': 4, 'abraham': 1, 'lincoln': 1, 'santa': 6, 'clause': 4, 'waht': 2, 'shaq': 2, 'shutter': 1, 'island': 7, 'nosferatu': 2, 'lion': 9, 'mona': 1, 'carvell': 1, 'maggie': 4, 'meet': 5, 'halfway': 1, 'politicians': 1, 'gus': 4, 'zant': 1, 'genres': 2, 'besides': 4, 'salt': 1, 'legolas': 1, 'franco': 4, 'theres': 3, 'no': 4, 'place': 20, 'lex': 2, 'boreanaz': 1, 'renee': 11, 'zellweger': 4, 'flicks': 8, 'forest': 3, 'fires': 1, 'said': 19, 'kings': 2, 'speech': 1, 'molly': 3, 'ringwold': 1, 'viewer': 7, '1972': 1, 'after': 12, 'skaters': 1, 'reese': 5, 'witherspoon': 4, 'large': 1, 'scale': 2, 'natural': 3, 'disasters': 1, 'casablanca': 3, 'snl': 1, 'madden': 1, 'sergio': 11, 'leone': 11, 'philip': 4, 'seymour': 8, 'hoffman': 13, 'transvestite': 1, 'mulholland': 1, 'justin': 8, 'timberlake': 6, 'jodie': 11, 'foster': 12, 'rio': 2, 'actresses': 4, 'miss': 5, 'moneypenny': 1, 'terminator': 9, 'bio': 4, 'pic': 3, 'e': 65, 'happened': 1, 'eleven': 3, 'cher': 3, 'fp': 1, 'greenaway': 1, 'aerosmith': 1, '1947': 1, 'dany': 1, 'boyles': 1, 'burton': 26, 'underworld': 6, 'streetcare': 1, 'desire': 4, 'stalag': 1, 'age': 10, 'corrupt': 1, 'policeman': 2, 'celebrity': 1, 'inc': 1, 'industry': 5, 'faye': 4, 'dunaway': 4, 'appears': 1, 'blues': 2, 'm': 12, 'quantum': 1, 'solace': 1, 'harrelson': 3, 'werewolf': 2, 'london': 12, 'during': 35, 'transformation': 1, 'scene': 8, 'channing': 3, 'tatum': 3, 'fred': 11, 'keaunu': 1, 'inner': 1, 'celebration': 1, 'richard': 27, 'gere': 6, 'amount': 2, 'sequels': 7, 'gena': 2, 'district': 1, '9': 3, 'thousand': 2, 'words': 1, '1920s': 2, 'torch': 1, 'singer': 9, 'jim': 32, 'carrey': 22, 'devil': 5, 'inside': 2, 'bottle': 1, 'shock': 1, 'farley': 2, 'critical': 2, 'future': 19, 'whoopi': 3, 'goldberg': 3, 'ip': 1, 'cube': 3, 'shadow': 2, 'fourth': 1, '1945': 1, 'transformers': 5, 'william': 22, 'shatner': 4, 'strada': 2, 'acted': 16, 'psychiatrist': 1, 'enters': 2, 'vincent': 8, 'price': 4, 'boris': 1, 'karloff': 1, 'winslet': 8, 'thats': 23, 'train': 13, 'woman': 22, 'mgm': 3, 'kaye': 1, 'betty': 3, 'yellow': 2, 'labrador': 1, 'control': 3, 'selection': 1, 'premiere': 2, 'jj': 4, 'abrams': 4, 'worth': 3, 'watching': 4, 'claire': 2, 'god': 6, 'bernard': 5, 'herman': 7, 'mewes': 1, 'identity': 15, 'chevy': 8, 'golden': 4, 'pond': 2, 'knight': 9, 'rises': 3, 'beneath': 2, 'wings': 1, 'alan': 16, 'rickman': 4, 'silence': 9, 'lambs': 7, '1988': 5, 'cherry': 1, 'pepsie': 1, 'queen': 8, 'victoria': 4, 'practical': 1, 'magic': 8, 'chasing': 1, 'amy': 8, 'starrted': 1, 'harakiri': 1, 'crown': 1, 'affair': 5, 'prison': 7, '50s': 2, 'quinton': 1, 'tarrantino': 1, 'mia': 1, 'farrow': 1, 'gun': 5, 'elmer': 4, 'bernstein': 3, 'hogan': 1, 'rope': 1, 'speilberg': 2, 'produced': 21, 'han': 1, 'solo': 2, 'co': 10, 'hula': 1, 'they': 13, 'sandlot': 2, 'tina': 5, 'fey': 4, 'screenplays': 1, 'greed': 4, 'wallstreet': 1, '1989': 3, 'cabiria': 1, 'shawshank': 11, 'redemption': 16, 'ana': 1, 'karenina': 1, 'performed': 2, 'emelio': 1, 'estevez': 3, 'hockey': 5, 'mel': 40, 'gibson': 20, 'least': 25, 'box': 8, 'office': 7, 'upon': 4, 'bacon': 5, 'off': 11, 'novels': 2, 'inspector': 4, 'clouseau': 1, 'mars': 4, 'needs': 1, 'moms': 1, 'grossing': 12, 'prequel': 3, 'roots': 1, 'pandas': 1, 'type': 17, 'rosemarys': 1, 'renoylds': 1, 'critic': 4, 'ebert': 1, 'shortbus': 2, 'adams': 8, 'enchanted': 1, '2007': 1, 'replacements': 2, 'sigourney': 2, 'weaver': 4, 'franchise': 2, 'skellington': 1, '2006': 3, 'directs': 1, 'notebook': 2, 'tourist': 1, 'linkin': 2, 'park': 6, 'leading': 6, 'actoractress': 1, 'wwii': 7, 'prince': 7, 'hell': 7, 'anymore': 2, 'mcgoohan': 1, 'diane': 3, 'pltf': 1, 'nemesis': 1, 'connery': 17, 'hope': 4, 'cuttlefish': 1, 'benny': 3, 'period': 8, 'pieces': 3, 'medieval': 2, 'superbad': 2, '1941': 2, 'rosebud': 3, 'blazing': 4, 'saddles': 5, 'supporting': 6, 'kermit': 2, 'muppets': 2, 'gael': 1, 'garcia': 4, 'bernal': 1, 'balloon': 1, 'giants': 1, 'francis': 18, 'hostel': 2, 'whose': 2, 'mouse': 4, 'staring': 32, 'j': 19, 'edgar': 4, 'hackman': 12, 'without': 6, 'gardening': 1, 'patterson': 1, 'handle': 2, 'truth': 3, 'humphrey': 13, 'bogart': 14, 'airplane': 11, 'austin': 9, 'powers': 10, 'feel': 4, 'buster': 4, 'higest': 1, 'know': 62, 'loves': 1, 'audry': 1, 'hepburn': 25, 'thr': 3, 'sixth': 2, 'zed': 1, 'lockhart': 1, 'pre': 1, '911': 3, 'trade': 1, 'center': 1, 'covered': 1, 'web': 1, 'waynes': 2, 'grit': 5, 'include': 4, 'incredible': 1, 'cry': 1, 'sister': 2, 'dillon': 4, 'drug': 4, 'use': 3, 'merican': 1, 'jessica': 10, 'alba': 3, 'marty': 4, 'mcfly': 2, '1977': 1, 'cast': 17, 'ivory': 3, 'everyone': 3, 'malcovich': 3, 'larenz': 2, 'tates': 1, 'chracter': 1, 'menace': 1, 'society': 1, 'pacimp': 1, 'houston': 6, 'luck': 7, 'lady': 5, 'comes': 8, 'bullit': 1, 'whay': 2, 'protocol': 1, 'droid': 1, 'tornadoes': 1, 'jeremy': 11, 'renner': 2, 'columbiana': 1, 'oscars': 8, 'extremely': 1, 'loud': 1, 'incredibly': 1, 'blow': 7, 'gaslight': 1, 'old': 12, '40': 1, 'ago': 5, 'league': 6, 'extraordinary': 6, 'gentlemen': 4, 'congeniality': 1, 'second': 6, 'carribean': 5, 'hudsons': 1, 'ranking': 1, 'd': 10, 'w': 1, 'griffith': 3, 'epic': 6, 'him': 4, 'offer': 3, 'refuse': 3, 'doc': 6, 'professor': 2, 'snapes': 1, 'executive': 1, 'producer': 2, 'numbers': 1, 'mohicans': 1, 'meg': 8, 'strange': 4, 'land': 3, 'eleased': 1, 'ingmar': 19, 'bergman': 23, 'abu': 1, 'calire': 1, 'danes': 2, 'blockbuster': 6, 'positively': 1, 'pitts': 2, 'barrymores': 2, 'monkees': 1, 'left': 4, 'wright': 3, 'western': 173, 'popularize': 1, 'knights': 2, 'important': 4, 'figure': 2, 'history': 61, 'india': 2, 'fighting': 6, '20s': 1, 'spain': 1, 'battlestar': 1, 'galactica': 1, 'secret': 12, 'ooze': 1, 'motorcycle': 1, 'showed': 3, 'pactick': 1, 'drag': 3, 'dave': 7, 'chappelle': 2, 'weed': 1, 'youll': 2, 'lorre': 3, 'fallon': 1, 'serious': 2, 'hits': 7, 'wonderful': 5, 'thing': 5, 'tigger': 1, 'cartoon': 5, 'scored': 5, 'tupac': 1, 'janet': 2, 'tackles': 1, 'idea': 1, 'discrimination': 1, 'b': 7, 'goonies': 8, 'major': 9, 'serves': 1, 'rate': 15, 'kissing': 2, 'deseree': 1, 'cannibal': 1, 'holocaust': 4, 'pixars': 2, 'stanley': 23, 'techno': 2, 'gets': 6, 'week': 1, 'claus': 1, 'windtalkers': 1, 'humphry': 1, 'zemeckis': 9, 'chocolates': 2, 'computer': 7, 'graphics': 1, 'encounters': 1, '1981': 4, 'jonas': 1, 'fidelity': 1, 'lebowski': 1, 'casinos': 1, 'kyle': 5, 'charlize': 12, 'therons': 1, 'gangs': 3, 'clips': 7, 'winnie': 1, 'pooh': 1, 'tarantino': 12, 'arthur': 10, 'chocolat': 1, 'giant': 7, 'cock': 1, 'blocking': 1, 'jam': 7, 'composer': 3, 'amelie': 1, 'friends': 16, 'buzz': 12, 'lightyear': 12, 'charley': 1, 'chaplin': 18, 'women': 7, 'german': 3, 'burt': 7, 'goobers': 1, 'titles': 36, 'nation': 2, 'lampoon': 1, 'depicts': 1, 'earth': 13, 'being': 24, 'destroyed': 1, 'asteroid': 1, 'officers': 1, 'capitalism': 1, 'communism': 1, 'ww': 2, 'helped': 1, 'guote': 1, 'odyssey': 8, 'lean': 16, 'agent': 7, 'crackers': 1, 'soup': 2, 'change': 4, 'habit': 1, 'johhny': 2, 'alice': 3, 'cooper': 8, 'viewed': 1, 'frankie': 2, 'avalon': 2, 'beach': 7, 'scrooged': 1, 'extramarital': 1, 'affairs': 2, 'sound': 4, 'nothing': 4, 'tv': 6, 'prostitution': 3, 'bodyguard': 2, 'johanssons': 1, 'roles': 8, 'presleymovie': 1, 'las': 4, 'vegas': 5, 'charlotte': 1, 'hall': 5, 'wallis': 1, 'madison': 4, 'dance': 6, 'composed': 2, 'arabia': 2, 'ariel': 1, 'fonda': 17, 'tonight': 6, 'matthew': 31, 'broderick': 8, 'romances': 2, 'saving': 4, 'private': 6, 'ronald': 2, 'regan': 1, 'omar': 2, 'gooding': 3, 'ratings': 190, 'above': 54, 'bays': 1, 'gaston': 1, 'nimoy': 5, 'gran': 1, 'torino': 1, 'once': 2, 'december': 2, 'biblical': 2, 'charleton': 1, 'heston': 10, 'colors': 1, 'feed': 1, 'search': 17, 'fireworks': 2, 'ricky': 5, 'gervais': 1, 'pair': 1, 'patriot': 1, 'pow': 2, 'camps': 2, 'americans': 2, 'spacey': 8, 'half': 8, 'baked': 5, 'et': 7, 'cat': 7, 'hit': 9, 'mission': 7, 'impossible': 6, 'gantry': 1, 'inception': 72, 'much': 7, 'money': 9, 'earn': 1, 'sow': 1, 'rainbow': 8, 'blacksploitation': 3, 'voodoo': 1, 'saw': 7, 'jingle': 1, 'way': 3, 'singlteon': 1, 'parody': 8, 'frankenweenie': 1, 'raja': 1, 'court': 1, 'vinny': 2, 'charlton': 10, 'hestons': 1, 'final': 4, 'died': 1, 'fancy': 1, 'gown': 1, 'blitz': 1, 'japanese': 4, 'mushrooms': 1, 'mcgregor': 2, 'six': 171, 'goodbar': 1, 'skyscraper': 1, 'dad': 2, 'ahead': 4, 'marmalade': 1, 'synopsis': 2, 'comic': 6, 'africa': 5, 'soundrack': 1, 'ferris': 4, 'buelers': 4, 'mivie': 1, 'antagonist': 1, 'invisible': 2, 'cate': 5, 'blanchett': 5, 'les': 3, 'starts': 6, 'titans': 1, 'romero': 1, 'happening': 1, 'reading': 1, 'theron': 11, 'moranis': 2, 'balls': 4, 'read': 1, 'eastbound': 1, 'threme': 1, 'futureovies': 1, 'march': 2, 'roddy': 5, 'mcdowel': 4, 'isaaks': 1, 'grisham': 1, 'spencer': 13, 'tracy': 16, '1965': 2, 'creature': 4, 'gollum': 1, 'metaphor': 1, 'environmental': 1, 'causes': 1, 'commander': 2, 'data': 1, 'folk': 1, 'bands': 2, 'extra': 4, 'terrestrial': 4, 'previews': 2, 'sandlers': 1, 'zoolander': 1, 'heavyweights': 1, 'pan': 2, 'episode': 3, 'paul': 42, 'newman': 15, 'jazz': 2, 'viwers': 1, 'why': 4, 'married': 4, 'spy': 8, 'obsessed': 1, 'sings': 4, 'blowers': 1, 'daughter': 5, 'field': 5, 'sharon': 3, 'meat': 2, 'gross': 7, 'ultimatum': 2, 'cranky': 1, 'teething': 1, 'wich': 1, 'forever': 1, 'salsa': 1, 'weekend': 3, 'bernies': 1, 'pop': 2, 'culture': 1, 'rutger': 1, 'hauer': 1, 'darrel': 2, 'hanna': 3, 'brooks': 21, 'o': 2, 'brother': 2, 'thou': 1, 'sub': 1, 'titled': 24, 'samuel': 12, 'l': 16, 'frost': 2, 'witness': 1, 'precognitive': 1, 'along': 2, 'wha': 1, 'karate': 1, 'pipi': 2, 'longstocking': 2, 'mean': 3, 'girls': 7, 'blade': 3, 'runner': 2, 'flaming': 1, 'computers': 2, 'sant': 1, 'val': 6, 'kilmer': 6, 'romeros': 1, 'direcorial': 1, 'debut': 2, 'person': 5, 'few': 2, 'disneypixar': 1, '2009': 8, 'realesed': 1, 'katy': 3, 'liquid': 1, 'terminatior': 1, 'ai': 1, 'artificial': 3, 'intelligence': 6, 'rebel': 6, 'against': 1, 'golf': 3, '1985': 4, 'watched': 3, 'benefits': 4, 'razzie': 2, 'depps': 2, 'piece': 4, 'frankly': 2, 'dear': 2, 'dont': 9, 'damn': 3, 'acedemy': 1, 'nominees': 1, 'often': 2, 'shown': 5, 'wa': 1, 'legend': 5, 'katherine': 7, '2pac': 1, 'shakur': 1, 'whar': 1, 'doing': 1, 'appearance': 4, 'commando': 1, 'valkyrie': 1, 'meyers': 2, 'fincher': 14, '2008': 7, 'rotten': 2, 'tomatoes': 2, 'ant': 1, 'bully': 3, 'yul': 2, 'brenner': 2, 'death': 29, 'forrester': 2, 'boorman': 4, 'unforgiven': 2, 'biker': 2, 'marlboro': 1, 'rod': 3, 'serling': 1, 'leslie': 5, 'gore': 7, 'sing': 5, 'sunshine': 1, 'lolipops': 1, 'rainbows': 1, '1958': 1, 're': 2, 'written': 2, 'wiig': 1, 'fletcher': 1, 'conspiracy': 1, 'theory': 1, 'rhett': 1, 'butler': 4, 'boyle': 5, 'twist': 3, 'shout': 1, 'version': 8, 'popeye': 2, 'schindlers': 1, 'colin': 6, 'higgins': 1, 'dolly': 2, 'parton': 2, 'hal': 1, 'plant': 1, 'tirantino': 1, 'supernatural': 4, 'hakuna': 1, 'matata': 1, 'destination': 2, 'olivia': 4, 'newton': 5, 'titantic': 1, 'players': 2, 'eisenhower': 1, 'power': 12, 'outer': 3, 'limits': 2, 'episodes': 1, 'included': 5, 'kidmans': 2, 'neilson': 1, 'godfellas': 1, 'howards': 1, 'production': 4, 'partner': 1, 'micky': 1, 'rooney': 1, 'own': 2, 'arc': 2, 'daniel': 22, 'jordan': 4, 'p': 4, 'tv13': 1, 'darby': 1, 'shaw': 1, 'annette': 5, 'blanket': 1, 'bingo': 1, 'sabrina': 3, 'blood': 11, 'honey': 2, 'psycho': 2, 'babysitter': 3, 'wife': 7, 'south': 7, 'african': 5, 'cage': 11, 'hollywood': 4, 'redford': 9, 'mcqueen': 13, 'poor': 1, 'west': 7, 'side': 8, 'bieber': 1, 'native': 2, 'acorns': 1, 'trainer': 1, 'working': 5, 'girl': 23, '1939': 1, 'cancer': 3, 'washingtons': 1, 'trouble': 1, 'considering': 2, 'frightening': 1, 'golfing': 1, 'tubthumping': 1, 'chased': 1, 'bear': 5, 'wood': 10, 'sheriff': 1, 'brody': 2, 'nolan': 15, 'rival': 1, 'magician': 1, 'broke': 3, 'records': 2, '1000': 2, 'corpes': 1, 'doris': 2, 'sharp': 1, 'shooter': 1, 'aragorn': 1, 'queens': 1, 'stared': 6, 'kiddman': 1, 'alices': 1, 'restaurant': 1, 'flying': 3, 'repeated': 1, 'scarface': 4, 'gangstas': 1, 'paradise': 1, 'wit': 1, 'ustinov': 3, 'pat': 1, 'benetar': 1, 'q': 1, 'rap': 1, 'mike': 12, 'tyson': 4, 'tiger': 3, 'gallo': 5, 'elton': 1, 'chocolate': 7, 'factory': 9, 'gilmore': 1, 'shakespeare': 4, 'denmark': 1, 'lamp': 1, 'nc17': 1, 'wname': 1, 'collaborates': 1, 'iv': 2, 'gods': 1, 'framed': 2, 'rabbit': 3, 'met': 4, 'sally': 2, 'crystals': 1, 'young': 11, 'frankenstein': 6, 'mental': 5, 'institution': 3, 'pacifist': 1, 'historic': 3, 'raiders': 5, 'ark': 3, 'statham': 1, 'hired': 3, 'balboa': 1, 'actual': 1, 'cult': 3, 'classics': 2, 'cloris': 1, 'leachman': 1, 'oif': 1, 'segel': 2, 'growing': 4, 'seth': 8, 'rogens': 1, 'pineapple': 1, 'express': 1, 'banned': 1, 'ship': 6, 'wwi': 1, 'middle': 4, 'east': 2, 'kelly': 15, 'debbie': 3, 'mall': 1, 'butterfinger': 1, 'nautical': 3, 'huston': 12, 'heavy': 3, 'metal': 3, 'tribute': 3, 'achilles': 1, 'endless': 1, '1940': 127, '1970': 162, 'ellen': 2, 'roark': 1, 'bars': 1, 'oldman': 6, 'rachel': 3, 'mcadams': 2, 'her': 9, 'allie': 1, 'hamilton': 8, 'britanny': 1, 'thin': 2, 'hasta': 1, 'vista': 1, 'start': 3, 'today': 3, 'prostitute': 3, 'godzilla': 3, 'pool': 1, 'monty': 5, 'pythons': 1, 'circus': 3, 'korea': 1, 'luther': 2, 'voight': 1, 'geres': 1, 'spoken': 1, 'orson': 22, 'welles': 22, 'sidney': 1, 'poitier': 1, 'fox': 13, 'v': 2, 'ringwald': 2, 'owning': 1, 'ponies': 1, 'record': 1, 'label': 1, 'rim': 1, 'english': 2, 'speaking': 1, 'salma': 2, 'hayek': 2, 'gleason': 2, 'bale': 15, 'troopers': 1, 'racing': 6, 'col': 1, 'oneill': 2, 'stargate': 1, 'continuum': 1, 'forgetting': 2, 'sarah': 8, 'britan': 1, 'myers': 3, 'moldy': 1, 'peaches': 1, 'parents': 1, 'blind': 5, 'dracula': 5, 'apolo': 1, 'multiplicity': 1, 'dealing': 11, 'disease': 1, 'roll': 1, 'scout': 1, 'diamonds': 1, 'cats': 3, 'showcase': 1, 'acting': 6, 'talent': 1, 'pierce': 7, 'brosnan': 2, 'bedazzled': 1, 'watson': 6, 'circle': 1, 'perrys': 1, 'screen': 1, 'isaac': 3, 'biopic': 2, 'blading': 1, 'moves': 4, 'kong': 2, 'gorrilla': 1, 'h': 5, 'macy': 3, 'earned': 4, 'firth': 3, 'katniss': 2, 'success': 2, 'independent': 31, 'neil': 1, 'harris': 4, 'travelling': 2, 'astronaut': 1, 'peace': 1, 'driving': 2, 'daisy': 1, 'hercules': 2, 'york': 10, 'undertaker': 2, 'buried': 3, 'similiar': 1, 'youve': 1, 'mail': 1, 'air': 5, 'force': 2, 'pulp': 1, 'twelve': 1, 'mainstream': 2, 'sick': 2, 'killers': 5, 'saying': 8, 'shot': 7, 'stardom': 1, 'containing': 3, 'koreas': 1, 'musketeers': 2, 'theplot': 1, 'while': 1, 'sleeping': 1, 'lassie': 1, 'lucille': 2, 'provide': 15, 'cleese': 5, 'somg': 1, 'notting': 2, 'farmer': 1, 'corn': 1, 'boy': 11, 'saves': 2, 'gabor': 2, 'piper': 1, 'arent': 2, 'violent': 7, 'liberace': 1, 'titular': 1, 'track': 3, 'focus': 7, 'concept': 2, 'seeing': 4, 'ground': 1, 'leaves': 2, 'then': 3, 'animation': 70, 'braveheart': 4, 'stein': 1, 'wish': 5, 'dogfight': 1, 'dragon': 3, 'tatoo': 1, 'mob': 8, 'live': 7, 'banjo': 1, 'belong': 1, 'airport': 1, 'cloning': 1, 'morgan': 12, 'freeman': 11, 'mila': 2, 'kunis': 2, 'johnson': 7, 'dicaprios': 2, 'pregnant': 1, 'teenager': 2, '007': 1, 'moviies': 1, 'perfrmance': 1, 'stuart': 7, 'apes': 2, 'mary': 7, 'reilly': 1, 'mustangs': 1, 'portmans': 1, 'robbie': 1, 'skywalker': 1, 'waterfront': 1, 'sometime': 2, '1994': 3, 'simba': 1, 'potte': 1, 'mrovies': 1, 'gonna': 2, 'fly': 4, 'zimmer': 2, 'dinasour': 1, 'fron': 1, 'cushing': 2, 'eddie': 9, 'murphys': 2, 'paris': 3, 'right': 48, 'caddyshack': 2, 'acts': 1, 'sword': 2, 'sorcery': 2, 'madonna': 4, 'went': 3, 'undercover': 5, 'beauty': 10, 'pageant': 1, 'emmy': 2, 'rossum': 2, 'bulma': 1, 'navy': 3, 'pilot': 2, 'warden': 1, 'lola': 1, 'swahili': 1, 'gangster': 22, 'wonka': 8, 'choclate': 1, 'witch': 14, 'wizard': 7, 'oz': 4, 'jean': 11, 'dujardin': 1, 'translation': 1, 'rihanna': 1, 'current': 1, 'ends': 2, 'ester': 1, 'seabiscuit': 1, 'possible': 3, 'fun': 4, 'foxs': 1, 'berrys': 1, 'hungry': 1, 'again': 3, 'originate': 1, 'christo': 1, 'son': 3, 'kills': 2, 'mother': 5, 'leigh': 21, 'anne': 5, 'tuohy': 1, 'extreme': 5, 'violence': 17, 'work': 5, 'hughes': 3, '1984': 2, 'cg': 1, 'presleyovie': 1, 'kubricks': 1, 'johannsen': 1, 'gloria': 4, 'grahame': 2, '1960': 169, 'dolphins': 2, 'frog': 2, 'shirley': 8, 'earliest': 1, 'johnathan': 1, 'tayler': 1, '28': 2, 'wonderland': 3, 'denver': 2, 'don': 9, 'knotts': 3, 'rollerball': 1, 'pony': 1, 'entirely': 2, 'furry': 2, 'monster': 8, 'worked': 5, 'green': 7, 'eyed': 2, 'gang': 5, 'warriors': 2, 'avildsen': 1, 'karat': 1, 'night': 29, 'voldemort': 1, 'bythe': 2, 'danner': 2, '1979': 4, 'forrest': 2, 'gump': 1, 'maids': 1, 'greek': 1, 'mythology': 2, '1950': 162, 'guys': 2, 'escaped': 1, 'chain': 2, 'supermans': 1, 'bakeds': 1, 'if': 17, 'so': 7, 'ones': 1, 'redd': 2, 'babysitters': 2, 'issaiah': 1, 'kurt': 5, 'russell': 15, 'ritchies': 1, 'pets': 2, 'glen': 2, 'russia': 1, 'socery': 1, 'bugs': 2, 'regarded': 1, '1943': 1, 'spaghetti': 41, 'galahad': 1, 'videodrome': 1, 'pictures': 4, 'bollywood': 3, 'prominent': 3, 'panama': 1, 'halen': 1, 'airheads': 1, 'serial': 4, 'hughs': 1, 'mannequin': 1, 'experiments': 5, 'barber': 1, 'writtin': 1, 'rogan': 1, 'ringo': 1, 'starr': 1, 'prometheus': 2, 'aside': 2, 'student': 1, 'winfield': 1, 'sottish': 1, 'deep': 4, 'lauren': 5, 'bacall': 3, 'shogun': 1, 'sherlock': 4, 'holmes': 7, 'joins': 1, 'carnival': 1, 'sam': 14, 'worthington': 1, 'penguins': 1, 'ted': 5, 'lawyer': 1, 'hidden': 2, 'psychic': 3, 'abducts': 1, 'child': 25, 'rko': 1, 'ginger': 4, 'rogers': 6, 'ralph': 9, 'latifah': 3, 'italy': 3, 'veteran': 1, 'dinosaurs': 5, 'empire': 2, 'craig': 6, 'kindergarten': 1, 'diver': 2, 'saga': 2, 'eclipse': 2, 'doug': 3, 'glatt': 1, 'schooner': 1, 'sailboat': 1, 'unexpected': 1, 'journey': 8, '14th': 1, 'tony': 9, 'randal': 2, 'jetsons': 1, 'jet': 5, 'li': 4, 'opposite': 5, 'tights': 1, 'goldie': 4, 'hawn': 6, 'surfing': 1, 'laura': 6, 'linney': 1, 'kicking': 1, 'screaming': 2, 'hot': 3, 'gorgo': 1, '300': 4, 'rodney': 6, 'dangerfield': 3, '1968': 1, 'solved': 1, 'thier': 1, 'issues': 5, 'season': 3, 'polynesian': 1, 'bettany': 1, 'charles': 22, 'darwin': 1, 'gogh': 1, 'silberling': 1, '1974': 1, 'sid': 1, 'krofft': 1, 'lmovie': 1, 'mason': 2, 'boxer': 4, 'bamed': 1, 'flynn': 3, 'geoffrey': 2, 'marquis': 1, 'sade': 1, 'punk': 1, 'eddy': 6, 'kathy': 4, 'bates': 3, 'youth': 2, 'farce': 3, 'alli': 1, 'magraw': 1, 'addiction': 2, 'claude': 3, 'damme': 2, 'almighty': 1, 'location': 1, 'cyd': 1, 'charisse': 1, 'danced': 1, 'deborah': 1, 'foreman': 1, 'bulge': 1, 'fresno': 1, 'california': 1, 'webb': 2, 'october': 2, 'diazs': 2, 'civil': 9, 'supremacy': 1, 'freida': 1, 'mock': 1, 'jericho': 2, 'wanna': 1, 'cannonball': 1, 'thelma': 1, 'louise': 1, 'opera': 6, 'bernie': 3, 'mac': 3, 'bath': 1, 'tub': 2, 'nims': 1, 'smiths': 2, 'con': 3, 'becomes': 1, 'commodities': 1, 'trader': 1, 'parsons': 1, 'plots': 5, 'doctor': 4, 'nyc': 1, 'kill': 10, 'members': 2, 'katie': 2, 'mistaken': 2, 'scorcese': 1, 'blanc': 2, 'kennedy': 2, 'marooned': 2, 'committed': 1, 'tommy': 10, 'lights': 3, 'call': 3, '1900s': 1, 'stood': 1, 'still': 3, 'treasure': 5, 'pioneers': 2, 'fisher': 2, 'soldiers': 7, 'jolson': 1, 'littlest': 1, 'workers': 1, 'lily': 1, 'tomlin': 1, 'gambling': 1, 'marvin': 2, 'throws': 1, 'boiling': 1, 'coffee': 1, 'grahames': 1, 'face': 2, 'soul': 3, 'gandalf': 2, 'niro': 4, 'verbinski': 3, 'viggo': 5, 'mortensen': 5, 'fasten': 1, 'seatbelts': 1, 'ides': 1, 'crawford': 5, 'governor': 1, 'louisiana': 1, 'costners': 1, 'contacts': 1, 'trailerfor': 1, 'ewoks': 1, 'hays': 1, 'escape': 5, 'turkish': 1, 'kis': 1, 'meryly': 1, 'lawyers': 2, 'each': 1, 'pageants': 1, 'merchant': 1, 'antony': 2, 'zelweger': 1, 'lindsey': 2, 'feels': 1, 'gangsta': 1, 'cagney': 12, 'quaids': 1, 'keaches': 1, 'carradines': 1, 'jesse': 5, 'racial': 2, 'differences': 1, 'soon': 9, 'penelope': 2, 'cruzs': 1, 'language': 2, 'filmography': 1, 'akira': 8, 'kurusawas': 1, 'fools': 1, 'magicians': 1, '571': 1, 'mexican': 3, 'powered': 2, 'individual': 2, 'million': 3, 'dollar': 2, 'corpse': 1, 'kubrik': 1, 'barbara': 8, 'stanwyck': 4, 'mcmurray': 1, 'snider': 1, 'strangland': 1, 'belushi': 5, 'cameos': 1, 'freddie': 1, 'sonny': 1, 'steele': 2, 'citizen': 3, 'kane': 3, 'chinese': 2, 'crenna': 1, 'salesman': 2, 'swayzes': 1, 'apocalypse': 4, 'olaf': 1, 'asian': 1, 'soccer': 5, 'pryor': 6, 'anti': 1, 'erasing': 2, 'memory': 7, 'catherine': 8, 'zeta': 5, 'andersons': 1, 'window': 3, 'monkeys': 2, 'richie': 2, 'rich': 2, 'return': 4, 'jedi': 2, 'categories': 8, 'tarot': 1, 'card': 1, 'reader': 1, 'apocalpse': 1, 'swordsman': 1, 'party': 10, 'werner': 2, 'herzog': 2, 'threatened': 1, 'dimples': 1, 'provided': 1, 'himself': 1, 'kruger': 1, 'snape': 1, 'francos': 1, 'dumb': 1, 'dumber': 1, 'lightning': 2, 'found': 6, 'believe': 2, '1944': 1, 'born': 2, 'connick': 1, 'jr': 22, 'doll': 4, 'chuckie': 1, 'artist': 1, 'colonel': 1, 'fosse': 1, 'dowop': 1, 'veiwers': 1, 'ozarks': 1, 'emil': 1, 'renny': 1, 'overboard': 1, 'winter': 4, '68th': 1, 'rose': 4, 'korean': 1, 'punks': 1, 'hugh': 8, 'project': 3, 'better': 7, 'hangover': 2, 'upcoming': 5, 'lizard': 2, 'elephant': 1, 'kline': 3, 'helena': 5, 'bonham': 4, 'carter': 11, 'ancient': 1, 'indians': 4, 'mexico': 5, 'latin': 1, 'revolutions': 2, 'goldgerg': 1, 'hitchcocks': 1, 'french': 6, 'captain': 6, 'picard': 1, 'cheerleaders': 2, 'dan': 12, 'akyrod': 1, 'marlon': 12, 'brando': 8, 'we': 5, 'consider': 2, 'relied': 1, 'kindness': 1, 'strangers': 1, 'herbie': 2, 'bananas': 1, 'duvall': 9, 'country': 3, 'wrestling': 3, 'lightening': 1, 'rainmaker': 1, 'bongo': 1, 'mark': 22, 'wahlberg': 2, 'mccall': 1, 'different': 2, 'voorhees': 1, 'ex': 1, 'nba': 1, 'martins': 2, 'madam': 1, 'cullen': 4, 'moss': 1, 'dalai': 1, 'lama': 1, 'sloth': 1, 'brooke': 2, 'shields': 2, 'orleans': 1, 'prostitutes': 1, 'ladies': 2, 'oprah': 1, 'winfrey': 1, 'henson': 2, 'recommend': 30, 'australian': 1, 'pearce': 1, 'bears': 2, 'strips': 1, 'nude': 2, 'sjywalker': 1, 'lemmon': 14, 'avanti': 1, 'bag': 2, 'lions': 2, 'audrey': 9, 'nun': 1, 'belgian': 1, 'congo': 1, 'complete': 2, 'told': 2, 'kidnapped': 3, 'caine': 10, 'ireland': 1, 'atleast': 1, 'dreaming': 1, 'living': 7, 'kenny': 2, 'loggins': 1, 'akyroyd': 1, 'englends': 1, 'elm': 1, 'st': 2, 'college': 5, 'spiral': 2, 'staircase': 1, 'dorothy': 2, 'mcguire': 1, 'amnesia': 1, 'sufferer': 1, 'babylon': 2, 'adwhat': 1, 'tattooed': 1, 'diesels': 1, 'hand': 1, 'inceptioncategories': 1, 'england': 2, 'those': 1, 'brasher': 1, 'doubloon': 1, 'merlin': 2, 'kim': 5, 'basinger': 2, 'speilburg': 1, 'fortress': 2, 'ginnifer': 1, 'goodwin': 1, 'purple': 9, 'rain': 12, 'joyful': 2, 'holden': 2, 'joan': 12, 'bennett': 1, 'angela': 4, 'lansbury': 1, 'alaska': 2, 'gwyenth': 1, 'paltrow': 2, 'radio': 2, 'lounge': 1, 'annie': 1, 'racer': 1, 'whisperer': 1, 'louis': 3, 'malle': 2, 'lana': 1, 'european': 1, 'thornton': 2, 'alyson': 3, 'kidnapping': 1, 'fist': 2, 'nesbitt': 1, 'leave': 1, 'law': 2, 'tamilyn': 1, 'tomita': 1, 'heralded': 1, 'adapted': 1, 'wild': 12, 'burgess': 1, 'rabbits': 2, 'glow': 1, 'condom': 1, 'short': 49, 'megan': 3, 'actionsci': 2, 'infamous': 2, 'thorton': 2, 'ferrel': 2, 'c': 9, 'riely': 1, 'fat': 1, 'liotta': 2, 'amp': 4, 'hayak': 2, 'thunder': 1, 'superheros': 1, 'between': 6, 'battlefield': 3, 'help': 23, 'fellow': 1, 'tragedy': 4, 'sinking': 1, 'calamity': 1, 'boyer': 1, 'tries': 1, 'convince': 1, 'ingrid': 4, 'wyatt': 2, 'earp': 2, 'holliday': 2, 'fraser': 2, 'navarone': 2, 'whole': 6, 'rodrick': 1, 'estelle': 1, 'getty': 1, 'newly': 1, 'murderer': 3, 'united': 2, 'states': 1, 'fluffy': 1, 'deanna': 1, 'durbin': 1, 'francois': 7, 'truffaut': 7, 'scientist': 2, 'klingons': 1, 'fights': 2, 'oddjob': 1, 'seen': 19, 'stapler': 1, 'case': 3, 'mondays': 1, 'snakes': 3, 'welcome': 2, 'carmen': 4, 'someone': 18, 'dears': 1, 'neve': 1, 'trey': 1, 'sleepless': 1, 'seattle': 1, 'holds': 1, 'takes': 8, 'hostages': 1, 'bud': 4, 'receiver': 1, 'lupus': 1, 'skin': 2, 'revolutionary': 2, 'flight': 1, 'navigator': 1, 'bane': 1, 'cruses': 1, 'sisters': 1, 'lina': 1, 'wertmuller': 1, 'candice': 2, 'pig': 2, 'demons': 6, 'flesh': 5, 'fishes': 1, 'dori': 1, 'deneuve': 2, 'penny': 2, 'sees': 3, 'fountain': 1, 'suceessful': 1, 'unlaterally': 1, 'deliverance': 1, 'holly': 1, 'hunter': 9, 'kidnap': 1, 'uma': 2, 'thurman': 2, 'hayes': 2, 'regina': 2, 'speedway': 2, 'malcom': 3, 'radcliffe': 1, 'dances': 2, 'snake': 1, 'hudson': 5, 'race': 4, 'cash': 1, 'gwyneth': 1, 'receives': 1, 'former': 1, 'beetlejuice': 5, 'stop': 1, 'believin': 1, 'deneuvre': 1, 'mom': 2, 'wjat': 1, 'isla': 1, 'lang': 9, 'fishers': 1, 'soap': 1, 'elisabeth': 4, 'shue': 4, 'mclaine': 1, 'marriage': 5, 'jude': 1, 'kelley': 1, 'submarines': 1, 'buddy': 3, 'zanzibar': 1, 'snatch': 2, 'gennie': 1, 'pigs': 1, 'sequelsprequels': 1, 'marathon': 1, 'deal': 2, 'childhood': 2, 'memories': 1, 'jungle': 5, 'soldier': 2, 'vietnam': 3, 'montana': 1, 'pacinos': 1, 'newer': 1, 'backward': 1, 'aging': 1, 'father': 5, 'emily': 1, 'blunt': 1, 'wears': 1, 'prada': 1, 'gotta': 1, 'friend': 7, 'received': 211, 'scotts': 1, 'elliott': 3, 'gould': 2, 'teller': 1, 'raging': 2, 'bull': 2, 'shyamalan': 2, 'order': 6, 'gerald': 1, 'step': 1, 'roller': 2, 'derby': 1, 'aids': 2, 'hiv': 1, 'rosario': 1, 'dawson': 3, 'pearl': 2, 'bailey': 1, '1987': 1, 'chess': 1, 'match': 1, 'joy': 2, 'schwarzeneggers': 1, 'katharine': 10, 'cape': 1, 'fear': 11, 'iron': 2, 'catchphrase': 1, 'enjoy': 2, 'later': 4, 'elijah': 3, 'turns': 1, 'into': 7, 'chariots': 3, 'fire': 6, 'christie': 2, 'michelle': 6, 'trilogies': 2, 'angie': 1, 'dickinson': 1, 'speak': 1, 'inmvented': 1, 'depression': 3, 'listall': 1, 'ducks': 2, 'ledgers': 1, 'paranorman': 1, 'jenny': 3, 'mccarthy': 3, 'swank': 1, 'methods': 1, 'game': 3, 'python': 2, 'holy': 5, 'grail': 3, 'kiss': 10, 'ruin': 1, 'heigel': 1, 'clark': 4, 'gable': 3, 'reporter': 1, 'claudette': 1, 'colbert': 1, 'heiress': 1, 'jiminy': 1, 'cricket': 1, 'lancaster': 3, 'espianoge': 1, 'husband': 3, 'michigan': 1, 'hereafter': 1, 'orwells': 1, 'liam': 11, 'neeson': 10, 'slap': 1, 'mimi': 2, 'duchovney': 1, 'lynch': 14, 'vivien': 14, 'raiser': 2, 'cosby': 4, 'roadhouse': 1, 'ride': 2, 'surf': 1, 'jonze': 1, 'beyond': 3, 'unfortunate': 1, 'events': 1, 'crab': 2, 'grodin': 1, 'whom': 1, 'nigel': 1, 'suspicion': 1, 'highschool': 1, 'dennis': 4, 'hopper': 2, 'canadian': 1, 'leo': 1, 'gregory': 14, 'brian': 23, 'broadway': 4, 'shows': 1, 'dwayne': 1, 'nazis': 2, 'cornfield': 1, 'owl': 1, 'rocket': 1, 'waiting': 1, 'tables': 1, 'june': 2, 'laughton': 1, 'tyrone': 2, 'trial': 2, 'panic': 2, 'room': 3, 'past': 430, 'turtle': 1, 'stripes': 1, 'perlman': 2, 'assasins': 1, 'nerds': 1, 'ken': 3, 'pioneered': 1, 'cgi': 3, 'techniques': 1, 'secretariat': 1, 'cure': 1, 'ballet': 1, 'costner': 5, 'dystopian': 1, 'bomb': 2, 'longest': 1, 'yard': 1, 'decaprio': 1, 'controlling': 1, 'franki': 1, 'lane': 3, 'pet': 2, 'versions': 1, 'carol': 3, 'miracle': 1, 'juno': 1, 'ghostbusters': 2, 'angels': 5, 'duel': 1, 'burns': 3, 'danson': 1, 'sammy': 1, 'rhythm': 1, 'lifes': 1, 'worker': 1, 'coppolas': 1, 'pendleton': 1, 'heaven': 4, 'butterfly': 2, 'effect': 1, 'ws': 1, 'noyce': 1, 'moneyball': 1, 'nudity': 1, 'andy': 8, 'perfect': 3, 'storm': 2, 'bite': 1, 'racehorse': 1, 'bruckheimer': 1, 'houses': 1, 'avatars': 1, 'differ': 1, 'hasselhoff': 1, 'mutiny': 2, 'footloose': 2, 'coaches': 1, 'championship': 1, 'cross': 1, 'dressing': 1, 'masked': 1, 'minute': 1, 'lucy': 3, 'liu': 1, 'linda': 5, 'ronstadt': 1, 'here': 4, 'reynold': 1, 'plimpton': 1, 'alda': 3, 'collette': 1, 'greg': 8, 'kinnear': 1, 'contest': 1, 'scorseses': 2, 'arkin': 1, 'terrorizes': 1, 'gigi': 1, 'scottish': 1, 'schoolteacher': 1, 'veronica': 2, 'lake': 5, 'nicolas': 6, 'smashing': 1, 'pumpkins': 1, 'jake': 2, 'gyllanhall': 1, 'airlines': 1, 'plane': 4, 'brue': 1, 'walter': 5, 'mathau': 1, '3000': 1, 'kaiser': 1, 'soze': 1, 'marijuana': 1, 'ghandi': 1, 'animates': 1, 'rights': 3, 'crossdressing': 2, 'diggstown': 1, 'scanner': 1, 'darkly': 1, 'sir': 1, 'eye': 2, 'trolley': 1, 'loaf': 1, 'ovie': 1, 'baskervilles': 1, 'gutenburg': 1, 'eve': 5, 'rib': 1, 'pokemon': 1, 'brians': 1, 'caan': 1, 'omedy': 1, 'toby': 3, 'keith': 8, 'pup': 1, 'leader': 1, 'm2m': 1, 'adaptation': 2, 'jk': 1, 'rowling': 1, 'number': 2, 'rule': 1, 'aviator': 1, 'publisher': 1, 'jameson': 1, 'bird': 5, 'crimson': 1, 'tide': 2, 'caddy': 1, 'crippled': 1, 'hoodwinked': 1, 'utopia': 3, 'spiders': 1, 'biopics': 1, 'rudd': 1, 'cuba': 2, 'stealing': 1, 'befriending': 1, 'truck': 1, 'dean': 7, 'willem': 1, 'dafoe': 1, 'chopper': 1, 'frodo': 2, 'bunny': 2, 'descendants': 1, 'tin': 2, 'cup': 1, 'barbra': 1, 'streisand': 1, 'rogen': 1, 'banks': 1, 'bobby': 1, 'cruz': 3, 'era': 2, 'alcoholism': 2, 'everybody': 2, 'wants': 2, 'thanksgiving': 1, 'cooking': 1, 'debra': 8, 'messing': 5, 'mmpa': 1, 'basketnall': 1, 'diaries': 3, 'sequal': 1, 'wildcats': 1, 'hello': 1, 'nielson': 3, 'drum': 1, 'wheedon': 1, 'guess': 1, 'dinner': 1, 'kept': 1, 'fromthe': 1, 'dawn': 4, 'kiefer': 3, 'versus': 4, 'martians': 1, 'contain': 2, 'cruises': 2, 'fantacy': 1, 'cruse': 1, 'apocolypse': 1, 'lambada': 1, 'spinal': 1, 'tap': 1, 'kardashian': 1, 'contribute': 1, 'hop': 1, 'springtime': 1, 'taxi': 5, 'narnia': 1, 'adaption': 1, 'weithorn': 1, 'valet': 1, 'sells': 1, 'secrets': 5, 'eat': 1, 'worlds': 2, 'hookey': 1, 'phantom': 1, 'criticism': 1, 'robbins': 3, 'prisoner': 5, 'gelenhal': 1, 'actually': 2, 'changed': 1, 'bringing': 2, 'huge': 1, 'worms': 1, 'combine': 1, 'rookie': 1, 'liv': 2, 'took': 3, 'faces': 3, 'earnest': 1, 'borgnine': 1, 'landau': 1, 'older': 1, 'bela': 3, 'lugosi': 3, 'jodi': 1, 'forster': 1, 'running': 1, 'brave': 1, 'shower': 1, 'wanderin': 1, 'brown': 4, 'sugar': 1, 'tinman': 1, 'teresa': 1, 'opening': 2, 'bennie': 1, 'joone': 1, 'listen': 1, 'actin': 1, 'seagal': 2, 'mcdowall': 2, 'gay': 1, 'themes': 1, 'subcultures': 1, 'keenan': 1, 'bought': 1, 'wachowski': 2, 'fame': 1, 'bowie': 2, 'childs': 1, 'dakota': 1, 'fanning': 1, 'lots': 1, 'singers': 2, 'f': 4, 'gray': 4, 'chameleon': 1, 'shreck': 1, 'christine': 5, 'captian': 1, 'locked': 1, 'basement': 1, 'dana': 2, 'jfks': 1, 'funeral': 4, 'quazi': 1, 'motto': 1, 'loser': 1, 'photographer': 1, 'zealand': 1, 'mcclain': 2, 'fair': 2, 'weather': 2, 'dailey': 1, 'jaime': 2, 'clarkson': 1, 'beginning': 2, 'brokeback': 1, 'mountain': 3, 'because': 1, 'seasons': 2, 'gossip': 1, 'poehler': 1, 'rates': 1, 'hubbard': 1, 'accused': 1, 'low': 2, 'brick': 2, 'leavitts': 1, 'knowing': 1, 'whistle': 1, 'full': 5, 'yoda': 6, 'anger': 1, 'hate': 1, 'sting': 3, 'mirror': 2, 'bus': 1, 'amber': 4, 'waves': 1, 'cleef': 1, 'fully': 1, 'loaded': 1, 'fir': 1, 'reeve': 1, 'mcclure': 1, 'breath': 1, 'airplanes': 1, 'victor': 3, 'mature': 1, 'nick': 5, 'norah': 1, 'town': 8, 'station': 2, 'zebra': 1, 'crush': 1, 'farrah': 1, 'faucett': 1, 'according': 1, 'coach': 3, 'ozzy': 1, 'osbourn': 1, 'rag': 2, 'square': 1, 'wide': 1, 'shut': 1, 'gi': 1, 'prodigy': 3, 'pianist': 1, 'atlanta': 1, 'soft': 1, 'core': 1, 'porn': 1, 'hotel': 2, 'hurricane': 1, 'forced': 1, 'hide': 1, 'credits': 1, '60': 1, 'seconds': 1, 'za': 2, 'spent': 1, 'long': 3, 'centers': 36, 'zellweiger': 2, '1933': 1, 'naomi': 1, 'watts': 1, 'adrien': 1, 'hes': 3, 'tramp': 1, 'rango': 1, 'sleepy': 1, 'hollow': 1, 'curse': 4, 'having': 6, 'perkins': 3, 'sundance': 1, 'our': 3, 'macaulay': 1, 'culkin': 4, 'audi': 1, 'carel': 1, 'locally': 1, 'theater': 2, 'break': 1, 'departed': 2, 'cocoon': 1, 'group': 3, 'including': 3, 'thor': 2, 'warren': 6, 'beatty': 1, 'rosalind': 1, 'nurse': 3, 'helps': 1, 'polio': 1, 'patients': 1, 'ashore': 1, 'steiger': 1, 'attacking': 1, 'zardoz': 1, '20000': 1, 'leagues': 1, 'stooges': 5, 'courtroom': 1, 'florence': 1, 'machine': 3, 'sountracks': 1, 'zone': 2, 'kristin': 1, 'novak': 1, 'electra': 3, 'shamolan': 1, 'mockingbird': 1, 'peck': 11, 'radar': 1, 'oreilley': 1, 'kathryn': 1, 'bigelow': 2, '82nd': 1, 'll': 1, 'cool': 2, 'hilton': 1, 'victim': 1, 'sissy': 2, 'spacek': 2, 'unnatural': 1, 'brandon': 7, 'belle': 1, 'smart': 1, 'tootsie': 1, 'general': 5, 'furby': 1, 'benji': 1, 'altman': 3, 'fashion': 1, 'scarefest': 1, 'sweden': 1, 'chester': 1, 'teacher': 1, 'teaser': 1, 'prometheis': 1, 'blofeld': 1, 'enough': 5, 'attack': 3, 'ricci': 1, 'winona': 2, 'ryder': 2, 'chers': 1, 'daughters': 1, 'album': 1, 'angelica': 2, 'benning': 1, 'artists': 2, 'aladdin': 1, 'tattoo': 1, 'patricia': 3, 'arquette': 8, 'raspberry': 1, 'corman': 1, 'surreal': 1, 'ending': 2, 'sense': 1, 'futuristic': 1, 'everything': 1, 'frozen': 2, 'total': 1, 'degaul': 1, 'let': 5, 'hoosiers': 1, 'octopus': 1, 'devon': 4, 'sawa': 2, 'orlando': 1, 'bloom': 1, 'berenger': 2, 'russian': 6, 'defector': 1, 'maclachlan': 1, 'desert': 2, 'fritz': 10, 'fahrenheit': 1, 'itunes': 1, 'transgender': 1, 'allyson': 1, 'chart': 1, 'topping': 1, 'landis': 1, 'pitch': 1, 'closer': 1, 'clive': 1, 'suggest': 9, 'cort': 1, 'thinks': 1, 'whalberg': 1, 'miley': 1, 'cyrus': 2, 'erich': 1, 'von': 3, 'zipper': 1, 'martial': 1, 'arts': 1, 'chuck': 1, 'norris': 1, 'marilyn': 5, 'monroe': 6, 'farrell': 1, 'temple': 1, 'elite': 1, 'controversial': 1, 'bruno': 2, 'suspenseful': 1, 'tate': 4, 'reno': 2, 'ratinggenre': 1, 'ricki': 1, 'peper': 1, 'slater': 3, 'pheiffer': 1, 'catharine': 1, 'athletes': 1, 'dreyfuss': 1, 'ebsen': 1, 'january': 1, 'showboat': 1, 'venice': 1, 'assasin': 1, 'mathematics': 1, 'bean': 3, 'stage': 1, 'door': 4, 'bullitt': 1, 'whoopie': 1, 'waters': 2, 'modine': 5, 'ocean': 2, 'hands': 1, 'scissors': 1, 'nascar': 1, 'schneider': 5, 's': 752, 'heigl': 1, 'excellent': 57, 'held': 3, 'captive': 1, 'denise': 1, 'richards': 2, 'brent': 2, 'carver': 1, 'roy': 1, 'scheider': 1, 'lena': 3, 'horne': 1, 'juliana': 2, 'margulies': 2, 'biographical': 28, 'wildlife': 4, 'domineering': 2, 'riches': 3, 'glickenhaus': 1, 'decent': 49, 'spade': 2, 'liked': 134, 'lot': 49, 'miguel': 2, 'arteta': 1, 'fate': 2, 'tia': 4, 'mowry': 2, 'garber': 1, 'safehouse': 1, 'shemp': 2, 'demon': 2, 'body': 6, 'laughable': 3, 'nine': 172, 'decades': 335, 'jonathon': 3, 'silverman': 2, 'cadillac': 2, 'dysfunctional': 2, 'renfro': 4, 'sibling': 6, 'rivalry': 6, 'very': 104, 'harts': 1, 'rebellion': 2, 'bei': 1, 'po': 2, 'clippety': 1, 'clobbered': 1, 'cotto': 1, 'pacquiao': 1, '7': 2, '04': 1, 'chad': 4, 'fees': 4, 'abortion': 2, 'janeane': 1, 'garofolo': 1, 'petrarca': 1, 'portrait': 11, 'within': 91, 'eight': 172, 'watchable': 39, 'finnes': 2, 'fake': 2, 'research': 2, 'decade': 106, 'bridget': 4, 'wagner': 3, 'sport': 36, 'hack': 1, 'unrated': 149, 'experimentation': 1, 'wiebe': 1, 'obach': 2, 'mcneil': 3, 'haunting': 3, 'portraying': 1, 'combat': 3, 'matthews': 1, 'counter': 3, 'terrorism': 1, 'hewitt': 1, 'anchors': 1, 'aweigh': 1, 'ti': 2, 'involved': 19, 'entertaining': 2, 'schiller': 1, 'birthday': 1, 'imaginary': 2, 'interesting': 5, 'samantha': 2, 'becke': 2, 'dianne': 1, 'vassey': 2, 'ok': 70, 'using': 1, 'nathan': 2, 'frankowski': 1, 'ethan': 2, 'embry': 1, 'rakoff': 2, 'abandonment': 2, 'lessin': 1, 'struggle': 5, 'donovan': 1, 'tamera': 1, 'prowse': 2, 'fairies': 2, 'asher': 2, 'brough': 2, 'laurent': 1, 'bouzereau': 1, 'carchietta': 1, 'goldy': 3, 'ira': 2, 'sachs': 1, 'passfield': 1, 'shannen': 2, 'doherty': 2, 'thumbs': 52, 'near': 7, 'experiences': 2, 'capra': 18, 'avant': 30, 'garde': 30, 'mockumentaries': 3, 'theatre': 2, 'audience': 3, 'joachim': 1, 'schroeder': 1, 'tanks': 3, 'rejection': 3, 'younglove': 1, 'occult': 4, 'callum': 3, 'rennie': 3, 'gracen': 3, 'finance': 4, 'discovery': 5, 'missing': 5, 'rent': 3, 'satire': 2, 'melodrama': 23, 'religious': 2, 'cults': 1, 'multiple': 1, 'murders': 4, 'emotional': 14, 'smallwood': 2, 'levitation': 9, 'sheree': 1, 'mediocre': 57, 'bridges': 2, 'novocaine': 1, 'kohnen': 1, 'sorcerer': 3, 'killing': 1, 'bin': 1, 'laden': 1, 'burnette': 1, 'dutcher': 1, 'estes': 5, 'jorma': 1, 'taccone': 1, 'centered': 24, 'tokar': 1, 'available': 18, 'thought': 8, 'cindy': 2, 'lau': 2, 'development': 2, 'vincente': 1, 'minnelli': 3, 'gunfight': 5, 'appignanesi': 1, 'excited': 1, 'stratosphere': 1, '01': 1, 'horner': 1, 'bergin': 3, 'malkovich': 2, 'kopp': 1, 'bring': 1, 'listing': 2, 'farewell': 2, 'callan': 3, 'mulvey': 3, 'pelican': 1, 'hobbs': 1, 'vacation': 3, 'wands': 2, 'wilderness': 7, 'anyone': 4, 'gendreau': 3, 'generally': 2, 'insanity': 3, 'quattrochi': 1, 'timothy': 2, 'dalton': 1, 'lay': 1, 'cia': 4, 'cain': 2, 'sounds': 1, 'sundays': 1, 'tiffanys': 1, 'polanski': 14, 'recall': 2, 'whether': 3, 'derek': 4, 'code': 3, 'tragic': 1, 'form': 7, 'eugene': 1, 'might': 17, 'revolves': 2, 'warrior': 3, 'vulgarity': 2, 'vivica': 2, 'elves': 4, 'given': 25, 'repos': 2, 'paget': 1, 'erased': 3, 'examples': 2, 'manipulation': 2, 'lines': 2, 'megaton': 1, 'earlier': 1, 'delpy': 3, 'adler': 2, 'masterson': 4, 'larue': 1, 'speedman': 3, 'mahiro': 1, 'maeda': 1, 'dating': 2, 'jaeckel': 1, 'kuntz': 1, 'cobb': 3, 'devils': 2, 'moment': 1, 'repossessed': 1, 'officer': 1, 'homeless': 1, 'palmer': 1, 'sorvino': 10, 'tommi': 1, 'lepola': 1, 'juan': 2, 'delancer': 1, 'chaos': 3, 'direction': 2, 'carolina': 1, 'moon': 6, 'able': 9, 'picardo': 4, 'damiano': 1, 'damiani': 1, 'smuggling': 4, 'hyde': 2, 'sidoni': 2, 'describe': 5, 'terror': 6, 'tournament': 1, 'audition': 9, 'kurosawa': 7, 'autry': 5, 'pakula': 1, 'chapple': 2, 'marine': 1, 'averaged': 6, 'andrei': 5, 'tarkovsky': 5, 'andrew': 10, 'cymek': 1, 'jacobs': 1, 'leman': 1, 'bening': 2, 'haywood': 1, 'antoine': 3, 'fuqua': 1, 'marks': 1, 'genius': 1, 'gags': 4, 'benenson': 1, 'peyton': 1, 'contact': 2, 'palma': 9, 'smrz': 2, 'mysterious': 2, 'talkington': 2, 'carlos': 4, 'leon': 5, 'wedge': 1, 'falling': 2, 'category': 2, 'palko': 1, 'mosbacher': 1, 'deidre': 1, 'denis': 1, 'leary': 1, 'jacobi': 3, 'dermot': 3, 'mulroney': 3, 'dolph': 1, 'lundgren': 1, 'duncan': 3, 'mass': 3, 'eli': 1, 'roth': 2, 'federico': 14, 'fellini': 13, 'downey': 10, 'darabont': 10, 'astaire': 4, 'savage': 2, 'homicide': 1, 'hayao': 12, 'miyazaki': 12, 'narrate': 1, 'experience': 5, 'guillermo': 14, 'del': 15, 'toro': 14, 'shumlin': 1, 'opinion': 3, 'weeks': 1, 'couffer': 1, 'government': 4, 'assassin': 3, 'gold': 12, 'garner': 1, 'horan': 1, 'michelangelo': 11, 'antonioni': 11, 'patric': 1, 'lando': 1, 'slowsky': 1, 'wells': 1, 'whitesell': 1, 'lidstrom': 1, 'kenn': 1, 'navarro': 1, 'kirt': 2, 'gunn': 3, 'mario': 2, 'azzopardi': 1, 'investigations': 2, 'marlee': 2, 'matlin': 2, 'suitable': 2, 'rosen': 1, 'melanie': 2, 'biehn': 4, 'caretaker': 1, 'business': 2, 'marnos': 1, 'ziller': 1, 'painter': 4, 'mcgennis': 1, 'phil': 4, 'hartman': 3, 'siegel': 1, 'mcgowan': 2, 'phillipe': 4, 'neill': 4, 'bernhard': 3, 'sara': 1, 'sugarman': 1, 'lately': 9, 'wincer': 1, 'fugitive': 2, 'dorff': 1, 'simmons': 3, 'terrence': 10, 'malick': 9, 'entertain': 1, 'vittoria': 5, 'sica': 5, 'kramer': 1, 'marcy': 1, 'walker': 2, 'open': 4, 'bonnell': 1, 'loane': 1, 'griffiths': 1, 'laugh': 6, 'rodger': 2, 'los': 3, 'piano': 1, 'agree': 1, 'unrequited': 2, 'eden': 2, 'harvey': 3, 'concerning': 1, 'tara': 1, 'judelle': 1, 'behind': 1, 'enemy': 2, 'remote': 1, 'viewings': 1, 'pee': 2, 'wee': 2, 'hironobu': 1, 'sakaguchi': 1, 'dina': 4, 'meyer': 4, 'averaging': 1, 'grauman': 1, 'explorer': 1, 'jonathan': 8, 'glazer': 2, 'agents': 3, 'lili': 5, 'carry': 9, 'megacorporation': 3, 'happen': 8, 'memoirs': 1, 'wags': 1, 'selfishness': 1, 'across': 2, 'davidson': 4, 'assassination': 5, 'yancovic': 2, 'poltergeist': 1, 'prom': 1, 'sonja': 1, 'truckers': 2, 'giraldi': 1, 'underground': 3, 'resistance': 3, 'kris': 2, 'sherwood': 1, 'andre': 1, 'braugher': 1, 'rags': 1, 'meugniot': 1, 'politics': 2, 'nic': 2, 'izzi': 2, 'fischa': 1, 'skeet': 1, 'ulrich': 1, 'albert': 2, 'finney': 2, 'heidi': 1, 'hurt': 2, 'recommendations': 2, 'vaughan': 2, 'vengeance': 4, 'rapaport': 1, 'giancarlo': 1, 'esposito': 1, 'eaten': 6, 'intrusion': 3, 'odonell': 2, 'loretta': 1, 'alper': 1, 'elliot': 1, 'lebovitz': 1, 'doyle': 3, 'emilio': 2, 'blindness': 2, 'notorious': 1, 'scarecrow': 2, 'singles': 1, 'th': 4, 'voyage': 2, 'sinbad': 1, 'trotsky': 1, 'chosen': 2, 'dantes': 2, 'inferno': 2, 'hooker': 1, 'trunk': 1, 't': 10, 'nell': 2, 'shopgirl': 2, 'spotswood': 1, 'hustle': 1, 'toe': 2, 'raymond': 3, 'massey': 2, 'goal': 1, 'prayers': 1, 'staininger': 1, 'kenneth': 3, 'degeneres': 1, 'kunert': 2, 'salisbury': 1, 'cohn': 1, 'randolph': 2, 'mantooth': 2, 'bloody': 2, 'imposter': 2, 'heartache': 1, 'whaling': 1, 'erskine': 1, 'buscemi': 2, 'lisa': 9, 'prinze': 3, 'mistress': 1, 'clements': 1, 'bauchau': 1, 'ninja': 3, 'hopewell': 1, 'sleepwalking': 1, 'brooklyn': 4, 'gabbert': 2, 'shepard': 1, 'gabriel': 5, 'byrne': 2, 'false': 1, 'accusation': 1, 'dougray': 3, 'sight': 10, 'pumpkin': 1, 'karver': 1, 'chamitoff': 1, 'exist': 1, 'akroyd': 3, 'schizophrenia': 2, 'forget': 1, 'dolans': 1, 'eriq': 1, 'lesalle': 1, 'usually': 2, 'excuse': 1, 'connolly': 3, 'inventory': 1, 'famke': 2, 'janssen': 2, 'dealt': 4, 'deportation': 1, 'master': 3, 'kathleen': 2, 'information': 31, 'easy': 3, 'junichi': 1, 'fujisaku': 1, 'malkovic': 1, 'uth': 1, 'satterfield': 1, 'warlock': 2, 'guerrilla': 3, 'warfare': 3, 'atencio': 1, 'spirit': 3, 'dreyfus': 2, 'afghanistan': 1, 'brain': 2, 'smasher': 1, 'duck': 1, 'le': 1, 'samoura': 1, 'shaft': 1, 'static': 1, 'vanessa': 6, 'angel': 3, 'amadeus': 2, 'delirious': 1, 'insanitarium': 1, 'stand': 1, 'bulletproof': 1, 'warm': 1, 'slow': 1, 'moving': 1, 'gregg': 1, 'champion': 1, 'lapica': 1, 'cecil': 1, 'demented': 1, 'selleck': 2, 'reba': 1, 'mcentire': 1, 'moretti': 1, 'rancher': 4, 'amos': 2, 'kollek': 2, 'saulnier': 1, 'helicopter': 2, 'raid': 3, 'hiroyuki': 2, 'kitakubo': 2, 'guiness': 4, 'colm': 3, 'meaney': 2, 'joaquin': 3, 'phoenix': 3, 'theodore': 2, 'witcher': 2, 'pankov': 4, 'mitzi': 1, 'kapture': 1, 'balaban': 2, 'starvation': 1, 'takahiro': 1, 'tanaka': 1, 'mellodrama': 1, 'andrea': 3, 'destruction': 3, 'jaclyn': 1, 'norbit': 1, 'peanuts': 1, 'state': 1, 'property': 1, 'forbidden': 5, 'ocallaghan': 1, 'drake': 3, 'details': 2, 'maniac': 2, 'phoebe': 1, 'eng': 7, 'subs': 7, 'guessing': 1, 'stonerville': 1, 'getting': 4, 'stoned': 1, 'harmony': 1, 'korine': 1, 'elfont': 1, 'kwok': 2, 'alexander': 3, 'rapp': 2, 'britt': 1, 'allcroft': 1, 'cheryl': 1, 'ladd': 1, 'chrispopher': 1, 'corey': 4, 'feldman': 4, 'deforest': 2, 'erik': 2, 'macarthur': 1, 'erika': 3, 'eleniak': 3, 'small': 4, 'hayley': 2, 'mills': 2, 'jackman': 4, 'ian': 7, 'mckellen': 3, 'gedrick': 2, 'kiristine': 2, 'bravery': 5, 'kristy': 1, 'swanson': 1, 'majors': 3, 'lynn': 4, 'shelton': 4, 'hoge': 2, 'melissa': 3, 'gilbert': 2, 'feifer': 1, 'pare': 1, 'phillip': 5, 'recovering': 1, 'alcoholic': 1, 'avary': 1, 'raimi': 3, 'gellar': 2, 'teri': 2, 'polo': 2, 'heroine': 3, 'jokes': 6, 'pearson': 1, 'quality': 1, 'glover': 2, 'anybody': 1, 'yet': 5, 'sobieski': 1, 'parole': 1, 'hearing': 1, 'talisa': 1, 'soto': 1, 'cavalline': 1, 'charisma': 1, 'dacascos': 3, 'criminals': 4, 'breaking': 2, 'rescue': 5, 'nuclear': 2, 'coen': 8, 'abandoned': 4, 'infotainment': 1, 'subject': 2, 'religulous': 1, 'wallace': 1, 'heard': 6, 'meatballs': 2, 'vibes': 1, 'mm': 1, 'upwards': 1, 'swamp': 1, 'flags': 1, 'fathers': 1, 'pete': 1, 'travis': 2, 'costas': 1, 'imprisonment': 4, 'san': 3, 'giacomo': 2, 'vincie': 1, 'heartless': 1, 'barkin': 1, 'karen': 5, 'ridings': 1, 'hurtz': 1, 'due': 3, 'double': 5, 'indemnity': 1, 'documentarys': 3, 'langella': 2, 'gotten': 1, 'revolved': 6, 'campaign': 1, 'may': 10, 'revolver': 1, 'clouds': 1, 'collars': 1, 'burlesque': 1, 'compared': 1, 'shes': 4, 'duty': 1, 'perceived': 1, 'maximum': 1, 'risk': 1, 'hows': 1, 'saech': 1, 'kinear': 1, 'miranda': 1, 'nancy': 4, 'grahn': 2, 'murakami': 1, 'joel': 4, 'lloyd': 6, 'greta': 2, 'scacchi': 1, 'sedative': 2, 'kellie': 2, 'prisoners': 2, 'mine': 1, 'greenwood': 3, 'allan': 1, 'goldstein': 1, 'sands': 1, 'bosses': 1, 'edwards': 6, 'jensen': 2, 'ackles': 2, 'lovers': 2, 'raquel': 1, 'welch': 1, 'making': 1, 'dagenham': 1, 'requesting': 1, 'pam': 2, 'grier': 2, 'seem': 1, 'fishburne': 3, 'outlanders': 1, 'suggestions': 1, 'alienation': 2, 'basket': 1, 'info': 6, 'wicksboro': 1, 'incident': 1, 'moody': 1, 'bummer': 1, 'cavalry': 2, 'kuo': 1, 'ren': 1, 'wu': 2, 'public': 3, 'meins': 1, 'august': 2, 'undergrounds': 2, 'mordum': 1, 'armitage': 2, 'lange': 3, 'loneliness': 2, 'cusak': 2, 'shane': 5, 'hammond': 2, 'niall': 1, 'maccormick': 1, 'georgina': 3, 'riedel': 2, 'dimitry': 1, 'elyashkevich': 1, 'irwin': 1, 'mattson': 1, 'marcil': 2, 'addis': 1, 'wimpenny': 1, 'triumphant': 1, 'fugue': 1, 'key': 2, 'village': 1, 'mccabe': 1, 'miller': 3, 'northern': 1, 'loose': 1, 'spirits': 3, '2081': 1, 'fantastic': 1, 'thirteenth': 1, 'floor': 2, 'brittany': 2, 'snatchers': 1, 'joey': 3, 'mutilation': 2, 'driven': 1, 'masahiko': 1, 'maesawa': 1, 'definitely': 2, 'porretta': 3, 'rie': 1, 'rasmussen': 1, 'wolotzky': 2, 'franklin': 1, 'guerrero': 1, 'avery': 2, 'asner': 1, 'wonderment': 1, 'rowland': 3, 'involves': 7, 'confession': 2, 'forgiven': 1, 'lea': 8, 'salonga': 1, 'phillips': 5, 'galactic': 1, 'kendall': 1, 'prairie': 1, 'companion': 1, 'nature': 3, 'wicked': 1, 'vince': 3, 'vieluf': 1, 'leick': 2, 'masciantonio': 1, 'berkley': 1, 'larry': 6, 'peerce': 1, 'lyde': 1, 'dementia': 1, 'tribe': 1, 'levin': 1, 'kenya': 4, 'montgomery': 5, 'clift': 4, 'ann': 4, 'unconventional': 4, 'appreciate': 1, 'theresa': 4, 'randall': 3, 'gangsters': 2, 'beth': 1, 'evans': 4, 'mcdowell': 3, 'donna': 2, 'derrico': 2, 'karl': 1, 'hirsch': 2, 'sherman': 1, 'curly': 2, 'miner': 5, 'warsaw': 1, 'ghetto': 1, 'dudikoff': 2, 'whiteman': 1, 'mandy': 1, 'patinkin': 1, 'foxes': 1, 'omalley': 1, 'trejo': 1, 'morse': 2, 'dunn': 4, 'malevolence': 1, 'dwells': 1, 'wing': 1, 'chaser': 1, 'supposedly': 1, 'unicorn': 1, 'asking': 2, 'inquiring': 1, 'peterson': 3, 'interested': 3, 'immortality': 1, 'vaughn': 3, 'parallel': 2, 'universes': 1, 'balloons': 3, 'rommel': 1, 'lustig': 2, 'imagination': 2, 'pritts': 1, 'danielle': 2, 'fishel': 2, 'mulgrew': 1, 'catholicism': 1, 'osamu': 1, 'dezaki': 1, 'quaid': 1, 'ubaldo': 1, 'ragona': 1, 'basannavar': 1, 'mackenzie': 2, 'alicia': 2, 'silverstone': 2, 'rel': 1, 'filming': 1, 'style': 2, 'passion': 1, 'career': 1, 'mcclellan': 1, 'garett': 2, 'maggart': 2, 'suffering': 3, 'buzzell': 1, 'notarile': 1, 'setting': 2, 'survival': 4, 'mathew': 3, 'lillard': 3, 'julianna': 2, 'lavin': 2, 'specific': 2, 'treachery': 1, 'skelding': 2, 'wise': 4, 'vino': 1, 'salame': 1, 'joshua': 2, 'carroll': 4, 'oconner': 2, 'priestley': 2, 'ziering': 3, 'friendship': 2, 'alvarez': 1, 'peggy': 1, 'whaley': 3, 'durante': 1, 'mastrantonio': 1, 'moira': 1, 'lander': 1, 'marra': 1, 'casper': 1, 'dien': 1, 'naim': 1, 'sematary': 1, 'galaxy': 2, 'kelber': 1, 'warthog': 2, 'kazuo': 1, 'terada': 1, 'sure': 1, 'wen': 1, 'jiang': 1, 'searching': 12, 'buchanan': 1, 'akhurst': 1, 'bounty': 6, 'hunters': 1, 'mann': 2, 'xavier': 2, 'puslowski': 2, 'dome': 1, 'dogville': 1, 'robinson': 2, 'crusoe': 1, 'sharpes': 1, 'stabbing': 2, 'infantolino': 1, 'colman': 1, 'kalin': 2, 'paradox': 1, 'pilgrim': 1, 'englishman': 1, 'brandis': 1, 'disturbed': 1, 'zacharias': 1, 'proyas': 1, 'survivors': 1, 'paolo': 3, 'montalban': 3, 'wondering': 1, 'karaoke': 2, 'isitt': 1, 'entitled': 6, 'electric': 1, 'mist': 1, 'replace': 1, 'clinton': 3, 'choose': 1, 'abbess': 1, 'wizards': 2, 'moran': 1, 'forbes': 1, 'cook': 2, 'yancy': 1, '1800': 1, 'bologna': 1, 'schwimmer': 3, 'summit': 1, 'dustin': 5, 'diamond': 2, 'devitos': 1, 'downtown': 2, 'adrian': 2, 'vitoria': 1, 'steiman': 1, 'pena': 1, 'barbie': 2, 'fabrice': 2, 'du': 2, 'welz': 1, 'schrader': 1, 'leonetti': 1, 'stevan': 1, 'mena': 1, 'deals': 4, 'infantry': 1, 'vohrer': 1, 'deception': 1, 'zaphiratos': 1, 'karbelnikoff': 1, 'brett': 2, 'ricardo': 2, 'montalbon': 2, 'beghe': 3, 'gavin': 1, 'budd': 1, 'emmett': 2, 'alston': 2, 'collins': 2, 'lynda': 2, 'jail': 4, 'betrayal': 2, 'ernest': 1, 'shari': 1, 'lies': 2, 'marciano': 1, 'jada': 3, 'pinkett': 3, 'sollett': 1, 'nazi': 7, 'occupation': 1, 'activism': 4, 'isabella': 3, 'rosselini': 3, 'bryan': 1, 'sivertson': 1, 'hindman': 2, 'spacecrafts': 2, 'marcus': 3, 'raboy': 1, 'memorial': 1, 'ransom': 3, 'kearsley': 1, 'steyermark': 1, 'yasmine': 2, 'bleeth': 2, 'bayne': 1, '18': 2, 'century': 2, 'wilkins': 1, 'caruso': 1, 'tatnya': 1, 'ali': 1, 'walters': 2, 'optimism': 1, 'anarchy': 2, 'brickman': 1, 'chong': 3, 'paddy': 1, 'breathnach': 1, 'parasites': 4, 'awarded': 1, 'tori': 1, 'spelling': 1, 'cory': 1, 'brenden': 1, 'sexton': 1, 'pantiliano': 1, 'stephenson': 1, 'lara': 3, 'fabian': 1, 'joven': 1, 'tan': 1, 'cynthia': 1, 'occupied': 2, 'poland': 2, 'lederman': 1, 'diana': 2, 'riggs': 1, 'illness': 1, 'zane': 2, 'planes': 1, 'water': 2, 'cert': 1, 'mayor': 1, 'these': 2, 'drop': 1, 'gorgeous': 1, 'earthlings': 1, 'edwin': 1, 'mccain': 1, 'grandmas': 1, 'jealousy': 5, 'hoodrats': 1, 'hoodrat': 1, 'slated': 1, 'platoon': 5, 'sorority': 3, 'row': 2, 'nicholsons': 1, 'anywhere': 2, 'rosalie': 1, 'bunch': 2, 'fastest': 1, 'indian': 1, 'obvious': 1, 'marsters': 2, 'morey': 2, 'darjeeling': 1, 'limited': 1, 'necropolis': 1, 'mckenzie': 2, 'astin': 3, 'rydell': 1, 'michell': 2, 'entertainment': 3, 'thir': 1, 'en': 1, 'adults': 1, 'rip': 1, 'circuit': 1, 'remaking': 1, 'gathering': 1, 'eagles': 1, 'check': 1, 'altitude': 1, 'donnell': 1, 'rawlings': 1, 'ashy': 1, 'classy': 1, 'toons': 1, 'hells': 1, 'kitchen': 1, 'television': 1, 'ring': 2, 'shaun': 1, 'sheep': 1, 'leap': 1, 'lambkind': 1, 'siren': 1, 'slaughtered': 1, 'vomit': 1, 'dolls': 2, 'museum': 1, 'even': 1, 'alden': 1, 'redgrave': 1, 'tracie': 4, 'lords': 4, 'somehow': 2, 'ginsburg': 2, 'hooks': 2, 'widen': 1, 'mccaulay': 3, 'tales': 1, 'execution': 6, 'jordanna': 3, 'brewster': 3, 'foley': 1, 'dylan': 2, 'neal': 2, 'flintstones': 1, 'honor': 4, 'mayfield': 1, 'gina': 2, 'gershon': 2, 'heather': 2, 'graham': 1, 'ruzickova': 1, 'bonamy': 1, 'jaye': 2, 'erick': 1, 'dowdle': 1, 'taking': 2, 'stevenson': 2, 'morio': 1, 'asaka': 1, 'invisibility': 3, 'sebastian': 2, 'panneck': 2, 'amitri': 1, 'espejo': 1, 'hartle': 1, 'ned': 1, 'farr': 1, 'market': 3, 'gluck': 1, 'daniela': 2, 'pestova': 2, 'jag': 1, 'mundhra': 1, 'nikki': 2, 'cox': 3, 'vonda': 3, 'shepherd': 4, 'rosson': 1, 'scoggins': 3, 'soderbergh': 6, 'sage': 1, 'date': 3, 'duchovny': 2, 'illegal': 1, 'activity': 1, 'drenner': 1, 'patient': 1, 'disguised': 1, 'mira': 7, 'furlan': 1, 'quod': 2, 'drugs': 2, 'sexuality': 4, 'dandridge': 1, 'contend': 1, 'revolving': 7, 'stan': 4, 'kirsch': 4, 'beltran': 1, 'sticks': 1, 'starrcade': 1, 'ultimate': 1, 'mirrormask': 1, 'preston': 1, 'cruelty': 1, 'fine': 2, 'decision': 2, 'gunpoint': 1, 'focuses': 2, 'torture': 6, 'detectives': 3, 'explores': 1, 'focusing': 2, 'neel': 1, 'tetsuro': 1, 'amino': 1, 'teens': 3, 'societal': 2, 'girly': 1, 'hardship': 1, 'everlasting': 3, 'base': 2, 'bandits': 3, 'hilarious': 1, 'couple': 1, 'twisters': 1, 'snipers': 3, 'neretva': 1, 'shack': 1, 'joneses': 1, '976': 1, 'bangkok': 1, 'dr': 10, 'caparulo': 1, 'cap': 1, 'malibu': 1, 'motocrossed': 1, 'paper': 1, 'woodstock': 1, 'tenten': 1, 'diemens': 1, 'cannabis': 1, 'cured': 1, 'irving': 3, 'lerner': 1, 'revenge': 5, 'tx': 1, 'ado': 2, 'kalangis': 1, 'church': 1, 'gorney': 3, 'baron': 2, 'munchausen': 1, 'sunset': 2, 'briefcase': 1, 'oregon': 1, 'jennie': 1, 'garth': 2, 'amateurs': 1, 'silver': 1, 'haim': 3, 'gero': 1, 'bancroft': 2, 'investigation': 3, 'gosselar': 2, 'roxann': 2, 'browne': 1, 'unhappy': 2, 'sexual': 2, 'fischer': 1, 'content': 1, 'kentis': 1, 'harvest': 3, 'waitt': 1, 'mathilde': 1, 'bittner': 1, 'self': 3, 'saffa': 1, 'fever': 3, 'head': 9, 'plan': 1, 'anticipated': 1, 'jeri': 3, 'sweetheart': 1, 'gasaway': 1, 'cattle': 1, 'marc': 2, 'rocco': 2, 'biel': 2, 'townsend': 3, 'criminal': 1, 'mastermind': 1, 'sherry': 1, 'stringfield': 1, 'dual': 2, 'identities': 1, 'boaz': 1, 'yakin': 1, 'appeal': 1, 'jeffery': 1, 'friedman': 1, 'fickman': 1, 'maddocks': 1, 'freiburger': 1, 'surgery': 1, 'shalmar': 1, 'joke': 3, 'kimberly': 1, 'mcculough': 1, 'merit': 1, 'badge': 1, 'ari': 1, 'taub': 1, 'robins': 1, 'shakes': 1, 'jennings': 1, 'shoehorned': 1, 'subplot': 1, 'hitchhikers': 1, 'guide': 1, 'toys': 3, 'chance': 1, 'dissociative': 1, 'disorder': 1, 'jfk': 2, 'gomez': 1, 'bleckner': 1, 'fighter': 1, 'jarmusch': 1, 'krista': 2, 'morrit': 2, 'fuest': 1, 'julian': 3, 'kemp': 1, 'files': 1, 'hoover': 1, 'levar': 3, 'blackmail': 1, 'donuts': 2, 'carrot': 1, 'keri': 1, 'maid': 1, 'cole': 1, 'scar': 2, 'alison': 1, 'raimund': 1, 'huber': 1, 'shunji': 1, 'iwai': 1, 'transylvania': 1, 'micheal': 1, 'lester': 2, 'calista': 1, 'flockhart': 1, 'mccrudden': 1, 'haggerty': 4, 'lucci': 1, 'turteltaub': 1, 'lozano': 1, 'powell': 2, 'whitworth': 2, 'jan': 4, 'rachman': 1, 'crimes': 4, 'velcrow': 1, 'ripper': 1, 'garrett': 2, 'wang': 2, 'johan': 1, 'grimonprez': 1, 'peopled': 1, 'laughed': 1, 'gian': 2, 'keth': 1, 'szarabajka': 1, 'wolochatiuk': 1, 'huntington': 2, 'seiji': 1, 'chiba': 1, 'stolz': 3, 'comical': 1, 'nibbelink': 1, 'technology': 1, 'delaney': 2, 'manger': 1, 'aidan': 4, 'quinn': 4, 'maurice': 4, 'chair': 1, 'mellisa': 3, 'hart': 3, 'carrere': 2, 'polson': 1, 'josetxo': 1, 'mateo': 1, 'bell': 3, 'ferland': 1, 'bassett': 3, 'dorn': 2, 'storage': 1, 'felicias': 1, 'fusion': 1, 'trip': 2, 'fro': 1, 'tanya': 4, 'cyborg': 1, 'ileana': 2, 'winkler': 2, 'tiffani': 3, 'thiessen': 3, 'byington': 1, 'loss': 1, 'mitchum': 1, 'takashi': 1, 'ishii': 1, 'reconnaissance': 1, 'cafiero': 1, 'broken': 2, 'engagement': 1, 'hagman': 1, 'sugg': 1, 'rowlands': 1, 'herbert': 2, 'coleman': 1, 'gerard': 2, 'depardieu': 2, 'pushed': 1, 'lew': 1, 'attempted': 2, 'milestone': 1, 'relating': 1, 'gino': 1, 'nichele': 1, 'natascha': 1, 'mcelhone': 1, 'jeffrey': 1, 'katzenberg': 1, 'kathie': 1, 'gifford': 1, 'kriv': 1, 'stenders': 1, 'burgi': 1, 'midlife': 1, 'crisis': 1, 'geno': 1, 'mcgahee': 1, 'zach': 1, 'hofmeyr': 1, 'brock': 3, 'basil': 1, 'cloke': 1, 'minutes': 1, 'graffiti': 1, 'tennis': 1, 'pursuit': 2, 'sortie': 1, 'des': 1, 'ateliers': 1, 'vibert': 1, 'bride': 3, 'toms': 1, 'midnight': 1, 'garden': 1, 'valmont': 1, 'melman': 1, 'shanley': 1, 'strike': 2, 'schlesinger': 1, 'lambert': 4, 'lon': 1, 'chaney': 1, 'attempt': 3, 'orphans': 1, 'wrye': 2, 'fernando': 1, 'colunga': 1, 'sher': 1, 'anna': 2, 'galvin': 1, 'einstein': 2, 'incorporate': 1, 'shapeshifting': 3, 'ryans': 1, 'rupert': 3, 'everet': 3, 'poet': 2, 'irish': 2, 'friedkin': 1, 'hamburg': 1, 'winger': 2, 'lebrock': 2, 'margret': 1, 'places': 3, 'basic': 1, 'instinct': 1, 'strong': 1, 'gornick': 2, 'melodramas': 2, 'several': 12, 'jeffs': 1, 'kieran': 1, 'carney': 2, 'twenty': 1, 'reprieve': 1, 'pale': 1, 'gates': 3, 'mcfadden': 2, 'central': 2, 'believers': 1, 'dangerous': 2, 'saturn': 1, 'territories': 1, 'cooler': 1, 'rimshop': 1, 'delbert': 1, 'lawless': 1, 'listed': 1, 'dishonor': 2, 'receiving': 2, 'kazuaki': 1, 'kiriya': 1, 'skill': 1, 'stevens': 2, 'infidelity': 1, 'fraunces': 1, 'premise': 2, 'exciting': 1, 'maniacts': 1, 'chuang': 1, 'mellinda': 2, 'mention': 1, 'haussman': 1, 'michel': 2, 'orion': 1, 'suede': 1, 'ide': 1, 'shootout': 1, 'brokedown': 1, 'palace': 1, 'fiddler': 1, 'roof': 1, 'sarahs': 1, 'choice': 1, 'maria': 3, 'bello': 4, 'favorites': 1, 'pinson': 3, 'cukor': 1, 'woodward': 1, 'debuted': 1, 'frankel': 1, 'osteen': 1, 'lachman': 1, 'heroes': 2, 'crash': 2, 'polito': 1, 'addresses': 1, 'consequences': 2, 'deforestation': 1, 'skirmishes': 1, 'border': 2, 'reiser': 2, 'meehl': 1, 'womens': 1, 'der': 1, 'beek': 1, 'ultimately': 1, 'ikea': 1, 'rise': 1, 'byrd': 1, 'mcdonald': 1, 'archer': 1, 'luner': 2, 'disfigured': 1, 'supper': 1, 'doomsday': 1, 'device': 1, 'directory': 1, 'bam': 1, 'margera': 1, 'global': 3, 'climate': 1, 'issue': 1, 'boase': 1, 'madsen': 2, 'gains': 1, 'guilietta': 1, 'masina': 1, 'haley': 2, 'flatland': 1, 'okay': 1, 'cky': 1, 'k': 1, 'enjoyed': 1, 'retirement': 3, 'sullivan': 1, 'kirby': 1, 'dick': 1, 'example': 1, 'security': 2, 'kell': 1, 'evan': 1, 'detten': 1, 'willard': 2, 'ivan': 2, 'mitov': 1, 'melinda': 1, 'clarke': 1, 'pregnancy': 2, 'jo': 2, 'chandler': 2, 'wilcox': 1, 'ric': 1, 'monte': 1, 'snatching': 1, 'salley': 1, 'dennehy': 3, 'kari': 2, 'wuhrer': 2, 'mccormack': 1, 'marcos': 1, 'efron': 1, 'fina': 1, 'torres': 1, 'duhame': 1, 'jac': 1, 'schaeffer': 1, 'kinney': 1, 'loverboy': 1, 'mnemonic': 1, 'soapdish': 1, 'bradley': 1, 'stockholm': 1, 'syndrome': 1, 'summarize': 2, 'serpent': 1, 'keegan': 1, 'raising': 1, 'arizona': 1, 'panorama': 1, 'hardware': 1, 'cover': 1, 'zerophilia': 1, 'acceptance': 1, 'exit': 1, 'milla': 1, 'jovovich': 1, 'rafelson': 1, 'oh': 1, 'thunderbolt': 1, 'lightfoot': 1, 'sweatshop': 1, 'elektra': 1, 'actions': 1, 'phedon': 1, 'papamichael': 1, 'cess': 1, 'silvera': 1, 'terrorist': 3, 'travelers': 1, 'boondock': 1, 'saints': 1, 'corky': 1, 'romano': 1, 'bunraku': 1, 'jay': 3, 'duplass': 1, 'calvert': 1, 'rigg': 1, 'hybrid': 1, 'unsettling': 1, 'alaimo': 1, 'sackheim': 2, 'cheetah': 1, 'gonzalez': 1, 'paxton': 1, 'tatopoulos': 1, 'killed': 5, 'laughs': 1, 'fugitives': 2, 'lamont': 1, 'starman': 1, 'offered': 7, 'such': 3, 'damato': 2, 'promises': 2, 'assayas': 1, 'shou': 1, 'wanted': 2, 'wanting': 4, 'lasted': 1, 'martyn': 1, 'pick': 1, 'alberta': 1, 'company': 2, 'cassandra': 2, 'alyssa': 2, 'moy': 1, 'job': 5, 'claudia': 3, 'debrah': 1, 'farentino': 1, 'donnie': 1, 'walberg': 1, 'ridgemont': 1, 'geena': 1, 'geri': 2, 'halliwell': 2, 'poole': 1, 'chen': 1, 'madeline': 1, 'stowe': 1, 'follows': 1, 'shanks': 3, 'valen': 1, 'boer': 1, 'instrumental': 1, 'appearing': 1, 'stacey': 1, 'ugly': 1, 'guard': 1, 'fridel': 1, 'oconnor': 4, 'sitch': 2, 'cambodia': 2, 'blaine': 1, 'patton': 2, 'budreau': 1, 'pistol': 1, 'whip': 1, 'leah': 1, 'sturgis': 1, 'lou': 2, 'sims': 1, 'friz': 1, 'freleng': 1, 'outcast': 1, 'food': 2, 'approved': 1, 'meerkat': 1, 'ri': 1, 'chard': 1, 'though': 1, 'kinji': 1, 'fukasaku': 1, 'morrison': 1, 'dominique': 1, 'milano': 2, 'parise': 1, 'corporate': 2, 'ernst': 1, 'gossner': 1, 'doran': 1, 'dale': 3, 'steffanino': 1, 'barnz': 1, 'doucette': 1, 'largely': 1, 'ulmer': 1, 'florian': 1, 'henckel': 1, 'donnersmarck': 1, 'averages': 1, 'murdered': 1, 'marek': 1, 'losey': 1, 'solitary': 2, 'confinement': 2, 'clancy': 1, 'roos': 1, 'germany': 1, 'alphonso': 2, 'tze': 1, 'chun': 1, 'deemed': 3, 'larabe': 2, 'kolton': 1, 'focused': 3, 'kilner': 1, 'norda': 1, 'aronoff': 1, 'seller': 1, 'nia': 1, 'vardalos': 1, 'technically': 1, 'prendergast': 1, 'mazin': 1, 'holechek': 1, 'anjelica': 1, 'russ': 1, 'todd': 4, 'verow': 1, 'alcohol': 4, 'fairuza': 1, 'balk': 1, 'kristine': 1, 'mendes': 1, 'huck': 1, 'botko': 1, 'jalmari': 1, 'helander': 1, 'kevan': 1, 'rage': 2, 'kostas': 1, 'karagiannis': 1, 'genocide': 1, 'nair': 1, 'gurland': 1, 'mohr': 1, 'lance': 3, 'weiler': 1, 'pepper': 2, 'argott': 1, 'standoff': 3, 'toni': 1, 'harman': 1, 'liza': 2, 'int': 2, 'decerchio': 1, 'anita': 1, 'laselva': 1, 'vehicle': 1, 'demme': 1, 'psychopath': 2, 'northam': 1, 'isacsson': 1, 'pays': 1, 'melski': 1, 'accidental': 1, 'alberto': 1, 'cavalcanti': 1, 'embezzlement': 2, 'menell': 1, 'hypocrisy': 1, 'deblois': 1, 'reflection': 1, 'levien': 1, 'pascal': 1, 'franchot': 1, 'mcconaughey': 2, 'fiennes': 1, 'smits': 1, 'patty': 2, 'jenkins': 3, 'scribner': 1, 'revolution': 1, 'bangalter': 1, 'rowell': 1, 'warner': 1, 'spiner': 1, 'till': 2, 'barker': 1, 'axelgaard': 1, 'teddy': 4, 'tylo': 1, 'christensen': 1, 'oliveira': 1, 'ruben': 1, 'preuss': 1, 'brownrigg': 1, 'ritter': 1, 'betz': 1, 'solunga': 2, 'despair': 1, 'sangiuliano': 1, 'natasha': 3, 'pavlovich': 2, 'benard': 3, 'annakin': 1, 'aldas': 1, 'reiners': 1, 'myles': 2, 'fergusons': 2, 'mccarthys': 1, 'biographys': 1, 'thora': 1, 'birch': 2, 'choices': 1, 'hank': 1, 'braxtan': 1, 'jerami': 1, 'asquith': 1, 'gariazzo': 1, 'shyu': 1, 'greenfield': 1, 'whale': 1, 'facts': 1, 'malloy': 1, 'lissa': 1, 'rinna': 1, 'thief': 2, 'henstridge': 1, 'wainwright': 1, 'gabby': 1, 'peters': 1, 'tuukka': 1, 'tiensuu': 1, 'matthau': 1, 'chu': 1, 'amusing': 1, 'annoying': 1, 'roommate': 1, 'simple': 1, 'platt': 1, 'cybill': 1, 'tea': 2, 'leoni': 2, 'afterlife': 1, 'portillo': 2, 'speers': 1, 'binder': 1, 'kent': 1, 'jared': 2, 'leto': 2, 'stern': 2, 'wolfinger': 1, 'sadofsky': 1, 'axel': 1, 'rebecca': 4, 'cammisa': 1, 'sophia': 1, 'loren': 1, 'river': 4, 'doremus': 2, 'rosanna': 2, 'munro': 1, 'blutman': 1, 'desi': 1, 'arnaz': 1, 'cheech': 1, 'marin': 1, 'engstrom': 1, 'tomas': 1, 'sandquist': 1, 'baird': 1, 'wiley': 1, 'fishman': 1, 'classified': 1, 'dover': 1, 'koshashvili': 1, 'henriksen': 1, 'kiersch': 1, 'humber': 1, 'balderstone': 1, 'placid': 1, 'monkey': 1, 'presidents': 1, 'sleepover': 1, 'freebie': 1, 'capote': 1, 'elf': 1, 'hustler': 1, 'pasdar': 1, 'denk': 1, 'motor': 1, 'hurley': 1, 'rentzel': 1, 'thueson': 1, 'squeakquel': 1, 'boogeyman': 1, 'turin': 1, 'webber': 1, 'orgy': 1, 'becoming': 1, 'darklands': 1, 'def': 1, 'diggers': 1, 'dysfunktional': 2, 'electroma': 1, 'gung': 1, 'ho': 1, 'carlsons': 1, 'makin': 1, 'corpses': 1, 'confusing': 1, 'internal': 1, 'jakes': 1, 'corner': 1, 'luster': 1, 'brandos': 1, 'bones': 2, 'blueberry': 1, 'lai': 2, 'prefontaine': 1, 'niros': 1, 'satans': 2, 'helper': 2, 'simpatico': 1, 'figures': 1, 'slingshot': 1, 'someones': 1, 'knocking': 1, 'splintered': 1, 'hawks': 1, 'hounds': 1, 'adele': 1, 'sec': 1, 'grey': 1, 'hire': 1, 'ambush': 1, 'others': 2, 'signal': 1, 'trading': 1, 'trick': 1, 'twin': 1, 'peaks': 1, 'unrivaled': 1, 'wisegal': 1, 'zenon': 1, 'zequel': 1, 'molina': 1, 'maggi': 1, 'sykes': 1, 'tiffany': 1, 'kilbourne': 1, 'raged': 1, 'katsuhiro': 1, 'ohtomo': 1, 'gibney': 1, 'duffy': 1, 'freudenthal': 1, 'concerns': 1, 'barnick': 1, 'ving': 1, 'rhames': 1, 'monika': 1, 'treut': 1, 'injustice': 1, 'crowder': 1, 'february': 1, 'christophe': 1, 'gans': 1, 'conway': 1, 'jessy': 1, 'terrero': 1, 'organized': 2, 'troupe': 1, 'description': 1, 'carvey': 1, 'scolari': 1, 'abilities': 1, 'lien': 1, 'bobbie': 1, 'ellis': 1, 'brutality': 1, 'gayheart': 2, 'boogie': 1, 'woogie': 1, 'laughing': 1, 'twisted': 2, 'tasers': 1, 'isaacs': 1, 'lorentzon': 1, 'darlene': 1, 'vogel': 1, 'rene': 3, 'russo': 4, 'vaungh': 1, 'heady': 2, 'anat': 1, 'seftel': 1, 'polish': 1, 'williamson': 1, 'abuse': 1, 'felitta': 1, 'callahan': 3, 'mining': 3, 'minkoff': 1, 'wincat': 1, 'alcala': 1, 'bellware': 1, 'lieutenant': 1, 'chelsom': 1, 'dom': 1, 'rotheroe': 1, 'champions': 1, 'gale': 1, 'harding': 1, 'regarding': 2, 'hacker': 1, 'mikey': 1, 'hilb': 1, 'strock': 1, 'posey': 1, 'ferguson': 1, 'altieri': 1, 'langer': 1, 'burny': 1, 'mattinson': 1, 'delta': 2, 'burke': 3, 'rowan': 1, 'bednarski': 1, 'stephens': 1, 'cassidy': 3, 'jewish': 2, 'paudge': 1, 'behan': 1, 'yudis': 2, 'jorge': 1, 'solis': 1, 'sweeney': 1, 'sorbo': 1, 'foot': 1, 'wayons': 2, 'stellan': 2, 'olsson': 2, 'cerasolis': 1, 'damian': 1, 'roland': 1, 'emmerich': 1, 'bo': 1, 'zenga': 1, 'dogma': 1, 'headless': 1, 'horseman': 1, 'darwell': 1, 'longis': 1, 'homo': 1, 'erectus': 1, 'rollercoaster': 1, 'mouseketeers': 1, 'breakin': 1, 'everett': 1, 'harmon': 1, 'overton': 1, 'courtship': 1, 'eddies': 1, 'basis': 1, 'believer': 1, 'adventurer': 1, 'narrated': 1, 'monkeybone': 1, 'edge': 1, 'annapolis': 1, 'blackboard': 1, 'teds': 1, 'bullet': 1, 'cherrybomb': 1, 'americas': 1, 'cyber': 1, 'threat': 1, 'divine': 1, 'ya': 2, 'sisterhood': 1, 'dumping': 2, 'gekijouban': 1, 'stay': 1, 'unlimited': 1, 'works': 1, 'gymkata': 1, 'normal': 1, 'newsmakers': 1, 'majestys': 1, 'service': 1, 'silicon': 1, 'valley': 3, 'rancid': 1, 'rockaway': 1, 'sanctimony': 1, 'taboo': 1, 'botany': 1, 'confidant': 1, 'tremors': 1, 'triangle': 2, 'waking': 1, 'wilde': 1, 'marina': 1, 'gavrilova': 1, 'exotic': 1, 'mask': 1, 'trikonis': 1, 'cream': 1, 'coscarellis': 1, 'tapping': 2, 'bairstow': 1, 'garfield': 1, 'gabrielle': 1, 'anwar': 1, 'barely': 1, 'preparatory': 1, 'goldblum': 2, 'rater': 1, 'loop': 1, 'ally': 1, 'beverley': 1, 'mitchell': 2, 'schatzberg': 1, 'ingo': 1, 'rademacher': 1, 'darrell': 1, 'mapson': 1, 'jumbo': 1, 'roadkill': 1, 'bonifacio': 1, 'frakes': 1, 'cocktail': 1, 'assemblage': 1, 'sphere': 1, 'koehler': 1, 'zuccon': 1, 'quadrophenia': 1, 'tides': 4, 'fit': 1, 'uninvited': 1, 'unloved': 1, 'camping': 1, 'dusk': 1, 'destiny': 1, 'hedge': 1, 'spinout': 1, 'roscoe': 1, 'penance': 1, 'metamorphosis': 1, 'tigerland': 1, 'bongwater': 1, 'cow': 1, 'target': 2, 'patti': 1, 'labelle': 1, 'sargent': 1, 'kopple': 1, 'segal': 2, 'resnikoff': 1, 'abell': 1, 'storke': 1, 'tells': 2, 'locklear': 1, 'fairy': 1, 'far': 1, 'elliotte': 1, 'bankruptcy': 1, 'hamid': 1, 'gurkha': 1, 'grief': 1, 'wim': 1, 'wenders': 1, 'dannelly': 1, 'rory': 1, 'mchenry': 1, 'bangs': 1, 'grossman': 1, 'heisler': 1, 'egleson': 1, 'mandelbaum': 1, 'fields': 1, 'zieff': 1, 'demoniacs': 1, 'tile': 1, 'simcha': 1, 'jacobovici': 1, 'create': 2, 'fellinis': 1, 'zeitgeist': 1, 'griffin': 1, 'reflections': 1, 'groomsmen': 1, 'radiation': 1, 'fated': 2, 'hurst': 1, 'judging': 1, 'digital': 1, 'evolution': 2, 'houchins': 1, 'witchcraft': 1, 'renoire': 1, 'settings': 1, 'spader': 1, 'naked': 2, 'lighter': 1, 'lower': 2, 'fahey': 1, 'salli': 1, 'reputations': 1, 'viewing': 1, 'jann': 1, 'butch': 1, 'saul': 1, 'dibb': 1, 'lockheart': 1, 'switzer': 1, 'mccallum': 1, 'gondry': 1, 'hartfield': 1, 'qualifies': 7, 'pitof': 1, 'fairchild': 1, 'stouffer': 1, 'dani': 1, 'menkin': 1, 'colleges': 1, 'bouzaglo': 1, 'sheridan': 1, 'hollis': 1, 'chamberlain': 1, 'lacey': 1, 'chabert': 1, 'thaw': 1, 'brady': 1, 'barrett': 1, 'iren': 1, 'koster': 1, 'pytka': 1, 'ciarn': 1, 'hinds': 1, 'shorts': 1, 'ipson': 1, 'donal': 1, 'mosher': 1, 'batchelor': 1, 'courtois': 1, 'galland': 1, 'brings': 1, 'forth': 1, 'totally': 1, 'paint': 1, 'wagon': 1, 'leitch': 1, 'colleen': 1, 'dewhurst': 1, 'rosenberg': 1, 'kosick': 1, 'tillman': 1, 'valentine': 1, 'pelka': 1, 'coneybeare': 1, 'hillcoat': 1, 'carl': 1, '964': 2, 'pinocchio': 2, 'neighbours': 1, 'cages': 1, 'rudo': 1, 'y': 1, 'cursi': 1, 'shrink': 2, 'musician': 1, 'unwed': 1, 'gunslinger': 1, 'alderton': 1, 'chih': 1, 'leong': 1, 'hallucination': 1, 'signorelli': 1, 'lowe': 1, 'cypher': 1, 'cipolla': 1, 'cicely': 1, 'dammes': 1, 'atwell': 1, 'passenger': 1, '57': 1, 'wad': 1, 'coal': 1, 'rufus': 1, 'sewell': 1, 'rosas': 1, 'terence': 1, 'daw': 1, 'crasher': 1, 'bend': 1, 'cheyenne': 1, 'cruel': 1, 'necessary': 1, 'creation': 1, 'dressed': 1, 'straight': 1, 'magoo': 1, 'magnificent': 2, 'sleep': 2, 'drunks': 1, 'boxleitner': 1, 'whatever': 1, 'wire': 1, 'brotherhood': 1, 'tapes': 1, 'grimble': 1, 'bender': 1, 'enjoyable': 1, 'trandem': 1, 'mate': 1, 'gullivers': 2, 'travels': 2, 'weights': 1, 'kinsey': 1, 'joffe': 1, 'necromentia': 1, 'overnight': 1, 'delivery': 1, 'pounds': 1, 'subtle': 1, 'seduction': 1, 'saved': 1, 'pain': 1, 'proudly': 1, 'hail': 2, 'whaledreamers': 1, 'chucky': 1, 'fruit': 1, 'metropia': 1, 'judgment': 2, 'walls': 1, 'cinema': 2, 'afraid': 1, 'senior': 1, 'gamers': 1, 'dorkness': 1, 'rising': 2, 'billion': 1, 'scooby': 2, 'doo': 3, 'abracadabra': 1, 'heredity': 1, 'valdemar': 1, 'bittersweet': 1, 'backyards': 1, 'fierlinger': 1, 'vadim': 1, 'sheng': 1, 'ding': 1, 'gummo': 1, 'grizzly': 1, 'loch': 1, 'ness': 1, 'lawn': 1, 'principal': 1, 'purchase': 5, 'online': 2, 'sandor': 1, 'rank': 2, 'among': 2, 'nicola': 1, 'bounce': 1, 'showing': 1, 'sunday': 1, 'dagger': 1, 'okuribito': 1, 'ran': 1, 'rear': 2, 'graveyard': 1, 'shift': 1, 'hours': 1, 'pepin': 1, 'markowitz': 1, 'storytelling': 1, 'lovelace': 1, 'conrad': 1, 'rooks': 1, 'centering': 1, 'hutchison': 1, 'palance': 1, 'cutler': 1, 'stacy': 1, 'zinn': 1, 'bakshi': 1, 'dealers': 1, 'fleming': 1, 'aquarium': 1, 'sabato': 1, 'berkelys': 1, 'deniros': 1, 'mcnee': 1, 'joness': 1, 'diary': 1, 'wolf': 1, 'assassins': 1, 'merry': 1, 'bridge': 2, 'camouflaged': 1, 'blackie': 1, 'wheel': 1, 'candyman': 1, 'cleo': 1, 'pimpernel': 1, 'cello': 1, 'aykroyd': 1, 'unplugged': 1, 'ufos': 1, 'bone': 2, 'hat': 1, 'chamber': 1, 'hey': 2, 'esther': 1, 'blueburger': 1, 'player': 1, 'abby': 1, 'kick': 1, 'ass': 1, 'laputa': 1, 'lets': 2, 'lornas': 1, 'neshoba': 1, 'northfork': 1, 'orange': 1, 'county': 1, 'perestroika': 1, 'primal': 1, 'cut': 1, 'dirt': 1, 'seraphim': 1, 'falls': 1, 'silkwood': 1, 'slam': 1, 'bang': 1, 'splatter': 1, 'disco': 1, 'blvd': 1, 'sweet': 1, 'sweetbacks': 1, 'baadasssss': 1, 'bells': 1, 'ipcress': 1, 'file': 1, '1900': 1, 'knew': 1, 'bees': 1, 'sweetest': 1, 'telling': 1, 'unknown': 1, 'wanderers': 1, 'wicker': 1, 'thunderpants': 1, 'mini': 1, 'midkiff': 1, 'environmentalism': 1, 'gallipoli': 1, 'nineteen': 1, 'eighty': 1, 'bricktown': 1, 'flypaper': 1, 'longshots': 1, 'wolves': 1, 'buck': 1, 'expedition': 1, 'invaders': 1, 'tortured': 1, 'irishman': 1, 'zoom': 1, 'cu': 1, 'mama': 1, 'rugrats': 1, 'sitting': 1, 'waterfall': 1, 'almost': 1, 'meth': 1, 'legion': 1, 'macbeth': 1, 'masters': 1, 'universe': 1, 'terrifying': 1, 'girlfriends': 1, 'lunch': 1, 'babes': 1, 'thon': 1, 'tenshi': 1, 'tamago': 1, 'lovely': 2, 'winters': 1, 'curfew': 1, 'disclosure': 1, 'salvation': 1, 'chips': 1, 'lifetime': 1, 'cosmos': 1, 'ace': 1, 'hole': 1, 'candle': 1, 'wine': 1, 'cemetery': 1, 'junction': 1, 'chains': 1, 'worry': 1, 'italian': 1, 'fubar': 1, 'gargoyles': 1, 'conquering': 1, 'changi': 1, 'keeping': 1, 'mum': 1, 'alphabet': 1, 'charge': 1, 'feather': 1, 'souled': 1, 'watermelon': 1, 'chicken': 1, 'paranormal': 1, 'penomena': 1, 'relic': 1, 'matilda': 1, 'miles': 1, 'profondo': 1, 'rosso': 1, 'smash': 1, 'camera': 1, 'grinch': 1, 'batteries': 1, 'wives': 1, 'lefay': 1, 'crossover': 1, 'wax': 1, 'passage': 1, 'marseille': 1, 'jawbreaker': 1, 'highway': 1, 'runnery': 1, 'eagle': 1, 'easel': 1, 'robocop': 1, 'gear': 1, 'solid': 1, 'orchid': 1, 'vicious': 1, 'priest': 1, 'cedric': 2, 'gibbons': 1, 'apartment': 1, 'sorted': 1, 'hutton': 1, 'hardwicke': 1, 'traci': 1, 'bingham': 1, 'movei': 1, 'movement': 2, 'fictional': 1, 'espionage': 1, 'fuminori': 1, 'kizaki': 1, 'trevor': 1, 'saloon': 1, 'thrown': 1, 'situations': 1, 'crossed': 1, 'axe': 1, 'horde': 1, 'withing': 1, 'geraint': 1, 'wyne': 1, 'davies': 1, 'website': 5, 'detailed': 2, 'opinions': 1, 'common': 1, 'already': 1, 'users': 1, 'evita': 5, 'comments': 1, 'boring': 1, 'sentiment': 1, 'site': 1, 'bit': 1, 'awesome': 1, 'glimpse': 1, 'clip': 1, 'extended': 1, 'highlights': 1, 'spoilers': 2, 'snippets': 1, 'cinemas': 1, '97': 2, 'uhhh': 1, 'darth': 6, 'vader': 6, 'chapter': 1, 'muppet': 1, 'isn': 1, 'potato': 8, 'favourite': 1, 'probably': 1, 'quiet': 1, 'front': 1, 'sunrise': 1, 'intolerance': 1, 'schindler': 1, 'north': 1, 'northwest': 1, 'hur': 1, 'mystic': 1, 'paradisio': 1, 'sierra': 1, 'madre': 1, 'heat': 3, 'connection': 1, 'breathless': 1, 'avventura': 1, 'saturday': 1, 'battleship': 1, 'potemkin': 1, 'un': 1, 'chien': 1, 'andalou': 1, 'strawberries': 1, 'ugestu': 1, 'monogatari': 1, 'ambersons': 1, 'zhivago': 1, 'exorcist': 1, 'towers': 1, 'dictator': 1, 'deadly': 1, 'darling': 1, 'clementine': 1, 'yojimbo': 1, 'cabinet': 1, 'caligari': 1, 'discreet': 1, 'charm': 1, 'bourgeoisie': 1, 'peeping': 1, 'marienbad': 1, 'noon': 1, 'wages': 1, 'splendor': 1, 'grass': 1, 'fargo': 1, 'ikiru': 1, 'singin': 2, 'aguirre': 1, ',': 1, 'wrath': 2, 'aparajito': 1, 'philadelphia': 1, 'manchurian': 1, 'candidate': 1, 'afternoon': 1, 'diabolique': 1, 'traffic': 1, 'cries': 1, 'whispers': 1, 'closely': 1, 'trains': 1, 'strangelove': 1, 'maltese': 1, 'falcon': 1, 'chinatown': 1, 'rules': 1, 'scrooge': 1, 'eraserhead': 1, 'apu': 1, 'grapes': 1, 'rosemary': 1, 'das': 1, 'boot': 1, 'stagecoach': 1, 'yankee': 1, 'doodle': 1, 'dandy': 1, 'kwai': 1, 'asphalt': 1, 'stranger': 3, 'alicein': 1, 'hara': 1}\n"
          ],
          "name": "stdout"
        },
        {
          "output_type": "display_data",
          "data": {
            "image/png": "[encoded data removed]",
            "text/plain": [
              "<Figure size 842.4x595.44 with 1 Axes>"
            ]
          },
          "metadata": {
            "tags": []
          }
        }
      ]
    },
    {
      "cell_type": "markdown",
      "metadata": {
        "id": "d7pIJmZCgRMA"
      },
      "source": [
        "### 1.2.4 Cumulative token frequency"
      ]
    },
    {
      "cell_type": "code",
      "metadata": {
        "colab": {
          "base_uri": "https://localhost:8080/",
          "height": 529
        },
        "id": "1mi4Vw5ABFXg",
        "outputId": "0bb72afe-75e2-4f9c-d64c-cc8694710a71"
      },
      "source": [
        "# Plot the cumulative distribution of token frequency\n",
        "def cumulative_token_frequency(series, limit=20):\n",
        "    '''\n",
        "      Input:\n",
        "        series - pd.Series of words\n",
        "      Output:\n",
        "        [plot] - cumulative distribution of token frequency\n",
        "    '''\n",
        "    corpus=[word for word in series]\n",
        "    counter=Counter(corpus)\n",
        "    tokens_count = dict(counter).items()\n",
        "\n",
        "    prop_list = []\n",
        "    print(\"Vocabulary Size: \", len(tokens_count))\n",
        "    for i in range(limit):\n",
        "        tokens_filtered = len(list(filter(lambda x: x[1]<=i, tokens_count)))\n",
        "        prop_list.append(round(tokens_filtered*100/len(tokens_count),2))\n",
        "    a4_dims = (11.7, 8.27)\n",
        "    fig, ax = plt.subplots(figsize=a4_dims)\n",
        "    plt.plot(prop_list)\n",
        "    plt.grid()\n",
        "    plt.xlabel(\"Counts\")\n",
        "    plt.ylabel(\"Proportion of Vocabulary (%)\")\n",
        "    # print(\"Proportion of unique words less than\",limit,\": \", round(tokens_filtered*100/len(tokens_dict),2),\"%\")\n",
        "\n",
        "cumulative_token_frequency(df[\"Word\"])"
      ],
      "execution_count": null,
      "outputs": [
        {
          "output_type": "stream",
          "text": [
            "Vocabulary Size:  6710\n"
          ],
          "name": "stdout"
        },
        {
          "output_type": "display_data",
          "data": {
            "image/png": "[encoded data removed]",
            "text/plain": [
              "<Figure size 842.4x595.44 with 1 Axes>"
            ]
          },
          "metadata": {
            "tags": []
          }
        }
      ]
    },
    {
      "cell_type": "markdown",
      "metadata": {
        "id": "KE4VV7X4fUwj"
      },
      "source": [
        "### 1.2.5 Entity Frequency"
      ]
    },
    {
      "cell_type": "code",
      "metadata": {
        "colab": {
          "base_uri": "https://localhost:8080/",
          "height": 546
        },
        "id": "dB_9MvjOAoqq",
        "outputId": "d29bc77c-a1a2-490c-c03f-154021e36148"
      },
      "source": [
        "tag_counter = plot_top_non_stopwords_barchart(df[\"Tag\"], top=25, word=False)"
      ],
      "execution_count": null,
      "outputs": [
        {
          "output_type": "stream",
          "text": [
            "There are 25 distinct tags in dataset\n",
            "{'O': 61008, 'B-ACTOR': 3220, 'I-ACTOR': 3474, 'B-YEAR': 2858, 'B-TITLE': 2376, 'B-GENRE': 4354, 'I-GENRE': 786, 'B-DIRECTOR': 1720, 'I-DIRECTOR': 1850, 'B-SONG': 245, 'I-SONG': 446, 'B-PLOT': 1927, 'I-PLOT': 1687, 'B-REVIEW': 221, 'B-CHARACTER': 385, 'I-CHARACTER': 342, 'B-RATING': 2007, 'B-RATINGS_AVERAGE': 1869, 'I-RATINGS_AVERAGE': 1673, 'I-TITLE': 3495, 'I-RATING': 840, 'B-TRAILER': 113, 'I-TRAILER': 7, 'I-REVIEW': 132, 'I-YEAR': 2456}\n"
          ],
          "name": "stdout"
        },
        {
          "output_type": "display_data",
          "data": {
            "image/png": "[encoded data removed]",
            "text/plain": [
              "<Figure size 842.4x595.44 with 1 Axes>"
            ]
          },
          "metadata": {
            "tags": []
          }
        }
      ]
    },
    {
      "cell_type": "markdown",
      "metadata": {
        "id": "YPCRkkm768sx"
      },
      "source": [
        "<a name=\"1.3\"></a>\n",
        "## Conclusion after analysis"
      ]
    },
    {
      "cell_type": "markdown",
      "metadata": {
        "id": "BhDBB8847Dev"
      },
      "source": [
        "### Vocab\n",
        "1. The vocab size is 6710. This is not a large dataset.\n",
        "2. Our dataset it comprised of short sentences, with average length of 10 and median length of 9, and the length ranges from 1 to 47. Only a small amount of sentences have the length greater than 30 => set the max length equal to 30 => need a lot of padding tokens.\n",
        "3. 50% of the vocabulary only occur once but they could be person's names so let's keep them.\n",
        "4. Year: can be replaced by a common\n",
        "5. Number in text: can be replaced by a common\n",
        "6. Lemmatization: *films* to *film*\n",
        "7. All words are in lowercase.\n",
        "8. No punctuations.\n",
        "9. No informal text.\n",
        "10. No abbreviation (like *'ll, can't, 2morrow*)\n"
      ]
    },
    {
      "cell_type": "markdown",
      "metadata": {
        "id": "fRaEnZIe8UWy"
      },
      "source": [
        "### Tags\n",
        "1. Most of tags are short, with median length and average length of 2 words. The longest tag has 16 words. This could be a movie name.\n",
        "2. Most sentences are about movies and ratings.\n",
        "3. There are 25 classes of entities, divided to 3 categories: B Tags (Beginning of an entity), I Tag (Intermediate Entity), Or None Tag (O). Proportions of B,I,O are about 21.40%, 17.28%, 61.32% respectively.\n",
        "4. Most of the tags are in the minority and O is the most common entity => need to over-sample the tags from the minority groups.\n",
        "5. As under the section 2.7 Check the dataset imbalance, the percentage of sentences that only contain O tags -> 0.59% => It's small amount so we don't need to delete those sentences.\n",
        "6. ALso under the section 2.7 Check the dataset imbalance, the percentage of OOV tokens in test set -> 3.53%\n",
        "\n",
        "\n"
      ]
    },
    {
      "cell_type": "markdown",
      "metadata": {
        "id": "Dtr2P3ZE3sE6"
      },
      "source": [
        "<a name=\"2\"></a>\n",
        "# Part 2:  Pre-process the data\n",
        "\n"
      ]
    },
    {
      "cell_type": "markdown",
      "metadata": {
        "id": "MRofcZfAUd9g"
      },
      "source": [
        "<a name=\"2.1\"></a>\n",
        "## 2.1 Stemming"
      ]
    },
    {
      "cell_type": "code",
      "metadata": {
        "id": "1J6BsedjUeOf"
      },
      "source": [
        "def stem_sentence(sentence):\n",
        "    sentence = sentence.split(' ')\n",
        "    stemmer = PorterStemmer()\n",
        "    result = [stemmer.stem(word) for word in sentence]\n",
        "    stemmed_sentence = ' '.join(result)\n",
        "    return stemmed_sentence"
      ],
      "execution_count": null,
      "outputs": []
    },
    {
      "cell_type": "markdown",
      "metadata": {
        "id": "4p6nLSAePE9U"
      },
      "source": [
        "<a name=\"2.2\"></a>\n",
        "## 2.2 Lemmatization"
      ]
    },
    {
      "cell_type": "code",
      "metadata": {
        "colab": {
          "base_uri": "https://localhost:8080/"
        },
        "id": "reh2ym9rO2PM",
        "outputId": "e58500ab-a58e-4abe-ab2c-48e905ed18d5"
      },
      "source": [
        "nltk.download('punkt')\n",
        "nltk.download('wordnet')\n",
        "def lemmatize_sentence(sentence):\n",
        "    tokenization = nltk.word_tokenize(sentence)\n",
        "    lemmatizer = WordNetLemmatizer()\n",
        "    result = [lemmatizer.lemmatize(word) for word in tokenization]\n",
        "    lemmatized_sentence = ' '.join(result)\n",
        "    return lemmatized_sentence"
      ],
      "execution_count": null,
      "outputs": [
        {
          "output_type": "stream",
          "text": [
            "[nltk_data] Downloading package punkt to /root/nltk_data...\n",
            "[nltk_data]   Unzipping tokenizers/punkt.zip.\n",
            "[nltk_data] Downloading package wordnet to /root/nltk_data...\n",
            "[nltk_data]   Unzipping corpora/wordnet.zip.\n"
          ],
          "name": "stdout"
        }
      ]
    },
    {
      "cell_type": "markdown",
      "metadata": {
        "id": "Hm9UnKBqUeZA"
      },
      "source": [
        "<a name=\"2.3\"></a>\n",
        "## 2.3 Replacement"
      ]
    },
    {
      "cell_type": "code",
      "metadata": {
        "id": "EZzhc1zBUeiv"
      },
      "source": [
        "import re\n",
        "\n",
        "def replace(sentence, to_replace, replace_by):\n",
        "    replaced = sentence.replace(to_replace, replace_by)\n",
        "    return replaced\n",
        "\n",
        "def replace_num(sentence):\n",
        "    replaced = re.sub(r'^\\d{1,2}$', \"NUM\", sentence) # replace 1, 2 digits\n",
        "    replaced = re.sub(r'^\\d{4}$', \"YEAR\", replaced) # replace year\n",
        "    replaced = re.sub(r'^\\d{4}s$', \"YEAR\", replaced) # replace year\n",
        "    return replaced\n"
      ],
      "execution_count": null,
      "outputs": []
    },
    {
      "cell_type": "markdown",
      "metadata": {
        "id": "vfswr-bAXwl5"
      },
      "source": [
        "<a name=\"2.4\"></a>\n",
        "## 2.4 Pre-processing pipeline"
      ]
    },
    {
      "cell_type": "code",
      "metadata": {
        "id": "uvGcbsdOXw3N"
      },
      "source": [
        "def apply_preproc(data_generator):\n",
        "    data_generator = list(map(lambda x: replace(x, \"ca n t\",\"cannot\"), data_generator))\n",
        "    data_generator = list(map(lambda x: replace(x, \"ll\",\"will\"), data_generator))\n",
        "    data_generator = list(map(lambda x: replace_num(x), data_generator))\n",
        "    data_generator = list(map(lambda x: lemmatize_sentence(x), data_generator))\n",
        "    return data_generator\n",
        "\n",
        "processed_sentences = apply_preproc(sentences)\n",
        "processed_test_sentences = apply_preproc(test_sentences)"
      ],
      "execution_count": null,
      "outputs": []
    },
    {
      "cell_type": "markdown",
      "metadata": {
        "id": "WMK0gaxoOi97"
      },
      "source": [
        "<a name=\"2.5\"></a>\n",
        "## 2.5 Split to train/val datasets"
      ]
    },
    {
      "cell_type": "code",
      "metadata": {
        "id": "yjPJLq1I0_CX"
      },
      "source": [
        "split_ratio = 0.8\n",
        "\n",
        "def train_val_split(data, label, ratio, shuffle=True, random_seed=33):\n",
        "    length = len(data)\n",
        "    lines_index = [*range(length)]  \n",
        "    # shuffle the indexes if shuffle is set to True\n",
        "    rnd.seed(random_seed)\n",
        "    if shuffle:\n",
        "        rnd.shuffle(lines_index)\n",
        "    split_point = int(length * ratio)\n",
        "\n",
        "    train_data = []\n",
        "    train_label = []\n",
        "    val_data = []\n",
        "    val_label = []\n",
        "    for i in range(length):\n",
        "        if i <= split_point:\n",
        "            train_data.append(data[lines_index[i]])\n",
        "            train_label.append(label[lines_index[i]])\n",
        "        else:\n",
        "            val_data.append(data[lines_index[i]])\n",
        "            val_label.append(label[lines_index[i]])\n",
        "    return train_data, train_label, val_data, val_label\n",
        "\n",
        "\n",
        "train_sentences, train_tags, val_sentences, val_tags = \\\n",
        "      train_val_split(processed_sentences, tags, split_ratio)"
      ],
      "execution_count": null,
      "outputs": []
    },
    {
      "cell_type": "markdown",
      "metadata": {
        "id": "3Sot8kCJltNu"
      },
      "source": [
        "<a name=\"2.6\"></a>\n",
        "## 2.6 Tokenization and Padding"
      ]
    },
    {
      "cell_type": "code",
      "metadata": {
        "id": "GDfsVDq9KxgV"
      },
      "source": [
        "oov_tok = \"<OOV>\"\n",
        "trunc_type='post'\n",
        "pad_type='post'\n",
        "max_length = 50\n",
        "\n",
        "vocab_tokenizer = Tokenizer(oov_token=oov_tok)\n",
        "vocab_tokenizer.fit_on_texts(train_sentences)\n",
        "\n",
        "vocab = vocab_tokenizer.word_index\n",
        "reverse_vocab = dict([(value, key) for (key, value) in vocab.items()])\n",
        "vocab_size = len(vocab)\n",
        "\n",
        "\n",
        "train_sequences = vocab_tokenizer.texts_to_sequences(train_sentences)\n",
        "val_sequences = vocab_tokenizer.texts_to_sequences(val_sentences)\n",
        "test_sequences = vocab_tokenizer.texts_to_sequences(processed_test_sentences)\n",
        "\n",
        "train_padded_sequences = pad_sequences(train_sequences,\n",
        "                                        maxlen=max_length, \n",
        "                                        truncating=trunc_type, \n",
        "                                        padding=pad_type)\n",
        "\n",
        "val_padded_sequences = pad_sequences(val_sequences,\n",
        "                                      maxlen=max_length, \n",
        "                                      truncating=trunc_type, \n",
        "                                      padding=pad_type)\n",
        "\n",
        "test_padded_sequences = pad_sequences(test_sequences,\n",
        "                                      maxlen=max_length, \n",
        "                                      truncating=trunc_type, \n",
        "                                      padding=pad_type)"
      ],
      "execution_count": null,
      "outputs": []
    },
    {
      "cell_type": "code",
      "metadata": {
        "id": "CP_DmX44K24X",
        "colab": {
          "base_uri": "https://localhost:8080/"
        },
        "outputId": "c581b751-a8a5-438a-cdde-53305a7d09a9"
      },
      "source": [
        "tag_tokenizer = Tokenizer(filters=\".\", lower=False, oov_token=oov_tok)\n",
        "tag_tokenizer.fit_on_texts(train_tags)\n",
        "\n",
        "tag_map = tag_tokenizer.word_index\n",
        "reverse_tag_map = dict([(value, key) for (key, value) in tag_map.items()])\n",
        "tag_size = len(tag_map)\n",
        "\n",
        "train_tag_sequences = tag_tokenizer.texts_to_sequences(train_tags)\n",
        "val_tag_sequences = tag_tokenizer.texts_to_sequences(val_tags)\n",
        "test_tag_sequences = tag_tokenizer.texts_to_sequences(test_tags)\n",
        "\n",
        "\n",
        "train_padded_tags = pad_sequences(train_tag_sequences,\n",
        "                                        maxlen=max_length, \n",
        "                                        truncating=trunc_type, \n",
        "                                        padding=pad_type)\n",
        "\n",
        "val_padded_tags = pad_sequences(val_tag_sequences,\n",
        "                                      maxlen=max_length, \n",
        "                                      truncating=trunc_type, \n",
        "                                      padding=pad_type)\n",
        "\n",
        "test_padded_tags = pad_sequences(test_tag_sequences,\n",
        "                                      maxlen=max_length, \n",
        "                                      truncating=trunc_type, \n",
        "                                      padding=pad_type)\n",
        "\n",
        "print(\"\\nExample of a a sentence and its tokenized, padded version\")\n",
        "print(train_sentences[0])\n",
        "print(train_padded_sequences[0])\n",
        "print(\"\\nExample of a list of tags in a sentence and its tokenized, padded version\")\n",
        "print(train_tags[0])\n",
        "print(train_padded_tags[0])\n"
      ],
      "execution_count": null,
      "outputs": [
        {
          "output_type": "stream",
          "text": [
            "\n",
            "Example of a a sentence and its tokenized, padded version\n",
            "what is the movie triangle\n",
            "[   5    7    2    3 1866    0    0    0    0    0    0    0    0    0\n",
            "    0    0    0    0    0    0    0    0    0    0    0    0    0    0\n",
            "    0    0    0    0    0    0    0    0    0    0    0    0    0    0\n",
            "    0    0    0    0    0    0    0    0]\n",
            "\n",
            "Example of a list of tags in a sentence and its tokenized, padded version\n",
            "O O O O B-TITLE\n",
            "[2 2 2 2 9 0 0 0 0 0 0 0 0 0 0 0 0 0 0 0 0 0 0 0 0 0 0 0 0 0 0 0 0 0 0 0 0\n",
            " 0 0 0 0 0 0 0 0 0 0 0 0 0]\n"
          ],
          "name": "stdout"
        }
      ]
    },
    {
      "cell_type": "markdown",
      "metadata": {
        "id": "VmNBER6vh8fZ"
      },
      "source": [
        "<a name=\"2.7\"></a>\n",
        "## 2.7 Check the Imbalance in train/test dataset"
      ]
    },
    {
      "cell_type": "code",
      "metadata": {
        "colab": {
          "base_uri": "https://localhost:8080/"
        },
        "id": "1JkHts8fDElj",
        "outputId": "594fd0fd-2ea0-4688-b005-be211a32076f"
      },
      "source": [
        "#Percentage of B, I and O Tags in train dataset\n",
        "def get_tag_proportion(series_tags):\n",
        "    '''\n",
        "      Input:\n",
        "        series_tags - pd.Series of tags\n",
        "      Output:\n",
        "        [print] - B, I and O tags' proportion\n",
        "    '''\n",
        "    tags_list=[tag for tag in series_tags]\n",
        "    counter=dict(Counter(tags_list))\n",
        "    beg = 0\n",
        "    inter = 0\n",
        "    out = 0\n",
        "    for key, value in counter.items():\n",
        "        if key.startswith(\"B\"):\n",
        "            beg += value\n",
        "        elif key.startswith(\"I\"):\n",
        "            inter += value\n",
        "        else:\n",
        "            out += value\n",
        "    total = len(tags_list)\n",
        "    print(\"B tags proportion = {0:.2%}\".format(round(beg/total,4)))\n",
        "    print(\"I tags proportion = {0:.2%}\".format(round(inter/total,4)))\n",
        "    print(\"O tags proportion = {0:.2%}\".format(round(out/total,4)))\n",
        "\n",
        "get_tag_proportion(df[\"Tag\"])\n",
        "\n",
        "# Percentage of sentences that only contain O tags\n",
        "# If this percentage > 50% => the dataset is imbalanced => drop empty sentences\n",
        "def get_empty_tag_sentence_proportion(list_tag_sequence):\n",
        "    '''\n",
        "      Input:\n",
        "        list_tag_sequence - list of tag sequences in train/test set\n",
        "      Output:\n",
        "        [print] - Percentage of sentences that only contain O tags\n",
        "    '''\n",
        "    count = 0\n",
        "    for seq in list_tag_sequence:\n",
        "        if sum(seq) == 2 * len(seq): # if seq contains only 2 (token for O tag)\n",
        "            count += 1\n",
        "\n",
        "    \n",
        "    print(\"\\nPercentage of sentences that only contain O tags -> {0:.2%}\".\\\n",
        "          format(round(count/len(list_tag_sequence),4)))\n",
        "    \n",
        "get_empty_tag_sentence_proportion(train_tag_sequences)\n",
        "\n",
        "def get_OOV_density(list_token_sequence):\n",
        "    '''\n",
        "      Input:\n",
        "        list_token_sequence - list of token sequences in test set\n",
        "      Output:\n",
        "        [print] - Percentage of OOV token in the test set\n",
        "    '''\n",
        "    list_token_sequence = [token for seq in list_token_sequence for token in seq]\n",
        "    counter=dict(Counter(list_token_sequence))\n",
        "    print(\"\\nPercentage of OOV tokens in test set -> {0:.2%}\".\\\n",
        "          format(round(counter[1]/len(list_token_sequence),4)))\n",
        "\n",
        "get_OOV_density(test_sequences)"
      ],
      "execution_count": null,
      "outputs": [
        {
          "output_type": "stream",
          "text": [
            "B tags proportion = 21.40%\n",
            "I tags proportion = 17.28%\n",
            "O tags proportion = 61.32%\n",
            "\n",
            "Percentage of sentences that only contain O tags -> 0.59%\n",
            "\n",
            "Percentage of OOV tokens in test set -> 3.54%\n"
          ],
          "name": "stdout"
        }
      ]
    },
    {
      "cell_type": "markdown",
      "metadata": {
        "id": "0OZsbuw2iDAp"
      },
      "source": [
        "<a name=\"2.8\"></a>\n",
        "## 2.8 One-hot encoding"
      ]
    },
    {
      "cell_type": "code",
      "metadata": {
        "id": "qdsnDiIZwGaC"
      },
      "source": [
        "# Ont hot encoding\n",
        "train_padded_tags = np.array([to_categorical(tags, num_classes = tag_size+1) \\\n",
        "                              for tags in train_padded_tags])\n",
        "val_padded_tags = np.array([to_categorical(tags, num_classes = tag_size+1) \\\n",
        "                            for tags in val_padded_tags])\n",
        "test_padded_tags = np.array([to_categorical(tags, num_classes = tag_size+1) \\\n",
        "                             for tags in test_padded_tags])\n",
        "\n"
      ],
      "execution_count": null,
      "outputs": []
    },
    {
      "cell_type": "markdown",
      "metadata": {
        "id": "84RwGepu37jO"
      },
      "source": [
        "<a name=\"3\"></a>\n",
        "# Part 3:  Building the model\n"
      ]
    },
    {
      "cell_type": "markdown",
      "metadata": {
        "id": "yX9PMBUtuJmJ"
      },
      "source": [
        "<a name=\"3.1\"></a>\n",
        "## 3.1 Glove Embedding"
      ]
    },
    {
      "cell_type": "code",
      "metadata": {
        "colab": {
          "base_uri": "https://localhost:8080/"
        },
        "id": "3QAO1_GehxQ1",
        "outputId": "58d403c6-9566-4f90-d5e2-6e882c568a51"
      },
      "source": [
        "!mkdir -p /glove_embedding\n",
        "# Download data\n",
        "!wget --no-check-certificate \\\n",
        "http://nlp.stanford.edu/data/glove.6B.zip -O /glove_embedding/glove.6B.zip\n",
        "!unzip /glove_embedding/glove.6B.zip -d /glove_embedding\n"
      ],
      "execution_count": null,
      "outputs": [
        {
          "output_type": "stream",
          "text": [
            "--2021-06-03 08:19:24--  http://nlp.stanford.edu/data/glove.6B.zip\n",
            "Resolving nlp.stanford.edu (nlp.stanford.edu)... 171.64.67.140\n",
            "Connecting to nlp.stanford.edu (nlp.stanford.edu)|171.64.67.140|:80... connected.\n",
            "HTTP request sent, awaiting response... 302 Found\n",
            "Location: https://nlp.stanford.edu/data/glove.6B.zip [following]\n",
            "--2021-06-03 08:19:24--  https://nlp.stanford.edu/data/glove.6B.zip\n",
            "Connecting to nlp.stanford.edu (nlp.stanford.edu)|171.64.67.140|:443... connected.\n",
            "HTTP request sent, awaiting response... 301 Moved Permanently\n",
            "Location: http://downloads.cs.stanford.edu/nlp/data/glove.6B.zip [following]\n",
            "--2021-06-03 08:19:25--  http://downloads.cs.stanford.edu/nlp/data/glove.6B.zip\n",
            "Resolving downloads.cs.stanford.edu (downloads.cs.stanford.edu)... 171.64.64.22\n",
            "Connecting to downloads.cs.stanford.edu (downloads.cs.stanford.edu)|171.64.64.22|:80... connected.\n",
            "HTTP request sent, awaiting response... 200 OK\n",
            "Length: 862182613 (822M) [application/zip]\n",
            "Saving to: ‘/glove_embedding/glove.6B.zip’\n",
            "\n",
            "/glove_embedding/gl 100%[===================>] 822.24M  5.16MB/s    in 2m 42s  \n",
            "\n",
            "2021-06-03 08:22:07 (5.09 MB/s) - ‘/glove_embedding/glove.6B.zip’ saved [862182613/862182613]\n",
            "\n",
            "Archive:  /glove_embedding/glove.6B.zip\n",
            "  inflating: /glove_embedding/glove.6B.50d.txt  \n",
            "  inflating: /glove_embedding/glove.6B.100d.txt  \n",
            "  inflating: /glove_embedding/glove.6B.200d.txt  \n",
            "  inflating: /glove_embedding/glove.6B.300d.txt  \n"
          ],
          "name": "stdout"
        }
      ]
    },
    {
      "cell_type": "code",
      "metadata": {
        "colab": {
          "base_uri": "https://localhost:8080/"
        },
        "id": "u2SIlF-NeR_o",
        "outputId": "b3d92d12-4e8c-470c-e694-33e6fc5c6fbc"
      },
      "source": [
        "GLOVE_DIR = \"/glove_embedding\"\n",
        "embedding_dim = 300\n",
        "hits = 0\n",
        "misses = 0\n",
        "embeddings_index = {}\n",
        "\n",
        "with open(os.path.join(GLOVE_DIR, 'glove.6B.300d.txt')) as f:\n",
        "    for line in f:\n",
        "        values = line.split()\n",
        "        word = values[0]\n",
        "        coefs = np.asarray(values[1:], dtype='float32')\n",
        "        embeddings_index[word] = coefs\n",
        "\n",
        "print('Found %s word vectors.' % len(embeddings_index))\n",
        "\n",
        "embedding_matrix = np.zeros((len(vocab) + 1, embedding_dim))\n",
        "for word, i in vocab.items():\n",
        "    embedding_vector = embeddings_index.get(word)\n",
        "    if embedding_vector is not None:\n",
        "        # words not found in embedding index will be all-zeros.\n",
        "        embedding_matrix[i] = embedding_vector\n",
        "        hits += 1\n",
        "    else:\n",
        "        misses += 1\n",
        "print(\"Converted %d words (%d misses)\" % (hits, misses))\n",
        "\n",
        "        "
      ],
      "execution_count": null,
      "outputs": [
        {
          "output_type": "stream",
          "text": [
            "Found 400000 word vectors.\n",
            "Converted 5008 words (574 misses)\n"
          ],
          "name": "stdout"
        }
      ]
    },
    {
      "cell_type": "markdown",
      "metadata": {
        "id": "3h-sT21kjV2X"
      },
      "source": [
        "<a name=\"3.2\"></a>\n",
        "## 3.2 Define the model "
      ]
    },
    {
      "cell_type": "code",
      "metadata": {
        "id": "tshH4jK03oWM",
        "colab": {
          "base_uri": "https://localhost:8080/"
        },
        "outputId": "67b6f8ca-5ce7-4a8f-d677-003aa2a2a847"
      },
      "source": [
        "# Model architecture\n",
        "batch_size = 32\n",
        "embedding_dim = 300\n",
        "max_length = 50\n",
        "\n",
        "def BiLSTM(vocab_size=vocab_size, tag_size=tag_size, hidden_size = 32, \n",
        "                embedding_dim=embedding_dim):\n",
        "    sequence_input = Input(shape = (max_length,))\n",
        "\n",
        "    model = Embedding(input_dim = vocab_size+1, \n",
        "                      output_dim = embedding_dim, \n",
        "                      input_length = max_length, \n",
        "                      embeddings_initializer=Constant(embedding_matrix),\n",
        "                      trainable=False,\n",
        "                      mask_zero = False)(sequence_input)\n",
        "                            \n",
        "    model = Bidirectional(LSTM(units = hidden_size,return_sequences=True,\n",
        "                              recurrent_dropout=0.1))(model)\n",
        "                  \n",
        "    model = TimeDistributed(Dense(hidden_size, activation=\"relu\"))(model)\n",
        "    outputs = Dense(tag_size+1, activation='softmax')(model)\n",
        "    #crf = CRF(tag_size+1) # CRF layer\n",
        "    #outputs = crf(model)\n",
        "\n",
        "    model = Model(inputs=sequence_input, outputs=outputs)\n",
        "\n",
        "    model.compile(optimizer=\"RMSprop\", \n",
        "                  loss = tf.keras.losses.categorical_crossentropy, \n",
        "                  metrics=['accuracy'])\n",
        "    return model\n",
        "\n",
        "model = BiLSTM(vocab_size=vocab_size, tag_size=tag_size, hidden_size = 32, \\\n",
        "                embedding_dim=embedding_dim)"
      ],
      "execution_count": null,
      "outputs": [
        {
          "output_type": "stream",
          "text": [
            "WARNING:tensorflow:Layer lstm will not use cuDNN kernels since it doesn't meet the criteria. It will use a generic GPU kernel as fallback when running on GPU.\n",
            "WARNING:tensorflow:Layer lstm will not use cuDNN kernels since it doesn't meet the criteria. It will use a generic GPU kernel as fallback when running on GPU.\n",
            "WARNING:tensorflow:Layer lstm will not use cuDNN kernels since it doesn't meet the criteria. It will use a generic GPU kernel as fallback when running on GPU.\n"
          ],
          "name": "stdout"
        }
      ]
    },
    {
      "cell_type": "markdown",
      "metadata": {
        "id": "sXWo98J3jgLQ"
      },
      "source": [
        "<a name=\"3.3\"></a>\n",
        "## 3.3 Callbacks"
      ]
    },
    {
      "cell_type": "code",
      "metadata": {
        "id": "d2hDC-w7DGvu"
      },
      "source": [
        "# Callback\n",
        "class myCallback(tf.keras.callbacks.Callback):\n",
        "  def on_epoch_end(self, epoch, logs={}):\n",
        "    if(logs.get('val_accuracy')>0.95):\n",
        "      print(\"\\nReached 95% accuracy so cancelling training!\")\n",
        "      self.model.stop_training = True\n",
        "\n",
        "checkpointer = ModelCheckpoint(filepath = 'NER_BiLSTM.h5',\n",
        "                       verbose = 0,\n",
        "                       mode = 'auto',\n",
        "                       save_best_only = True,\n",
        "                       monitor='val_loss')\n",
        "\n",
        "earlystopper = EarlyStopping(monitor='val_loss', min_delta=0, patience=3, \n",
        "                             verbose=0, mode='auto', \n",
        "                             baseline=None, restore_best_weights=True)\n",
        "\n",
        "initial_learning_rate = 0.001\n",
        "epochs = 10\n",
        "decay = initial_learning_rate / epochs\n",
        "def lr_time_based_decay(epoch, lr):\n",
        "    return lr * 1 / (1 + decay * epoch)\n",
        "\n",
        "lr_scheduler = tf.keras.callbacks.LearningRateScheduler(lr_time_based_decay, verbose=1)"
      ],
      "execution_count": null,
      "outputs": []
    },
    {
      "cell_type": "markdown",
      "metadata": {
        "id": "gKnkkiSS4EwI"
      },
      "source": [
        "<a name=\"4\"></a>\n",
        "# Part 4:  Train the Model \n"
      ]
    },
    {
      "cell_type": "code",
      "metadata": {
        "id": "vQ7uIYmgX3SC",
        "colab": {
          "base_uri": "https://localhost:8080/"
        },
        "outputId": "10c23a4d-c31e-45d3-9dbb-51b322b3ef9d"
      },
      "source": [
        "num_epochs = 15\n",
        "history = model.fit(train_padded_sequences, train_padded_tags, \n",
        "          batch_size=batch_size, epochs=num_epochs, \n",
        "          validation_data= (val_padded_sequences, val_padded_tags),\n",
        "          callbacks=[checkpointer, earlystopper, lr_scheduler])\n",
        "\n",
        "model.summary()"
      ],
      "execution_count": null,
      "outputs": [
        {
          "output_type": "stream",
          "text": [
            "Epoch 1/15\n",
            "\n",
            "Epoch 00001: LearningRateScheduler reducing learning rate to 0.0010000000474974513.\n",
            "245/245 [==============================] - 118s 452ms/step - loss: 0.4174 - accuracy: 0.9329 - val_loss: 0.1493 - val_accuracy: 0.9618\n",
            "Epoch 2/15\n",
            "\n",
            "Epoch 00002: LearningRateScheduler reducing learning rate to 0.0009999000574917021.\n",
            "245/245 [==============================] - 110s 449ms/step - loss: 0.1187 - accuracy: 0.9688 - val_loss: 0.1074 - val_accuracy: 0.9719\n",
            "Epoch 3/15\n",
            "\n",
            "Epoch 00003: LearningRateScheduler reducing learning rate to 0.000999700106714659.\n",
            "245/245 [==============================] - 110s 448ms/step - loss: 0.0902 - accuracy: 0.9760 - val_loss: 0.0922 - val_accuracy: 0.9759\n",
            "Epoch 4/15\n",
            "\n",
            "Epoch 00004: LearningRateScheduler reducing learning rate to 0.0009994003415259673.\n",
            "245/245 [==============================] - 110s 447ms/step - loss: 0.0762 - accuracy: 0.9794 - val_loss: 0.0825 - val_accuracy: 0.9782\n",
            "Epoch 5/15\n",
            "\n",
            "Epoch 00005: LearningRateScheduler reducing learning rate to 0.0009990007918579775.\n",
            "245/245 [==============================] - 109s 445ms/step - loss: 0.0676 - accuracy: 0.9818 - val_loss: 0.0756 - val_accuracy: 0.9802\n",
            "Epoch 6/15\n",
            "\n",
            "Epoch 00006: LearningRateScheduler reducing learning rate to 0.0009985014876310735.\n",
            "245/245 [==============================] - 109s 443ms/step - loss: 0.0614 - accuracy: 0.9836 - val_loss: 0.0713 - val_accuracy: 0.9816\n",
            "Epoch 7/15\n",
            "\n",
            "Epoch 00007: LearningRateScheduler reducing learning rate to 0.0009979026914447063.\n",
            "245/245 [==============================] - 110s 449ms/step - loss: 0.0564 - accuracy: 0.9849 - val_loss: 0.0708 - val_accuracy: 0.9817\n",
            "Epoch 8/15\n",
            "\n",
            "Epoch 00008: LearningRateScheduler reducing learning rate to 0.0009972046657933619.\n",
            "245/245 [==============================] - 110s 449ms/step - loss: 0.0523 - accuracy: 0.9861 - val_loss: 0.0684 - val_accuracy: 0.9821\n",
            "Epoch 9/15\n",
            "\n",
            "Epoch 00009: LearningRateScheduler reducing learning rate to 0.0009964075567443476.\n",
            "245/245 [==============================] - 109s 444ms/step - loss: 0.0491 - accuracy: 0.9869 - val_loss: 0.0671 - val_accuracy: 0.9825\n",
            "Epoch 10/15\n",
            "\n",
            "Epoch 00010: LearningRateScheduler reducing learning rate to 0.0009955116266172385.\n",
            "245/245 [==============================] - 108s 440ms/step - loss: 0.0461 - accuracy: 0.9876 - val_loss: 0.0676 - val_accuracy: 0.9823\n",
            "Epoch 11/15\n",
            "\n",
            "Epoch 00011: LearningRateScheduler reducing learning rate to 0.0009945171376267872.\n",
            "245/245 [==============================] - 107s 436ms/step - loss: 0.0433 - accuracy: 0.9884 - val_loss: 0.0704 - val_accuracy: 0.9814\n",
            "Epoch 12/15\n",
            "\n",
            "Epoch 00012: LearningRateScheduler reducing learning rate to 0.000993424351882975.\n",
            "245/245 [==============================] - 107s 437ms/step - loss: 0.0412 - accuracy: 0.9889 - val_loss: 0.0664 - val_accuracy: 0.9832\n",
            "Epoch 13/15\n",
            "\n",
            "Epoch 00013: LearningRateScheduler reducing learning rate to 0.0009922336476668565.\n",
            "245/245 [==============================] - 107s 435ms/step - loss: 0.0389 - accuracy: 0.9896 - val_loss: 0.0649 - val_accuracy: 0.9835\n",
            "Epoch 14/15\n",
            "\n",
            "Epoch 00014: LearningRateScheduler reducing learning rate to 0.00099094540310837.\n",
            "245/245 [==============================] - 108s 440ms/step - loss: 0.0373 - accuracy: 0.9900 - val_loss: 0.0642 - val_accuracy: 0.9838\n",
            "Epoch 15/15\n",
            "\n",
            "Epoch 00015: LearningRateScheduler reducing learning rate to 0.0009895599961864132.\n",
            "245/245 [==============================] - 109s 444ms/step - loss: 0.0352 - accuracy: 0.9905 - val_loss: 0.0668 - val_accuracy: 0.9838\n",
            "Model: \"model\"\n",
            "_________________________________________________________________\n",
            "Layer (type)                 Output Shape              Param #   \n",
            "=================================================================\n",
            "input_1 (InputLayer)         [(None, 50)]              0         \n",
            "_________________________________________________________________\n",
            "embedding (Embedding)        (None, 50, 300)           1674900   \n",
            "_________________________________________________________________\n",
            "bidirectional (Bidirectional (None, 50, 64)            85248     \n",
            "_________________________________________________________________\n",
            "time_distributed (TimeDistri (None, 50, 32)            2080      \n",
            "_________________________________________________________________\n",
            "dense_1 (Dense)              (None, 50, 27)            891       \n",
            "=================================================================\n",
            "Total params: 1,763,119\n",
            "Trainable params: 88,219\n",
            "Non-trainable params: 1,674,900\n",
            "_________________________________________________________________\n"
          ],
          "name": "stdout"
        }
      ]
    },
    {
      "cell_type": "code",
      "metadata": {
        "id": "M3vHe1vaC-fG",
        "colab": {
          "base_uri": "https://localhost:8080/"
        },
        "outputId": "6a982b63-5732-4ef2-a3b2-db581ec329d8"
      },
      "source": [
        "history.history.keys()"
      ],
      "execution_count": null,
      "outputs": [
        {
          "output_type": "execute_result",
          "data": {
            "text/plain": [
              "dict_keys(['loss', 'accuracy', 'val_loss', 'val_accuracy', 'lr'])"
            ]
          },
          "metadata": {
            "tags": []
          },
          "execution_count": 24
        }
      ]
    },
    {
      "cell_type": "code",
      "metadata": {
        "id": "K-LuVEjYZ1qg",
        "colab": {
          "base_uri": "https://localhost:8080/",
          "height": 73
        },
        "outputId": "8c62eb5c-3ef0-4630-829d-8b52aaea2086"
      },
      "source": [
        "acc = history.history['accuracy']\n",
        "val_acc = history.history['val_accuracy']\n",
        "loss = history.history['loss']\n",
        "val_loss = history.history['val_loss']\n",
        "plt.figure(figsize = (8,8))\n",
        "epochs = range(1, len(acc) + 1)\n",
        "plt.plot(epochs, acc, 'wo', label='Training acc')\n",
        "plt.plot(epochs, val_acc, 'w', label='Validation acc')\n",
        "plt.title('Training and validation accuracy')\n",
        "plt.legend()"
      ],
      "execution_count": null,
      "outputs": [
        {
          "output_type": "execute_result",
          "data": {
            "text/plain": [
              "<matplotlib.legend.Legend at 0x7f8ffe0d5a50>"
            ]
          },
          "metadata": {
            "tags": []
          },
          "execution_count": 25
        },
        {
          "output_type": "display_data",
          "data": {
            "image/png": "[encoded data removed]",
            "text/plain": [
              "<Figure size 576x576 with 1 Axes>"
            ]
          },
          "metadata": {
            "tags": []
          }
        }
      ]
    },
    {
      "cell_type": "code",
      "metadata": {
        "id": "_orawE5havtv",
        "colab": {
          "base_uri": "https://localhost:8080/",
          "height": 499
        },
        "outputId": "fc17f13c-d589-45a5-aa37-17dab1091f93"
      },
      "source": [
        "plt.figure(figsize = (8,8))\n",
        "plt.plot(epochs, loss, 'wo', label='Training loss')\n",
        "plt.plot(epochs, val_loss, 'w', label='Validation loss')\n",
        "plt.title('Training and validation loss')\n",
        "plt.legend()\n",
        "plt.show()"
      ],
      "execution_count": null,
      "outputs": [
        {
          "output_type": "display_data",
          "data": {
            "image/png": "[encoded data removed]",
            "text/plain": [
              "<Figure size 576x576 with 1 Axes>"
            ]
          },
          "metadata": {
            "tags": []
          }
        }
      ]
    },
    {
      "cell_type": "markdown",
      "metadata": {
        "id": "-ygvHcHU4Nkj"
      },
      "source": [
        "<a name=\"5\"></a>\n",
        "# Part 5:  Test the model\n"
      ]
    },
    {
      "cell_type": "code",
      "metadata": {
        "id": "SYIAQDjhsHNQ"
      },
      "source": [
        "# Convert from one-hot encoding (3D array) to 2D array \n",
        "test_padded_tags_pred = model.predict(test_padded_sequences)\n",
        "test_padded_tags_pred = np.argmax(test_padded_tags_pred, axis=-1)\n",
        "test_padded_tags_true = np.argmax(test_padded_tags, axis=-1)"
      ],
      "execution_count": null,
      "outputs": []
    },
    {
      "cell_type": "code",
      "metadata": {
        "id": "aS4oaqkBE4XX"
      },
      "source": [
        "# Convert the index to tag\n",
        "test_tags_pred =[0]*len(test_padded_tags_pred)\n",
        "for idx, row in enumerate(test_padded_tags_pred):\n",
        "    add = []\n",
        "    for i in row:\n",
        "        add.append(reverse_tag_map[i]) if i != 0 else add.append(\"PAD\")\n",
        "    test_tags_pred[idx] = add\n",
        "\n",
        "test_tags_true =[0]*len(test_padded_tags_true)\n",
        "for idx, row in enumerate(test_padded_tags_true):\n",
        "    add = []\n",
        "    for i in row:\n",
        "        add.append(reverse_tag_map[i]) if i != 0 else add.append(\"PAD\")\n",
        "    test_tags_true[idx] = add"
      ],
      "execution_count": null,
      "outputs": []
    },
    {
      "cell_type": "code",
      "metadata": {
        "id": "OO5Pg9r2MmV8",
        "colab": {
          "base_uri": "https://localhost:8080/"
        },
        "outputId": "5b9d58d6-77dc-4381-8a74-3e26c8dea358"
      },
      "source": [
        "print(\"Micro F1-score is : {:.1%}\".format(f1_score(test_tags_true, test_tags_pred)))\n",
        "print(\"Micro Precision-score is : {:.1%}\".format(precision_score(test_tags_true, test_tags_pred)))\n",
        "print(\"Micro Recall-score is : {:.1%}\".format(recall_score(test_tags_true, test_tags_pred)))\n"
      ],
      "execution_count": null,
      "outputs": [
        {
          "output_type": "stream",
          "text": [
            "/usr/local/lib/python3.7/dist-packages/seqeval/metrics/sequence_labeling.py:171: UserWarning: PAD seems not to be NE tag.\n",
            "  warnings.warn('{} seems not to be NE tag.'.format(chunk))\n"
          ],
          "name": "stderr"
        },
        {
          "output_type": "stream",
          "text": [
            "Micro F1-score is : 82.8%\n",
            "Micro Precision-score is : 82.0%\n",
            "Micro Recall-score is : 83.7%\n"
          ],
          "name": "stdout"
        }
      ]
    },
    {
      "cell_type": "code",
      "metadata": {
        "id": "znKBJcadMr9l",
        "colab": {
          "base_uri": "https://localhost:8080/"
        },
        "outputId": "6952c03e-ac24-44e3-8cba-752c94c6f27d"
      },
      "source": [
        "!pip install sklearn_crfsuite\n",
        "from sklearn_crfsuite.metrics import flat_classification_report\n",
        "\n",
        "report = flat_classification_report(y_pred=test_tags_pred, y_true=test_tags_true)\n",
        "print(report)"
      ],
      "execution_count": null,
      "outputs": [
        {
          "output_type": "stream",
          "text": [
            "Requirement already satisfied: sklearn_crfsuite in /usr/local/lib/python3.7/dist-packages (0.3.6)\n",
            "Requirement already satisfied: python-crfsuite>=0.8.3 in /usr/local/lib/python3.7/dist-packages (from sklearn_crfsuite) (0.9.7)\n",
            "Requirement already satisfied: tqdm>=2.0 in /usr/local/lib/python3.7/dist-packages (from sklearn_crfsuite) (4.41.1)\n",
            "Requirement already satisfied: six in /usr/local/lib/python3.7/dist-packages (from sklearn_crfsuite) (1.15.0)\n",
            "Requirement already satisfied: tabulate in /usr/local/lib/python3.7/dist-packages (from sklearn_crfsuite) (0.8.9)\n"
          ],
          "name": "stdout"
        },
        {
          "output_type": "stream",
          "text": [
            "/usr/local/lib/python3.7/dist-packages/sklearn/metrics/_classification.py:1272: UndefinedMetricWarning: Precision and F-score are ill-defined and being set to 0.0 in labels with no predicted samples. Use `zero_division` parameter to control this behavior.\n",
            "  _warn_prf(average, modifier, msg_start, len(result))\n"
          ],
          "name": "stderr"
        },
        {
          "output_type": "stream",
          "text": [
            "                   precision    recall  f1-score   support\n",
            "\n",
            "          B-ACTOR       0.89      0.92      0.91       812\n",
            "      B-CHARACTER       0.70      0.49      0.58        90\n",
            "       B-DIRECTOR       0.90      0.83      0.87       456\n",
            "          B-GENRE       0.91      0.94      0.92      1117\n",
            "           B-PLOT       0.74      0.58      0.65       491\n",
            "         B-RATING       0.97      0.97      0.97       500\n",
            "B-RATINGS_AVERAGE       0.91      0.88      0.90       451\n",
            "         B-REVIEW       0.67      0.04      0.07        56\n",
            "           B-SONG       0.85      0.52      0.64        54\n",
            "          B-TITLE       0.79      0.75      0.77       562\n",
            "        B-TRAILER       0.84      0.90      0.87        30\n",
            "           B-YEAR       0.95      0.94      0.94       720\n",
            "          I-ACTOR       0.91      0.89      0.90       862\n",
            "      I-CHARACTER       0.57      0.39      0.46        75\n",
            "       I-DIRECTOR       0.89      0.85      0.87       496\n",
            "          I-GENRE       0.86      0.72      0.78       222\n",
            "           I-PLOT       0.75      0.40      0.52       496\n",
            "         I-RATING       0.97      0.87      0.92       226\n",
            "I-RATINGS_AVERAGE       0.86      0.81      0.84       403\n",
            "         I-REVIEW       0.25      0.02      0.04        45\n",
            "           I-SONG       0.76      0.67      0.71       119\n",
            "          I-TITLE       0.74      0.81      0.77       856\n",
            "        I-TRAILER       0.00      0.00      0.00         8\n",
            "           I-YEAR       0.96      0.97      0.96       610\n",
            "                O       0.95      0.97      0.96     14929\n",
            "              PAD       1.00      1.00      1.00     97514\n",
            "\n",
            "         accuracy                           0.98    122200\n",
            "        macro avg       0.79      0.70      0.72    122200\n",
            "     weighted avg       0.98      0.98      0.98    122200\n",
            "\n"
          ],
          "name": "stdout"
        }
      ]
    },
    {
      "cell_type": "code",
      "metadata": {
        "id": "HE7Q2oD2M9rL",
        "colab": {
          "base_uri": "https://localhost:8080/"
        },
        "outputId": "d2c6e203-d751-4b46-c631-b5b4c165fdc3"
      },
      "source": [
        "# At every execution model picks some random test sample from test set.\n",
        "i = np.random.randint(0,test_padded_sequences.shape[0]) # choose a random number between 0 and len(X_te)b\n",
        "p = model.predict(np.array([test_padded_sequences[i]]))\n",
        "p = np.argmax(p, axis=-1)\n",
        "true = np.argmax(test_padded_tags[i], -1)\n",
        "\n",
        "print(\"Sample number {} of {} (Test Set)\".format(i, test_padded_sequences.shape[0]))\n",
        "# Visualization\n",
        "print(\"{:20}||{:20}||{}\".format(\"Word\", \"True\", \"Pred\"))\n",
        "print(60 * \"=\")\n",
        "for word, tag, pred in zip(test_padded_sequences[i], true, p[0]):\n",
        "    if word != 0:\n",
        "        print(\"{:20}: {:20} {}\".format(reverse_vocab[word], reverse_tag_map[tag], reverse_tag_map[pred]))\n",
        "\n"
      ],
      "execution_count": null,
      "outputs": [
        {
          "output_type": "stream",
          "text": [
            "Sample number 1175 of 2444 (Test Set)\n",
            "Word                ||True                ||Pred\n",
            "============================================================\n",
            "did                 : O                    O\n",
            "steven              : B-DIRECTOR           B-DIRECTOR\n",
            "spielberg           : I-DIRECTOR           I-DIRECTOR\n",
            "direct              : O                    O\n",
            "any                 : O                    O\n",
            "horror              : B-GENRE              B-GENRE\n",
            "movie               : O                    O\n",
            "in                  : O                    O\n",
            "the                 : O                    O\n",
            "1980                : B-YEAR               B-YEAR\n",
            "s                   : I-YEAR               I-YEAR\n"
          ],
          "name": "stdout"
        }
      ]
    },
    {
      "cell_type": "markdown",
      "metadata": {
        "id": "sNtJLetx4Sb_"
      },
      "source": [
        "<a name=\"6\"></a>\n",
        "# Part 6:  Test with your own sentence"
      ]
    },
    {
      "cell_type": "code",
      "metadata": {
        "id": "V0niUrOnVskX",
        "colab": {
          "base_uri": "https://localhost:8080/",
          "height": 722
        },
        "outputId": "51453fb1-958b-4b99-c405-6b8e4a705b57"
      },
      "source": [
        "# if this cell fails => run the 2nd time, it will work\n",
        "\n",
        "original_to_test = [\"is michael scofield the protagonist in prison break\", \n",
        "                    \"what is the highest rated romantic movie in all time\"]\n",
        "\n",
        "to_test = apply_preproc(original_to_test)\n",
        "\n",
        "vocab_tokenizer.fit_on_texts(to_test)\n",
        "to_test = vocab_tokenizer.texts_to_sequences(to_test)\n",
        "\n",
        "to_test = pad_sequences(to_test,\n",
        "                        maxlen=max_length, \n",
        "                        truncating=trunc_type, \n",
        "                        padding=pad_type)\n",
        "\n",
        "to_test_tag_pred = model.predict(to_test)\n",
        "to_test_tag_pred = np.argmax(to_test_tag_pred, axis=-1)\n",
        "\n",
        "for i, row in enumerate(to_test_tag_pred):\n",
        "    print(\"\\n{:20}||{}\".format(\"Word\", \"Pred\"))\n",
        "    print(40 * \"=\")\n",
        "    for j, pred in enumerate(row):\n",
        "        words = original_to_test[i].split(' ')\n",
        "        length = len(words)\n",
        "        if pred != 0 and j < length:\n",
        "            print(\"{:20}: {}\".format(words[j], reverse_tag_map[pred]))\n",
        "            "
      ],
      "execution_count": null,
      "outputs": [
        {
          "output_type": "error",
          "ename": "InvalidArgumentError",
          "evalue": "ignored",
          "traceback": [
            "\u001b[0;31m---------------------------------------------------------------------------\u001b[0m",
            "\u001b[0;31mInvalidArgumentError\u001b[0m                      Traceback (most recent call last)",
            "\u001b[0;32m<ipython-input-32-c4e2d3b9d23e>\u001b[0m in \u001b[0;36m<module>\u001b[0;34m()\u001b[0m\n\u001b[1;32m     14\u001b[0m                         padding=pad_type)\n\u001b[1;32m     15\u001b[0m \u001b[0;34m\u001b[0m\u001b[0m\n\u001b[0;32m---> 16\u001b[0;31m \u001b[0mto_test_tag_pred\u001b[0m \u001b[0;34m=\u001b[0m \u001b[0mmodel\u001b[0m\u001b[0;34m.\u001b[0m\u001b[0mpredict\u001b[0m\u001b[0;34m(\u001b[0m\u001b[0mto_test\u001b[0m\u001b[0;34m)\u001b[0m\u001b[0;34m\u001b[0m\u001b[0;34m\u001b[0m\u001b[0m\n\u001b[0m\u001b[1;32m     17\u001b[0m \u001b[0mto_test_tag_pred\u001b[0m \u001b[0;34m=\u001b[0m \u001b[0mnp\u001b[0m\u001b[0;34m.\u001b[0m\u001b[0margmax\u001b[0m\u001b[0;34m(\u001b[0m\u001b[0mto_test_tag_pred\u001b[0m\u001b[0;34m,\u001b[0m \u001b[0maxis\u001b[0m\u001b[0;34m=\u001b[0m\u001b[0;34m-\u001b[0m\u001b[0;36m1\u001b[0m\u001b[0;34m)\u001b[0m\u001b[0;34m\u001b[0m\u001b[0;34m\u001b[0m\u001b[0m\n\u001b[1;32m     18\u001b[0m \u001b[0;34m\u001b[0m\u001b[0m\n",
            "\u001b[0;32m/usr/local/lib/python3.7/dist-packages/tensorflow/python/keras/engine/training.py\u001b[0m in \u001b[0;36mpredict\u001b[0;34m(self, x, batch_size, verbose, steps, callbacks, max_queue_size, workers, use_multiprocessing)\u001b[0m\n\u001b[1;32m   1725\u001b[0m           \u001b[0;32mfor\u001b[0m \u001b[0mstep\u001b[0m \u001b[0;32min\u001b[0m \u001b[0mdata_handler\u001b[0m\u001b[0;34m.\u001b[0m\u001b[0msteps\u001b[0m\u001b[0;34m(\u001b[0m\u001b[0;34m)\u001b[0m\u001b[0;34m:\u001b[0m\u001b[0;34m\u001b[0m\u001b[0;34m\u001b[0m\u001b[0m\n\u001b[1;32m   1726\u001b[0m             \u001b[0mcallbacks\u001b[0m\u001b[0;34m.\u001b[0m\u001b[0mon_predict_batch_begin\u001b[0m\u001b[0;34m(\u001b[0m\u001b[0mstep\u001b[0m\u001b[0;34m)\u001b[0m\u001b[0;34m\u001b[0m\u001b[0;34m\u001b[0m\u001b[0m\n\u001b[0;32m-> 1727\u001b[0;31m             \u001b[0mtmp_batch_outputs\u001b[0m \u001b[0;34m=\u001b[0m \u001b[0mself\u001b[0m\u001b[0;34m.\u001b[0m\u001b[0mpredict_function\u001b[0m\u001b[0;34m(\u001b[0m\u001b[0miterator\u001b[0m\u001b[0;34m)\u001b[0m\u001b[0;34m\u001b[0m\u001b[0;34m\u001b[0m\u001b[0m\n\u001b[0m\u001b[1;32m   1728\u001b[0m             \u001b[0;32mif\u001b[0m \u001b[0mdata_handler\u001b[0m\u001b[0;34m.\u001b[0m\u001b[0mshould_sync\u001b[0m\u001b[0;34m:\u001b[0m\u001b[0;34m\u001b[0m\u001b[0;34m\u001b[0m\u001b[0m\n\u001b[1;32m   1729\u001b[0m               \u001b[0mcontext\u001b[0m\u001b[0;34m.\u001b[0m\u001b[0masync_wait\u001b[0m\u001b[0;34m(\u001b[0m\u001b[0;34m)\u001b[0m\u001b[0;34m\u001b[0m\u001b[0;34m\u001b[0m\u001b[0m\n",
            "\u001b[0;32m/usr/local/lib/python3.7/dist-packages/tensorflow/python/eager/def_function.py\u001b[0m in \u001b[0;36m__call__\u001b[0;34m(self, *args, **kwds)\u001b[0m\n\u001b[1;32m    887\u001b[0m \u001b[0;34m\u001b[0m\u001b[0m\n\u001b[1;32m    888\u001b[0m       \u001b[0;32mwith\u001b[0m \u001b[0mOptionalXlaContext\u001b[0m\u001b[0;34m(\u001b[0m\u001b[0mself\u001b[0m\u001b[0;34m.\u001b[0m\u001b[0m_jit_compile\u001b[0m\u001b[0;34m)\u001b[0m\u001b[0;34m:\u001b[0m\u001b[0;34m\u001b[0m\u001b[0;34m\u001b[0m\u001b[0m\n\u001b[0;32m--> 889\u001b[0;31m         \u001b[0mresult\u001b[0m \u001b[0;34m=\u001b[0m \u001b[0mself\u001b[0m\u001b[0;34m.\u001b[0m\u001b[0m_call\u001b[0m\u001b[0;34m(\u001b[0m\u001b[0;34m*\u001b[0m\u001b[0margs\u001b[0m\u001b[0;34m,\u001b[0m \u001b[0;34m**\u001b[0m\u001b[0mkwds\u001b[0m\u001b[0;34m)\u001b[0m\u001b[0;34m\u001b[0m\u001b[0;34m\u001b[0m\u001b[0m\n\u001b[0m\u001b[1;32m    890\u001b[0m \u001b[0;34m\u001b[0m\u001b[0m\n\u001b[1;32m    891\u001b[0m       \u001b[0mnew_tracing_count\u001b[0m \u001b[0;34m=\u001b[0m \u001b[0mself\u001b[0m\u001b[0;34m.\u001b[0m\u001b[0mexperimental_get_tracing_count\u001b[0m\u001b[0;34m(\u001b[0m\u001b[0;34m)\u001b[0m\u001b[0;34m\u001b[0m\u001b[0;34m\u001b[0m\u001b[0m\n",
            "\u001b[0;32m/usr/local/lib/python3.7/dist-packages/tensorflow/python/eager/def_function.py\u001b[0m in \u001b[0;36m_call\u001b[0;34m(self, *args, **kwds)\u001b[0m\n\u001b[1;32m    922\u001b[0m       \u001b[0;31m# In this case we have not created variables on the first call. So we can\u001b[0m\u001b[0;34m\u001b[0m\u001b[0;34m\u001b[0m\u001b[0;34m\u001b[0m\u001b[0m\n\u001b[1;32m    923\u001b[0m       \u001b[0;31m# run the first trace but we should fail if variables are created.\u001b[0m\u001b[0;34m\u001b[0m\u001b[0;34m\u001b[0m\u001b[0;34m\u001b[0m\u001b[0m\n\u001b[0;32m--> 924\u001b[0;31m       \u001b[0mresults\u001b[0m \u001b[0;34m=\u001b[0m \u001b[0mself\u001b[0m\u001b[0;34m.\u001b[0m\u001b[0m_stateful_fn\u001b[0m\u001b[0;34m(\u001b[0m\u001b[0;34m*\u001b[0m\u001b[0margs\u001b[0m\u001b[0;34m,\u001b[0m \u001b[0;34m**\u001b[0m\u001b[0mkwds\u001b[0m\u001b[0;34m)\u001b[0m\u001b[0;34m\u001b[0m\u001b[0;34m\u001b[0m\u001b[0m\n\u001b[0m\u001b[1;32m    925\u001b[0m       \u001b[0;32mif\u001b[0m \u001b[0mself\u001b[0m\u001b[0;34m.\u001b[0m\u001b[0m_created_variables\u001b[0m\u001b[0;34m:\u001b[0m\u001b[0;34m\u001b[0m\u001b[0;34m\u001b[0m\u001b[0m\n\u001b[1;32m    926\u001b[0m         raise ValueError(\"Creating variables on a non-first call to a function\"\n",
            "\u001b[0;32m/usr/local/lib/python3.7/dist-packages/tensorflow/python/eager/function.py\u001b[0m in \u001b[0;36m__call__\u001b[0;34m(self, *args, **kwargs)\u001b[0m\n\u001b[1;32m   3022\u001b[0m        filtered_flat_args) = self._maybe_define_function(args, kwargs)\n\u001b[1;32m   3023\u001b[0m     return graph_function._call_flat(\n\u001b[0;32m-> 3024\u001b[0;31m         filtered_flat_args, captured_inputs=graph_function.captured_inputs)  # pylint: disable=protected-access\n\u001b[0m\u001b[1;32m   3025\u001b[0m \u001b[0;34m\u001b[0m\u001b[0m\n\u001b[1;32m   3026\u001b[0m   \u001b[0;34m@\u001b[0m\u001b[0mproperty\u001b[0m\u001b[0;34m\u001b[0m\u001b[0;34m\u001b[0m\u001b[0m\n",
            "\u001b[0;32m/usr/local/lib/python3.7/dist-packages/tensorflow/python/eager/function.py\u001b[0m in \u001b[0;36m_call_flat\u001b[0;34m(self, args, captured_inputs, cancellation_manager)\u001b[0m\n\u001b[1;32m   1959\u001b[0m       \u001b[0;31m# No tape is watching; skip to running the function.\u001b[0m\u001b[0;34m\u001b[0m\u001b[0;34m\u001b[0m\u001b[0;34m\u001b[0m\u001b[0m\n\u001b[1;32m   1960\u001b[0m       return self._build_call_outputs(self._inference_function.call(\n\u001b[0;32m-> 1961\u001b[0;31m           ctx, args, cancellation_manager=cancellation_manager))\n\u001b[0m\u001b[1;32m   1962\u001b[0m     forward_backward = self._select_forward_and_backward_functions(\n\u001b[1;32m   1963\u001b[0m         \u001b[0margs\u001b[0m\u001b[0;34m,\u001b[0m\u001b[0;34m\u001b[0m\u001b[0;34m\u001b[0m\u001b[0m\n",
            "\u001b[0;32m/usr/local/lib/python3.7/dist-packages/tensorflow/python/eager/function.py\u001b[0m in \u001b[0;36mcall\u001b[0;34m(self, ctx, args, cancellation_manager)\u001b[0m\n\u001b[1;32m    594\u001b[0m               \u001b[0minputs\u001b[0m\u001b[0;34m=\u001b[0m\u001b[0margs\u001b[0m\u001b[0;34m,\u001b[0m\u001b[0;34m\u001b[0m\u001b[0;34m\u001b[0m\u001b[0m\n\u001b[1;32m    595\u001b[0m               \u001b[0mattrs\u001b[0m\u001b[0;34m=\u001b[0m\u001b[0mattrs\u001b[0m\u001b[0;34m,\u001b[0m\u001b[0;34m\u001b[0m\u001b[0;34m\u001b[0m\u001b[0m\n\u001b[0;32m--> 596\u001b[0;31m               ctx=ctx)\n\u001b[0m\u001b[1;32m    597\u001b[0m         \u001b[0;32melse\u001b[0m\u001b[0;34m:\u001b[0m\u001b[0;34m\u001b[0m\u001b[0;34m\u001b[0m\u001b[0m\n\u001b[1;32m    598\u001b[0m           outputs = execute.execute_with_cancellation(\n",
            "\u001b[0;32m/usr/local/lib/python3.7/dist-packages/tensorflow/python/eager/execute.py\u001b[0m in \u001b[0;36mquick_execute\u001b[0;34m(op_name, num_outputs, inputs, attrs, ctx, name)\u001b[0m\n\u001b[1;32m     58\u001b[0m     \u001b[0mctx\u001b[0m\u001b[0;34m.\u001b[0m\u001b[0mensure_initialized\u001b[0m\u001b[0;34m(\u001b[0m\u001b[0;34m)\u001b[0m\u001b[0;34m\u001b[0m\u001b[0;34m\u001b[0m\u001b[0m\n\u001b[1;32m     59\u001b[0m     tensors = pywrap_tfe.TFE_Py_Execute(ctx._handle, device_name, op_name,\n\u001b[0;32m---> 60\u001b[0;31m                                         inputs, attrs, num_outputs)\n\u001b[0m\u001b[1;32m     61\u001b[0m   \u001b[0;32mexcept\u001b[0m \u001b[0mcore\u001b[0m\u001b[0;34m.\u001b[0m\u001b[0m_NotOkStatusException\u001b[0m \u001b[0;32mas\u001b[0m \u001b[0me\u001b[0m\u001b[0;34m:\u001b[0m\u001b[0;34m\u001b[0m\u001b[0;34m\u001b[0m\u001b[0m\n\u001b[1;32m     62\u001b[0m     \u001b[0;32mif\u001b[0m \u001b[0mname\u001b[0m \u001b[0;32mis\u001b[0m \u001b[0;32mnot\u001b[0m \u001b[0;32mNone\u001b[0m\u001b[0;34m:\u001b[0m\u001b[0;34m\u001b[0m\u001b[0;34m\u001b[0m\u001b[0m\n",
            "\u001b[0;31mInvalidArgumentError\u001b[0m: 2 root error(s) found.\n  (0) Invalid argument:  indices[0,2] = 5583 is not in [0, 5583)\n\t [[node model/embedding/embedding_lookup (defined at <ipython-input-27-733853abd5d6>:2) ]]\n  (1) Invalid argument:  indices[0,2] = 5583 is not in [0, 5583)\n\t [[node model/embedding/embedding_lookup (defined at <ipython-input-27-733853abd5d6>:2) ]]\n\t [[model/embedding/embedding_lookup/_6]]\n0 successful operations.\n0 derived errors ignored. [Op:__inference_predict_function_17969]\n\nErrors may have originated from an input operation.\nInput Source operations connected to node model/embedding/embedding_lookup:\n model/embedding/embedding_lookup/17449 (defined at /usr/lib/python3.7/contextlib.py:112)\n\nInput Source operations connected to node model/embedding/embedding_lookup:\n model/embedding/embedding_lookup/17449 (defined at /usr/lib/python3.7/contextlib.py:112)\n\nFunction call stack:\npredict_function -> predict_function\n"
          ]
        }
      ]
    },
    {
      "cell_type": "markdown",
      "metadata": {
        "id": "WZJApvzvaJcy"
      },
      "source": [
        "<a name=\"7\"></a>\n",
        "# Part 7: Analyse the incorrect predictions"
      ]
    },
    {
      "cell_type": "code",
      "metadata": {
        "id": "fb8q_rD4aNRH"
      },
      "source": [
        "def get_incorrect(y_pred, y_true, X_test):\n",
        "    y_pred.flatten()\n",
        "    y_true.flatten()\n",
        "    X_test.flatten()\n",
        "    where_incorrect = y_true != y_pred\n",
        "    incorrect_idxes = np.where(where_incorrect==1)[0]\n",
        "    incorrect_tokens = X_test[incorrect_idxes]\n",
        "    incorrect_tokens = dict(Counter(incorrect_tokens.flatten()))\n",
        "    incorrect_tags = y_true[incorrect_idxes]\n",
        "    incorrect_tags = dict(Counter(incorrect_tags.flatten()))\n",
        "    return incorrect_tokens, incorrect_tags\n",
        "\n",
        "\n",
        "incorrect_tokens, incorrect_tags = get_incorrect(test_padded_tags_pred, \n",
        "                                                 test_padded_tags_true, \n",
        "                                                 test_padded_sequences) \n",
        "\n",
        "incorrect_tokens = sorted(incorrect_tokens.items(), key=lambda x:x[1], reverse=True)\n",
        "incorrect_tags = sorted(incorrect_tags.items(), key=lambda x:x[1], reverse=True)\n",
        "\n",
        "print(\"{:^20}||{:^15}\".format(\"Incorrect word\", \"Frequency\"))\n",
        "print(37 * \"=\")\n",
        "for idx, count in incorrect_tokens[:20]:\n",
        "    if idx != 0:\n",
        "        print(\"{:20}: {:15}\".format(reverse_vocab[idx], count))\n",
        "\n",
        "print(\"\\n{:^20}||{:^15}\".format(\"Incorrect tag\", \"Frequency\"))\n",
        "print(37 * \"=\")\n",
        "for idx, count in incorrect_tags[:20]:\n",
        "    if idx != 0:\n",
        "        print(\"{:20}: {:15}\".format(reverse_tag_map[idx], count))\n"
      ],
      "execution_count": null,
      "outputs": []
    },
    {
      "cell_type": "markdown",
      "metadata": {
        "id": "5rOw_59Ztzy7"
      },
      "source": [
        "## Conclusion after analysis "
      ]
    },
    {
      "cell_type": "markdown",
      "metadata": {
        "id": "NiAN2Zy--j-_"
      },
      "source": [
        "1. A lot of incorrect words are stopwords, due to their occurence in the movie titles/plots sometimes. This is the problem of token label inconsistency.\n",
        "2. The values of macro-average are much lower than micro-average of Precision, Recall and F1-score, as a result of imbalanced classes.\n"
      ]
    },
    {
      "cell_type": "markdown",
      "metadata": {
        "id": "N2J2LDiBRkyq"
      },
      "source": [
        "## Potential improvements"
      ]
    },
    {
      "cell_type": "markdown",
      "metadata": {
        "id": "9aBUF7SIHVhd"
      },
      "source": [
        "1. To tackle imbalanced classes problem, use over-sample to gain more examples of tags from the minority groups.\n",
        "2. To tackle label inconsistency, there're 3 solutions:\n",
        "\n",
        "  *   Use larger context. For example, use longer sentences, or combine 2 or more sentences that have similar/corelated meaning.\n",
        "  *   Use CRF decoder layer.\n",
        "  *   Use Character/Subword-level encoders like ELMO, Flair, CNN and BERT. \n",
        "\n"
      ]
    },
    {
      "cell_type": "markdown",
      "metadata": {
        "id": "NkJ8Go7BVVgz"
      },
      "source": [
        "<a name=\"8\"></a>\n",
        "# Export result to .tsv file"
      ]
    },
    {
      "cell_type": "code",
      "metadata": {
        "id": "3EQxLZgzRdL9"
      },
      "source": [
        "# write result to a new txt file\n",
        "with open('/tmp/pred.tsv', 'wt') as out_file:\n",
        "    tsv_writer = csv.writer(out_file, delimiter='\\t')\n",
        "    test_size = len(test_padded_sequences)\n",
        "    for i in range(test_size):\n",
        "        for pred, word in zip(test_padded_tags_pred[i], test_padded_sequences[i]):\n",
        "            if pred != 0 and word != 0:\n",
        "                tsv_writer.writerow([reverse_tag_map[pred], reverse_vocab[word]])\n",
        "        tsv_writer.writerow([])"
      ],
      "execution_count": null,
      "outputs": []
    }
  ]
}